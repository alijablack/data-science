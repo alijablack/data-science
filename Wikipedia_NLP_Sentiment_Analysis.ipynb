{
  "nbformat": 4,
  "nbformat_minor": 0,
  "metadata": {
    "colab": {
      "name": "Wikipedia NLP Sentiment Analysis.ipynb",
      "provenance": [],
      "collapsed_sections": [
        "QPRb27792v7k",
        "smtVjMWsiBXm",
        "D1d6vSUfFLr9",
        "E6YPCAqz2Kry"
      ],
      "toc_visible": true,
      "include_colab_link": true
    },
    "kernelspec": {
      "name": "python3",
      "display_name": "Python 3"
    }
  },
  "cells": [
    {
      "cell_type": "markdown",
      "metadata": {
        "id": "view-in-github",
        "colab_type": "text"
      },
      "source": [
        "<a href=\"https://colab.research.google.com/github/alijablack/data-science/blob/main/Wikipedia_NLP_Sentiment_Analysis.ipynb\" target=\"_parent\"><img src=\"https://colab.research.google.com/assets/colab-badge.svg\" alt=\"Open In Colab\"/></a>"
      ]
    },
    {
      "cell_type": "markdown",
      "metadata": {
        "id": "ObKJgotl2NG9"
      },
      "source": [
        "# Natural Language Processing"
      ]
    },
    {
      "cell_type": "markdown",
      "metadata": {
        "id": "9wX9ug752WRU"
      },
      "source": [
        "## Problem Statement\n",
        "\n",
        "Use natural language processing on Wikipedia articles to identify the overall sentiment analysis for a page and number of authors."
      ]
    },
    {
      "cell_type": "markdown",
      "metadata": {
        "id": "QPRb27792v7k"
      },
      "source": [
        "## Data Collection"
      ]
    },
    {
      "cell_type": "code",
      "metadata": {
        "id": "jwMwnukGyPOM"
      },
      "source": [
        "from google.colab import drive\n",
        "drive.mount('/content/drive')"
      ],
      "execution_count": null,
      "outputs": []
    },
    {
      "cell_type": "code",
      "metadata": {
        "id": "wVpcwBNxVeft",
        "colab": {
          "base_uri": "https://localhost:8080/",
          "height": 255
        },
        "outputId": "974d94e9-6947-4984-f5d9-8ca8c2a21d81"
      },
      "source": [
        "!python -m textblob.download_corpora"
      ],
      "execution_count": null,
      "outputs": [
        {
          "output_type": "stream",
          "text": [
            "[nltk_data] Downloading package brown to /root/nltk_data...\n",
            "[nltk_data]   Unzipping corpora/brown.zip.\n",
            "[nltk_data] Downloading package punkt to /root/nltk_data...\n",
            "[nltk_data]   Unzipping tokenizers/punkt.zip.\n",
            "[nltk_data] Downloading package wordnet to /root/nltk_data...\n",
            "[nltk_data]   Unzipping corpora/wordnet.zip.\n",
            "[nltk_data] Downloading package averaged_perceptron_tagger to\n",
            "[nltk_data]     /root/nltk_data...\n",
            "[nltk_data]   Unzipping taggers/averaged_perceptron_tagger.zip.\n",
            "[nltk_data] Downloading package conll2000 to /root/nltk_data...\n",
            "[nltk_data]   Unzipping corpora/conll2000.zip.\n",
            "[nltk_data] Downloading package movie_reviews to /root/nltk_data...\n",
            "[nltk_data]   Unzipping corpora/movie_reviews.zip.\n",
            "Finished.\n"
          ],
          "name": "stdout"
        }
      ]
    },
    {
      "cell_type": "code",
      "metadata": {
        "id": "dRHWEE1bVFcK"
      },
      "source": [
        "from textblob import TextBlob\n",
        "import numpy as np\n",
        "import pandas as pd\n",
        "from sklearn.neighbors import NearestNeighbors\n",
        "from sklearn.feature_extraction.text import CountVectorizer"
      ],
      "execution_count": null,
      "outputs": []
    },
    {
      "cell_type": "code",
      "metadata": {
        "id": "EssMX0Pb07Bo"
      },
      "source": [
        "people_path = '/content/drive/My Drive/Copy of people_db.csv'\n",
        "people_df = pd.read_csv(people_path)"
      ],
      "execution_count": null,
      "outputs": []
    },
    {
      "cell_type": "markdown",
      "metadata": {
        "id": "uaY5PTEs2Kx3"
      },
      "source": [
        "## Exploratory Data Analysis"
      ]
    },
    {
      "cell_type": "markdown",
      "metadata": {
        "id": "IZ8ifOxfFF7Z"
      },
      "source": [
        "## Part 1 of Project\n",
        "\n"
      ]
    },
    {
      "cell_type": "markdown",
      "metadata": {
        "id": "kf6YpnBh3k2v"
      },
      "source": [
        "This dataset from dbpedia includes over 42,000 entries."
      ]
    },
    {
      "cell_type": "code",
      "metadata": {
        "id": "ADtf_M323EnI",
        "colab": {
          "base_uri": "https://localhost:8080/",
          "height": 275
        },
        "outputId": "c5c74996-c16f-48c1-ac0a-58c2ee34af01"
      },
      "source": [
        "people_df.info"
      ],
      "execution_count": null,
      "outputs": [
        {
          "output_type": "execute_result",
          "data": {
            "text/plain": [
              "<bound method DataFrame.info of                                                      URI  ...                                               text\n",
              "0            <http://dbpedia.org/resource/Digby_Morrell>  ...  digby morrell born 10 october 1979 is a former...\n",
              "1           <http://dbpedia.org/resource/Alfred_J._Lewy>  ...  alfred j lewy aka sandy lewy graduated from un...\n",
              "2            <http://dbpedia.org/resource/Harpdog_Brown>  ...  harpdog brown is a singer and harmonica player...\n",
              "3      <http://dbpedia.org/resource/Franz_Rottensteiner>  ...  franz rottensteiner born in waidmannsfeld lowe...\n",
              "4                   <http://dbpedia.org/resource/G-Enka>  ...  henry krvits born 30 december 1974 in tallinn ...\n",
              "...                                                  ...  ...                                                ...\n",
              "42781   <http://dbpedia.org/resource/Motoaki_Takenouchi>  ...  motoaki takenouchi born july 8 1967 saitama pr...\n",
              "42782  <http://dbpedia.org/resource/Alan_Judge_(footb...  ...  alan graham judge born 14 may 1960 is a retire...\n",
              "42783         <http://dbpedia.org/resource/Eduardo_Lara>  ...  eduardo lara lozano born 4 september 1959 in c...\n",
              "42784  <http://dbpedia.org/resource/Tatiana_Faberg%C3...  ...  tatiana faberg is an author and faberg scholar...\n",
              "42785       <http://dbpedia.org/resource/Kenneth_Thomas>  ...  kenneth thomas born february 24 1938 was chief...\n",
              "\n",
              "[42786 rows x 3 columns]>"
            ]
          },
          "metadata": {
            "tags": []
          },
          "execution_count": 5
        }
      ]
    },
    {
      "cell_type": "markdown",
      "metadata": {
        "id": "o0NMIW7PEt2R"
      },
      "source": [
        "Explore the first 100 to decide who to choose."
      ]
    },
    {
      "cell_type": "code",
      "metadata": {
        "id": "QNRiqX6M3wUe",
        "colab": {
          "base_uri": "https://localhost:8080/",
          "height": 225
        },
        "outputId": "5feb0989-5557-419e-c8d7-d96cfe03697e"
      },
      "source": [
        "people_df.head(100).T"
      ],
      "execution_count": null,
      "outputs": [
        {
          "output_type": "execute_result",
          "data": {
            "text/html": [
              "<div>\n",
              "<style scoped>\n",
              "    .dataframe tbody tr th:only-of-type {\n",
              "        vertical-align: middle;\n",
              "    }\n",
              "\n",
              "    .dataframe tbody tr th {\n",
              "        vertical-align: top;\n",
              "    }\n",
              "\n",
              "    .dataframe thead th {\n",
              "        text-align: right;\n",
              "    }\n",
              "</style>\n",
              "<table border=\"1\" class=\"dataframe\">\n",
              "  <thead>\n",
              "    <tr style=\"text-align: right;\">\n",
              "      <th></th>\n",
              "      <th>0</th>\n",
              "      <th>1</th>\n",
              "      <th>2</th>\n",
              "      <th>3</th>\n",
              "      <th>4</th>\n",
              "      <th>5</th>\n",
              "      <th>6</th>\n",
              "      <th>7</th>\n",
              "      <th>8</th>\n",
              "      <th>9</th>\n",
              "      <th>10</th>\n",
              "      <th>11</th>\n",
              "      <th>12</th>\n",
              "      <th>13</th>\n",
              "      <th>14</th>\n",
              "      <th>15</th>\n",
              "      <th>16</th>\n",
              "      <th>17</th>\n",
              "      <th>18</th>\n",
              "      <th>19</th>\n",
              "      <th>20</th>\n",
              "      <th>21</th>\n",
              "      <th>22</th>\n",
              "      <th>23</th>\n",
              "      <th>24</th>\n",
              "      <th>25</th>\n",
              "      <th>26</th>\n",
              "      <th>27</th>\n",
              "      <th>28</th>\n",
              "      <th>29</th>\n",
              "      <th>30</th>\n",
              "      <th>31</th>\n",
              "      <th>32</th>\n",
              "      <th>33</th>\n",
              "      <th>34</th>\n",
              "      <th>35</th>\n",
              "      <th>36</th>\n",
              "      <th>37</th>\n",
              "      <th>38</th>\n",
              "      <th>39</th>\n",
              "      <th>...</th>\n",
              "      <th>60</th>\n",
              "      <th>61</th>\n",
              "      <th>62</th>\n",
              "      <th>63</th>\n",
              "      <th>64</th>\n",
              "      <th>65</th>\n",
              "      <th>66</th>\n",
              "      <th>67</th>\n",
              "      <th>68</th>\n",
              "      <th>69</th>\n",
              "      <th>70</th>\n",
              "      <th>71</th>\n",
              "      <th>72</th>\n",
              "      <th>73</th>\n",
              "      <th>74</th>\n",
              "      <th>75</th>\n",
              "      <th>76</th>\n",
              "      <th>77</th>\n",
              "      <th>78</th>\n",
              "      <th>79</th>\n",
              "      <th>80</th>\n",
              "      <th>81</th>\n",
              "      <th>82</th>\n",
              "      <th>83</th>\n",
              "      <th>84</th>\n",
              "      <th>85</th>\n",
              "      <th>86</th>\n",
              "      <th>87</th>\n",
              "      <th>88</th>\n",
              "      <th>89</th>\n",
              "      <th>90</th>\n",
              "      <th>91</th>\n",
              "      <th>92</th>\n",
              "      <th>93</th>\n",
              "      <th>94</th>\n",
              "      <th>95</th>\n",
              "      <th>96</th>\n",
              "      <th>97</th>\n",
              "      <th>98</th>\n",
              "      <th>99</th>\n",
              "    </tr>\n",
              "  </thead>\n",
              "  <tbody>\n",
              "    <tr>\n",
              "      <th>URI</th>\n",
              "      <td>&lt;http://dbpedia.org/resource/Digby_Morrell&gt;</td>\n",
              "      <td>&lt;http://dbpedia.org/resource/Alfred_J._Lewy&gt;</td>\n",
              "      <td>&lt;http://dbpedia.org/resource/Harpdog_Brown&gt;</td>\n",
              "      <td>&lt;http://dbpedia.org/resource/Franz_Rottensteiner&gt;</td>\n",
              "      <td>&lt;http://dbpedia.org/resource/G-Enka&gt;</td>\n",
              "      <td>&lt;http://dbpedia.org/resource/Sam_Henderson&gt;</td>\n",
              "      <td>&lt;http://dbpedia.org/resource/Aaron_LaCrate&gt;</td>\n",
              "      <td>&lt;http://dbpedia.org/resource/Trevor_Ferguson&gt;</td>\n",
              "      <td>&lt;http://dbpedia.org/resource/Grant_Nelson&gt;</td>\n",
              "      <td>&lt;http://dbpedia.org/resource/Cathy_Caruth&gt;</td>\n",
              "      <td>&lt;http://dbpedia.org/resource/Sophie_Crumb&gt;</td>\n",
              "      <td>&lt;http://dbpedia.org/resource/Jenn_Ashworth&gt;</td>\n",
              "      <td>&lt;http://dbpedia.org/resource/Jonathan_Hoefler&gt;</td>\n",
              "      <td>&lt;http://dbpedia.org/resource/Anthony_Gueterboc...</td>\n",
              "      <td>&lt;http://dbpedia.org/resource/David_Chernushenko&gt;</td>\n",
              "      <td>&lt;http://dbpedia.org/resource/Joerg_Steineck&gt;</td>\n",
              "      <td>&lt;http://dbpedia.org/resource/Andrew_Pinsent&gt;</td>\n",
              "      <td>&lt;http://dbpedia.org/resource/Paddy_Dunne_(Gael...</td>\n",
              "      <td>&lt;http://dbpedia.org/resource/Alexandros_Mouzas&gt;</td>\n",
              "      <td>&lt;http://dbpedia.org/resource/John_Angus_Campbell&gt;</td>\n",
              "      <td>&lt;http://dbpedia.org/resource/Chris_Batstone&gt;</td>\n",
              "      <td>&lt;http://dbpedia.org/resource/Ceiron_Thomas&gt;</td>\n",
              "      <td>&lt;http://dbpedia.org/resource/Adel_Sellimi&gt;</td>\n",
              "      <td>&lt;http://dbpedia.org/resource/Faith_Soloway&gt;</td>\n",
              "      <td>&lt;http://dbpedia.org/resource/Tom_Jennings&gt;</td>\n",
              "      <td>&lt;http://dbpedia.org/resource/Vic_Stasiuk&gt;</td>\n",
              "      <td>&lt;http://dbpedia.org/resource/Anthony_Caruana&gt;</td>\n",
              "      <td>&lt;http://dbpedia.org/resource/Ian_Mitchell_(aut...</td>\n",
              "      <td>&lt;http://dbpedia.org/resource/Leon_Hapgood&gt;</td>\n",
              "      <td>&lt;http://dbpedia.org/resource/Emily_Osment&gt;</td>\n",
              "      <td>&lt;http://dbpedia.org/resource/Dom_Flora&gt;</td>\n",
              "      <td>&lt;http://dbpedia.org/resource/Ted_Hill_(mathema...</td>\n",
              "      <td>&lt;http://dbpedia.org/resource/Mindaugas_Murza&gt;</td>\n",
              "      <td>&lt;http://dbpedia.org/resource/Bob_Reece&gt;</td>\n",
              "      <td>&lt;http://dbpedia.org/resource/Douglas_Davies&gt;</td>\n",
              "      <td>&lt;http://dbpedia.org/resource/Freimut_B%C3%B6rn...</td>\n",
              "      <td>&lt;http://dbpedia.org/resource/Th%C3%BCring_Br%C...</td>\n",
              "      <td>&lt;http://dbpedia.org/resource/Aharon_Solomons&gt;</td>\n",
              "      <td>&lt;http://dbpedia.org/resource/Steven_Weil&gt;</td>\n",
              "      <td>&lt;http://dbpedia.org/resource/Gary_Emineth&gt;</td>\n",
              "      <td>...</td>\n",
              "      <td>&lt;http://dbpedia.org/resource/David_Vernon_Will...</td>\n",
              "      <td>&lt;http://dbpedia.org/resource/Guillermo_Roux&gt;</td>\n",
              "      <td>&lt;http://dbpedia.org/resource/William_J._Ely&gt;</td>\n",
              "      <td>&lt;http://dbpedia.org/resource/Alan_Roper&gt;</td>\n",
              "      <td>&lt;http://dbpedia.org/resource/Bob_Havens&gt;</td>\n",
              "      <td>&lt;http://dbpedia.org/resource/Susan_Christie&gt;</td>\n",
              "      <td>&lt;http://dbpedia.org/resource/Elizabeth_Gunn_(a...</td>\n",
              "      <td>&lt;http://dbpedia.org/resource/Bo_Hampton&gt;</td>\n",
              "      <td>&lt;http://dbpedia.org/resource/Milva&gt;</td>\n",
              "      <td>&lt;http://dbpedia.org/resource/Will_Tiao&gt;</td>\n",
              "      <td>&lt;http://dbpedia.org/resource/Quintin_E._Primo_...</td>\n",
              "      <td>&lt;http://dbpedia.org/resource/Geoffrey_Bayldon&gt;</td>\n",
              "      <td>&lt;http://dbpedia.org/resource/Ulf-Dietrich_Reips&gt;</td>\n",
              "      <td>&lt;http://dbpedia.org/resource/Marcel_J._Melan%C...</td>\n",
              "      <td>&lt;http://dbpedia.org/resource/Mike_Powell_(jour...</td>\n",
              "      <td>&lt;http://dbpedia.org/resource/Vladimir_Yurchenko&gt;</td>\n",
              "      <td>&lt;http://dbpedia.org/resource/Nobuo_Uematsu&gt;</td>\n",
              "      <td>&lt;http://dbpedia.org/resource/John_Warner_(writ...</td>\n",
              "      <td>&lt;http://dbpedia.org/resource/Doug_McIntosh&gt;</td>\n",
              "      <td>&lt;http://dbpedia.org/resource/Avi_Muchnick&gt;</td>\n",
              "      <td>&lt;http://dbpedia.org/resource/Robin_MacPherson&gt;</td>\n",
              "      <td>&lt;http://dbpedia.org/resource/Judi_Silvano&gt;</td>\n",
              "      <td>&lt;http://dbpedia.org/resource/Evelin_Lindner&gt;</td>\n",
              "      <td>&lt;http://dbpedia.org/resource/Robert_S._Gold&gt;</td>\n",
              "      <td>&lt;http://dbpedia.org/resource/Agnes_Baltsa&gt;</td>\n",
              "      <td>&lt;http://dbpedia.org/resource/Zvonimir_Juri%C4%87&gt;</td>\n",
              "      <td>&lt;http://dbpedia.org/resource/John-Paul_Himka&gt;</td>\n",
              "      <td>&lt;http://dbpedia.org/resource/Elisha_Qimron&gt;</td>\n",
              "      <td>&lt;http://dbpedia.org/resource/Robert_Grant_Irving&gt;</td>\n",
              "      <td>&lt;http://dbpedia.org/resource/Sam_Leach_(artist)&gt;</td>\n",
              "      <td>&lt;http://dbpedia.org/resource/Patricia_Crowther...</td>\n",
              "      <td>&lt;http://dbpedia.org/resource/Katja_Herbers&gt;</td>\n",
              "      <td>&lt;http://dbpedia.org/resource/Shaka_Hislop&gt;</td>\n",
              "      <td>&lt;http://dbpedia.org/resource/Martin_Iveson&gt;</td>\n",
              "      <td>&lt;http://dbpedia.org/resource/Eva_Habermann&gt;</td>\n",
              "      <td>&lt;http://dbpedia.org/resource/Steve_Castle&gt;</td>\n",
              "      <td>&lt;http://dbpedia.org/resource/Armen_Ra&gt;</td>\n",
              "      <td>&lt;http://dbpedia.org/resource/David_Shaughnessy&gt;</td>\n",
              "      <td>&lt;http://dbpedia.org/resource/John_Reynolds_(Ca...</td>\n",
              "      <td>&lt;http://dbpedia.org/resource/Dean_Greig&gt;</td>\n",
              "    </tr>\n",
              "    <tr>\n",
              "      <th>name</th>\n",
              "      <td>Digby Morrell</td>\n",
              "      <td>Alfred J. Lewy</td>\n",
              "      <td>Harpdog Brown</td>\n",
              "      <td>Franz Rottensteiner</td>\n",
              "      <td>G-Enka</td>\n",
              "      <td>Sam Henderson</td>\n",
              "      <td>Aaron LaCrate</td>\n",
              "      <td>Trevor Ferguson</td>\n",
              "      <td>Grant Nelson</td>\n",
              "      <td>Cathy Caruth</td>\n",
              "      <td>Sophie Crumb</td>\n",
              "      <td>Jenn Ashworth</td>\n",
              "      <td>Jonathan Hoefler</td>\n",
              "      <td>Anthony Gueterbock, 18th Baron Berkeley</td>\n",
              "      <td>David Chernushenko</td>\n",
              "      <td>Joerg Steineck</td>\n",
              "      <td>Andrew Pinsent</td>\n",
              "      <td>Paddy Dunne (Gaelic footballer)</td>\n",
              "      <td>Alexandros Mouzas</td>\n",
              "      <td>John Angus Campbell</td>\n",
              "      <td>Chris Batstone</td>\n",
              "      <td>Ceiron Thomas</td>\n",
              "      <td>Adel Sellimi</td>\n",
              "      <td>Faith Soloway</td>\n",
              "      <td>Tom Jennings</td>\n",
              "      <td>Vic Stasiuk</td>\n",
              "      <td>Anthony Caruana</td>\n",
              "      <td>Ian Mitchell (author)</td>\n",
              "      <td>Leon Hapgood</td>\n",
              "      <td>Emily Osment</td>\n",
              "      <td>Dom Flora</td>\n",
              "      <td>Ted Hill (mathematician)</td>\n",
              "      <td>Mindaugas Murza</td>\n",
              "      <td>Bob Reece</td>\n",
              "      <td>Douglas Davies</td>\n",
              "      <td>Freimut B%C3%B6rngen</td>\n",
              "      <td>Th%C3%BCring Br%C3%A4m</td>\n",
              "      <td>Aharon Solomons</td>\n",
              "      <td>Steven Weil</td>\n",
              "      <td>Gary Emineth</td>\n",
              "      <td>...</td>\n",
              "      <td>David Vernon Williams</td>\n",
              "      <td>Guillermo Roux</td>\n",
              "      <td>William J. Ely</td>\n",
              "      <td>Alan Roper</td>\n",
              "      <td>Bob Havens</td>\n",
              "      <td>Susan Christie</td>\n",
              "      <td>Elizabeth Gunn (author)</td>\n",
              "      <td>Bo Hampton</td>\n",
              "      <td>Milva</td>\n",
              "      <td>Will Tiao</td>\n",
              "      <td>Quintin E. Primo III</td>\n",
              "      <td>Geoffrey Bayldon</td>\n",
              "      <td>Ulf-Dietrich Reips</td>\n",
              "      <td>Marcel J. Melan%C3%A7on</td>\n",
              "      <td>Mike Powell (journalist)</td>\n",
              "      <td>Vladimir Yurchenko</td>\n",
              "      <td>Nobuo Uematsu</td>\n",
              "      <td>John Warner (writer)</td>\n",
              "      <td>Doug McIntosh</td>\n",
              "      <td>Avi Muchnick</td>\n",
              "      <td>Robin MacPherson</td>\n",
              "      <td>Judi Silvano</td>\n",
              "      <td>Evelin Lindner</td>\n",
              "      <td>Robert S. Gold</td>\n",
              "      <td>Agnes Baltsa</td>\n",
              "      <td>Zvonimir Juri%C4%87</td>\n",
              "      <td>John-Paul Himka</td>\n",
              "      <td>Elisha Qimron</td>\n",
              "      <td>Robert Grant Irving</td>\n",
              "      <td>Sam Leach (artist)</td>\n",
              "      <td>Patricia Crowther (caver)</td>\n",
              "      <td>Katja Herbers</td>\n",
              "      <td>Shaka Hislop</td>\n",
              "      <td>Martin Iveson</td>\n",
              "      <td>Eva Habermann</td>\n",
              "      <td>Steve Castle</td>\n",
              "      <td>Armen Ra</td>\n",
              "      <td>David Shaughnessy</td>\n",
              "      <td>John Reynolds (Canadian politician)</td>\n",
              "      <td>Dean Greig</td>\n",
              "    </tr>\n",
              "    <tr>\n",
              "      <th>text</th>\n",
              "      <td>digby morrell born 10 october 1979 is a former...</td>\n",
              "      <td>alfred j lewy aka sandy lewy graduated from un...</td>\n",
              "      <td>harpdog brown is a singer and harmonica player...</td>\n",
              "      <td>franz rottensteiner born in waidmannsfeld lowe...</td>\n",
              "      <td>henry krvits born 30 december 1974 in tallinn ...</td>\n",
              "      <td>sam henderson born october 18 1969 is an ameri...</td>\n",
              "      <td>aaron lacrate is an american music producer re...</td>\n",
              "      <td>trevor ferguson aka john farrow born 11 novemb...</td>\n",
              "      <td>grant nelson born 27 april 1971 in london also...</td>\n",
              "      <td>cathy caruth born 1955 is frank h t rhodes pro...</td>\n",
              "      <td>sophia violet sophie crumb born september 27 1...</td>\n",
              "      <td>jenn ashworth is an english writer she was bor...</td>\n",
              "      <td>jonathan hoefler born august 22 1970 is an ame...</td>\n",
              "      <td>anthony fitzhardinge gueterbock 18th baron ber...</td>\n",
              "      <td>david chernushenko born june 1963 in calgary a...</td>\n",
              "      <td>joerg steineck is a german filmmaker editor an...</td>\n",
              "      <td>fr andrew pinsent born 19 august 1966 is resea...</td>\n",
              "      <td>paddy dunne was a gaelic football player from ...</td>\n",
              "      <td>alexandros mouzas born 1962 is a greek compose...</td>\n",
              "      <td>john angus campbell born march 10 1942 in port...</td>\n",
              "      <td>chris batstone was the 20002002 lead singer of...</td>\n",
              "      <td>ceiron thomas born 23 october 1983 is a welsh ...</td>\n",
              "      <td>adel sellimi arabic was born on 16 november 19...</td>\n",
              "      <td>faith soloway born march 28 1964 is an america...</td>\n",
              "      <td>tom jennings born 1955 as thomas daniel jennin...</td>\n",
              "      <td>victor john stasiuk born may 23 1929 is a reti...</td>\n",
              "      <td>anthony caruana born 2 january 1968 is a melbo...</td>\n",
              "      <td>ian mitchell is a scottish author who grew up ...</td>\n",
              "      <td>leon duane hapgood born 7 august 1979is an eng...</td>\n",
              "      <td>emily jordan osment born march 10 1992 is an a...</td>\n",
              "      <td>dominick a dom flora born june 12 1935 is an a...</td>\n",
              "      <td>theodore preston hill born december 28 1943 is...</td>\n",
              "      <td>mindaugas gervaldas until 2012 year mindaugas ...</td>\n",
              "      <td>robert scott reece born january 5 1951 is an a...</td>\n",
              "      <td>douglas james davies born 1947 is professor in...</td>\n",
              "      <td>freimut brngen born october 17 1930 is a germa...</td>\n",
              "      <td>thring brm born 10 april 1944 is a swiss compo...</td>\n",
              "      <td>aharon solomons b september 27 1939 is a freed...</td>\n",
              "      <td>steven weil is an american rabbi who grew up o...</td>\n",
              "      <td>gary emineth born october 24 1958 is a politic...</td>\n",
              "      <td>...</td>\n",
              "      <td>professor david vernon williams is a professor...</td>\n",
              "      <td>guillermo roux born in 1929 is an argentine pa...</td>\n",
              "      <td>william jonas ely jr born december 29 1911 is ...</td>\n",
              "      <td>alan roper born may 1939 in tipton staffordshi...</td>\n",
              "      <td>bob havens born may 3 1930 is an american big ...</td>\n",
              "      <td>susan christie is an american singersongwriter...</td>\n",
              "      <td>elizabeth gunn is an american author of myster...</td>\n",
              "      <td>bo hampton born 1954 in united states is a not...</td>\n",
              "      <td>maria ilva biolcati commander omri italian pro...</td>\n",
              "      <td>will tiao is a taiwanese american actor and pr...</td>\n",
              "      <td>quintin e primo iii born march 14 1955 is the ...</td>\n",
              "      <td>geoffrey bayldon born 7 january 1924 in leeds ...</td>\n",
              "      <td>prof dr ulfdietrich reips is a full professor ...</td>\n",
              "      <td>marcel j mlanon is a philosopher and scientist...</td>\n",
              "      <td>mike powell is a british former newspaper and ...</td>\n",
              "      <td>uladzimir vasilyevich yurchanka belarusian rus...</td>\n",
              "      <td>nobuo uematsu uematsu nobuo born march 21 1959...</td>\n",
              "      <td>john warner born 1970 is an american writer an...</td>\n",
              "      <td>doug mcinstosh is a retired american basketbal...</td>\n",
              "      <td>avi muchnick born 1979 is an artist author pro...</td>\n",
              "      <td>robin macpherson born 1959 glasgow scotland is...</td>\n",
              "      <td>judi silvano born 1951 is a jazz singer and co...</td>\n",
              "      <td>evelin gerda lindner born may 13 1954 in hamel...</td>\n",
              "      <td>robert s gold is a researcher in the applicati...</td>\n",
              "      <td>agnes baltsa greek a m born 19 november 1944 i...</td>\n",
              "      <td>zvonimir juri born 4 june 1971 is a croatian f...</td>\n",
              "      <td>johnpaul himka born may 18 1949 in detroit mic...</td>\n",
              "      <td>elisha qimron is an academic in the study of a...</td>\n",
              "      <td>robert grant irving phd is an author and lectu...</td>\n",
              "      <td>sam leach born 1973 is an emerging australian ...</td>\n",
              "      <td>this article is about the cave explorer for th...</td>\n",
              "      <td>katja mira herbers dutch pronunciation ktja mi...</td>\n",
              "      <td>neil shaka hislop cm born 22 february 1969 is ...</td>\n",
              "      <td>martin iveson is a british composer known for ...</td>\n",
              "      <td>eva felicitas habermann born january 16 1976 i...</td>\n",
              "      <td>steve castle born 17 may 1966 in barking is a ...</td>\n",
              "      <td>armen ra is an american artist and performer o...</td>\n",
              "      <td>david james shaughnessy also spelled shaughnes...</td>\n",
              "      <td>john douglas reynolds pc born january 19 1942 ...</td>\n",
              "      <td>dean greig born 31 october 1968 is a former au...</td>\n",
              "    </tr>\n",
              "  </tbody>\n",
              "</table>\n",
              "<p>3 rows × 100 columns</p>\n",
              "</div>"
            ],
            "text/plain": [
              "                                                      0  ...                                                 99\n",
              "URI         <http://dbpedia.org/resource/Digby_Morrell>  ...           <http://dbpedia.org/resource/Dean_Greig>\n",
              "name                                      Digby Morrell  ...                                         Dean Greig\n",
              "text  digby morrell born 10 october 1979 is a former...  ...  dean greig born 31 october 1968 is a former au...\n",
              "\n",
              "[3 rows x 100 columns]"
            ]
          },
          "metadata": {
            "tags": []
          },
          "execution_count": 6
        }
      ]
    },
    {
      "cell_type": "markdown",
      "metadata": {
        "id": "mrlq_ETGDLQO"
      },
      "source": [
        "Select a person, Armen Ra, from the list to use as the input for sentiment analysis. Output Armen Ra's overview from the database."
      ]
    },
    {
      "cell_type": "code",
      "metadata": {
        "id": "DgagEn4sCuZ5",
        "colab": {
          "base_uri": "https://localhost:8080/",
          "height": 54
        },
        "outputId": "30899baf-dfd6-416a-e830-9680f3dbff1f"
      },
      "source": [
        "my_person = [people_df.iloc[96]['text']]\n",
        "my_person"
      ],
      "execution_count": null,
      "outputs": [
        {
          "output_type": "execute_result",
          "data": {
            "text/plain": [
              "['armen ra is an american artist and performer of iranianarmenian descent born in tehran iran he was raised by his mother a concert pianist and his aunt an opera singer and ikebana master he taught himself to play theremin his music fuses armenian folk music with modern instrumentation along with melodic lounge standards and classical arias his concerts are known for their combination of both visual arts and his musicarmen ra has played at the united nations wiener konzerthaus mozartsaal vienna cbgbs knitting factory la mama etc joes pub boulder museum of modern art lincoln center the gershwin hotel bb king museum and dietch projects he has been featured on and appeared in cnn hbo mtv vh1 vogue the new york times the new york post the village voice rolling stone and glamourhe has performed and recorded with various bands and on many projects including a collaboration with british recording artist marc almond on the song my madness i from his 2010 release variet his debut solo cd plays the theremin released on bowl fork records in 2010 showcases many classical armenian laments and folk songs representing both armens heritage and his very first musical influence he has a cameo appearance in the film party monsterhe currently resides in hollywood californiain october 2010 armen appeared as a guest judge on the logo network show the arrangementra appeared on the cover track everyday is halloween playing the theremin for sharon needles album pg13 in 2014 he played the theremin for voltaires album raised by bats']"
            ]
          },
          "metadata": {
            "tags": []
          },
          "execution_count": 7
        }
      ]
    },
    {
      "cell_type": "markdown",
      "metadata": {
        "id": "smtVjMWsiBXm"
      },
      "source": [
        "### Data Processing"
      ]
    },
    {
      "cell_type": "markdown",
      "metadata": {
        "id": "7RAhfbZWiQEx"
      },
      "source": [
        "#### Vector Analysis"
      ]
    },
    {
      "cell_type": "code",
      "metadata": {
        "id": "ZaSdy_OwDYVY"
      },
      "source": [
        "vect_people = CountVectorizer(stop_words='english')\n",
        "word_weight = vect_people.fit_transform(people_df['text'])"
      ],
      "execution_count": null,
      "outputs": []
    },
    {
      "cell_type": "code",
      "metadata": {
        "id": "xOBjQzs7DjSb",
        "colab": {
          "base_uri": "https://localhost:8080/",
          "height": 51
        },
        "outputId": "839e2811-6290-4f06-fc7c-a24aa63763bc"
      },
      "source": [
        "word_weight"
      ],
      "execution_count": null,
      "outputs": [
        {
          "output_type": "execute_result",
          "data": {
            "text/plain": [
              "<42786x437190 sparse matrix of type '<class 'numpy.int64'>'\n",
              "\twith 5847547 stored elements in Compressed Sparse Row format>"
            ]
          },
          "metadata": {
            "tags": []
          },
          "execution_count": 9
        }
      ]
    },
    {
      "cell_type": "markdown",
      "metadata": {
        "id": "42vkqSodiTnA"
      },
      "source": [
        "#### Nearest Neighbors"
      ]
    },
    {
      "cell_type": "markdown",
      "metadata": {
        "id": "DXecA0ZQu3Ts"
      },
      "source": [
        "Fit the nearest neighbors model with content from people dataframe."
      ]
    },
    {
      "cell_type": "code",
      "metadata": {
        "id": "zx-9V679D2Ah",
        "colab": {
          "base_uri": "https://localhost:8080/",
          "height": 68
        },
        "outputId": "907ca585-203a-4c7d-f0a5-fcc62961cea0"
      },
      "source": [
        "nn = NearestNeighbors(metric='euclidean')\n",
        "nn.fit(word_weight)"
      ],
      "execution_count": null,
      "outputs": [
        {
          "output_type": "execute_result",
          "data": {
            "text/plain": [
              "NearestNeighbors(algorithm='auto', leaf_size=30, metric='euclidean',\n",
              "                 metric_params=None, n_jobs=None, n_neighbors=5, p=2,\n",
              "                 radius=1.0)"
            ]
          },
          "metadata": {
            "tags": []
          },
          "execution_count": 10
        }
      ]
    },
    {
      "cell_type": "code",
      "metadata": {
        "id": "JxQB-1gVD7YS",
        "colab": {
          "base_uri": "https://localhost:8080/",
          "height": 34
        },
        "outputId": "5bdd3145-e309-43b7-e16f-5fbd841cf3e0"
      },
      "source": [
        "ra_index = people_df[people_df['name'] == 'Armen Ra'].index[0]\n",
        "ra_index"
      ],
      "execution_count": null,
      "outputs": [
        {
          "output_type": "execute_result",
          "data": {
            "text/plain": [
              "96"
            ]
          },
          "metadata": {
            "tags": []
          },
          "execution_count": 11
        }
      ]
    },
    {
      "cell_type": "markdown",
      "metadata": {
        "id": "nSeDnb3KvDDz"
      },
      "source": [
        "Use the nearest neighbor model to output people with overviews similar to Armen Ra's page."
      ]
    },
    {
      "cell_type": "code",
      "metadata": {
        "id": "AIxKo3IaED-S"
      },
      "source": [
        "distances, indices = nn.kneighbors(word_weight[ra_index], n_neighbors=11)"
      ],
      "execution_count": null,
      "outputs": []
    },
    {
      "cell_type": "code",
      "metadata": {
        "id": "0qoV6lyHEJdZ",
        "colab": {
          "base_uri": "https://localhost:8080/",
          "height": 68
        },
        "outputId": "d6836241-e9be-46e6-800c-4d3c17e1c77f"
      },
      "source": [
        "distances"
      ],
      "execution_count": null,
      "outputs": [
        {
          "output_type": "execute_result",
          "data": {
            "text/plain": [
              "array([[ 0.        , 17.23368794, 17.23368794, 17.29161647, 17.29161647,\n",
              "        17.3781472 , 17.3781472 , 17.40689519, 17.40689519, 17.4642492 ,\n",
              "        17.4642492 ]])"
            ]
          },
          "metadata": {
            "tags": []
          },
          "execution_count": 13
        }
      ]
    },
    {
      "cell_type": "markdown",
      "metadata": {
        "id": "j9aMVRU2vSAo"
      },
      "source": [
        "Show the index of 10 similar overviews."
      ]
    },
    {
      "cell_type": "code",
      "metadata": {
        "id": "pH0MR6C8ENHg",
        "colab": {
          "base_uri": "https://localhost:8080/",
          "height": 51
        },
        "outputId": "ed360078-4d31-4b33-f708-cffac5510bb9"
      },
      "source": [
        "indices"
      ],
      "execution_count": null,
      "outputs": [
        {
          "output_type": "execute_result",
          "data": {
            "text/plain": [
              "array([[   96, 15962, 32628, 16715, 33930, 12629, 20032,  4156, 25187,\n",
              "        33651, 35976]])"
            ]
          },
          "metadata": {
            "tags": []
          },
          "execution_count": 14
        }
      ]
    },
    {
      "cell_type": "markdown",
      "metadata": {
        "id": "gea7AwDrEiqb"
      },
      "source": [
        "Output the 10 people with overviews closest to Armen Ra."
      ]
    },
    {
      "cell_type": "code",
      "metadata": {
        "id": "Zu-8zwO6inxc",
        "colab": {
          "base_uri": "https://localhost:8080/",
          "height": 747
        },
        "outputId": "4b9f66ca-691a-4d15-bcae-2b03464e4ba1"
      },
      "source": [
        "people_df.iloc[indices[0],:]"
      ],
      "execution_count": null,
      "outputs": [
        {
          "output_type": "execute_result",
          "data": {
            "text/html": [
              "<div>\n",
              "<style scoped>\n",
              "    .dataframe tbody tr th:only-of-type {\n",
              "        vertical-align: middle;\n",
              "    }\n",
              "\n",
              "    .dataframe tbody tr th {\n",
              "        vertical-align: top;\n",
              "    }\n",
              "\n",
              "    .dataframe thead th {\n",
              "        text-align: right;\n",
              "    }\n",
              "</style>\n",
              "<table border=\"1\" class=\"dataframe\">\n",
              "  <thead>\n",
              "    <tr style=\"text-align: right;\">\n",
              "      <th></th>\n",
              "      <th>URI</th>\n",
              "      <th>name</th>\n",
              "      <th>text</th>\n",
              "    </tr>\n",
              "  </thead>\n",
              "  <tbody>\n",
              "    <tr>\n",
              "      <th>96</th>\n",
              "      <td>&lt;http://dbpedia.org/resource/Armen_Ra&gt;</td>\n",
              "      <td>Armen Ra</td>\n",
              "      <td>armen ra is an american artist and performer o...</td>\n",
              "    </tr>\n",
              "    <tr>\n",
              "      <th>15962</th>\n",
              "      <td>&lt;http://dbpedia.org/resource/Jagori_Tanna&gt;</td>\n",
              "      <td>Jagori Tanna</td>\n",
              "      <td>jagori tanna born andrew koshowski in hamilton...</td>\n",
              "    </tr>\n",
              "    <tr>\n",
              "      <th>32628</th>\n",
              "      <td>&lt;http://dbpedia.org/resource/Vilayna_LaSalle&gt;</td>\n",
              "      <td>Vilayna LaSalle</td>\n",
              "      <td>vilayna lasalle is an american model of an afr...</td>\n",
              "    </tr>\n",
              "    <tr>\n",
              "      <th>16715</th>\n",
              "      <td>&lt;http://dbpedia.org/resource/Robin_Holcomb&gt;</td>\n",
              "      <td>Robin Holcomb</td>\n",
              "      <td>robin lynn holcomb is an american singer songw...</td>\n",
              "    </tr>\n",
              "    <tr>\n",
              "      <th>33930</th>\n",
              "      <td>&lt;http://dbpedia.org/resource/Karen_Maruyama&gt;</td>\n",
              "      <td>Karen Maruyama</td>\n",
              "      <td>karen maruyama born may 29 1958 is an american...</td>\n",
              "    </tr>\n",
              "    <tr>\n",
              "      <th>12629</th>\n",
              "      <td>&lt;http://dbpedia.org/resource/Rachel_Aggs&gt;</td>\n",
              "      <td>Rachel Aggs</td>\n",
              "      <td>rachel aggs is a musician based in london prim...</td>\n",
              "    </tr>\n",
              "    <tr>\n",
              "      <th>20032</th>\n",
              "      <td>&lt;http://dbpedia.org/resource/Roger_Kamien&gt;</td>\n",
              "      <td>Roger Kamien</td>\n",
              "      <td>roger kamien born in 1934 is a retired profess...</td>\n",
              "    </tr>\n",
              "    <tr>\n",
              "      <th>4156</th>\n",
              "      <td>&lt;http://dbpedia.org/resource/Patrick_Clifford&gt;</td>\n",
              "      <td>Patrick Clifford</td>\n",
              "      <td>patrick clifford born in new york city 1966 is...</td>\n",
              "    </tr>\n",
              "    <tr>\n",
              "      <th>25187</th>\n",
              "      <td>&lt;http://dbpedia.org/resource/Peter_Frankl&gt;</td>\n",
              "      <td>Peter Frankl</td>\n",
              "      <td>this article is about the pianist for the math...</td>\n",
              "    </tr>\n",
              "    <tr>\n",
              "      <th>33651</th>\n",
              "      <td>&lt;http://dbpedia.org/resource/Jonathan_M._Woodw...</td>\n",
              "      <td>Jonathan M. Woodward</td>\n",
              "      <td>jonathan mark woodward is an american actor he...</td>\n",
              "    </tr>\n",
              "    <tr>\n",
              "      <th>35976</th>\n",
              "      <td>&lt;http://dbpedia.org/resource/Rocky_Dzidzornu&gt;</td>\n",
              "      <td>Rocky Dzidzornu</td>\n",
              "      <td>rocky dzidzornu also known as rocky dijon is a...</td>\n",
              "    </tr>\n",
              "  </tbody>\n",
              "</table>\n",
              "</div>"
            ],
            "text/plain": [
              "                                                     URI  ...                                               text\n",
              "96                <http://dbpedia.org/resource/Armen_Ra>  ...  armen ra is an american artist and performer o...\n",
              "15962         <http://dbpedia.org/resource/Jagori_Tanna>  ...  jagori tanna born andrew koshowski in hamilton...\n",
              "32628      <http://dbpedia.org/resource/Vilayna_LaSalle>  ...  vilayna lasalle is an american model of an afr...\n",
              "16715        <http://dbpedia.org/resource/Robin_Holcomb>  ...  robin lynn holcomb is an american singer songw...\n",
              "33930       <http://dbpedia.org/resource/Karen_Maruyama>  ...  karen maruyama born may 29 1958 is an american...\n",
              "12629          <http://dbpedia.org/resource/Rachel_Aggs>  ...  rachel aggs is a musician based in london prim...\n",
              "20032         <http://dbpedia.org/resource/Roger_Kamien>  ...  roger kamien born in 1934 is a retired profess...\n",
              "4156      <http://dbpedia.org/resource/Patrick_Clifford>  ...  patrick clifford born in new york city 1966 is...\n",
              "25187         <http://dbpedia.org/resource/Peter_Frankl>  ...  this article is about the pianist for the math...\n",
              "33651  <http://dbpedia.org/resource/Jonathan_M._Woodw...  ...  jonathan mark woodward is an american actor he...\n",
              "35976      <http://dbpedia.org/resource/Rocky_Dzidzornu>  ...  rocky dzidzornu also known as rocky dijon is a...\n",
              "\n",
              "[11 rows x 3 columns]"
            ]
          },
          "metadata": {
            "tags": []
          },
          "execution_count": 15
        }
      ]
    },
    {
      "cell_type": "code",
      "metadata": {
        "id": "mbY5QZ52EOl5"
      },
      "source": [
        "top_ten = people_df.iloc[indices[0],1:11]"
      ],
      "execution_count": null,
      "outputs": []
    },
    {
      "cell_type": "code",
      "metadata": {
        "id": "3pfRJGbYjrvs",
        "colab": {
          "base_uri": "https://localhost:8080/",
          "height": 390
        },
        "outputId": "400e793f-4adc-4892-a99c-3b97cd0152c8"
      },
      "source": [
        "top_ten.head(11)"
      ],
      "execution_count": null,
      "outputs": [
        {
          "output_type": "execute_result",
          "data": {
            "text/html": [
              "<div>\n",
              "<style scoped>\n",
              "    .dataframe tbody tr th:only-of-type {\n",
              "        vertical-align: middle;\n",
              "    }\n",
              "\n",
              "    .dataframe tbody tr th {\n",
              "        vertical-align: top;\n",
              "    }\n",
              "\n",
              "    .dataframe thead th {\n",
              "        text-align: right;\n",
              "    }\n",
              "</style>\n",
              "<table border=\"1\" class=\"dataframe\">\n",
              "  <thead>\n",
              "    <tr style=\"text-align: right;\">\n",
              "      <th></th>\n",
              "      <th>name</th>\n",
              "      <th>text</th>\n",
              "    </tr>\n",
              "  </thead>\n",
              "  <tbody>\n",
              "    <tr>\n",
              "      <th>96</th>\n",
              "      <td>Armen Ra</td>\n",
              "      <td>armen ra is an american artist and performer o...</td>\n",
              "    </tr>\n",
              "    <tr>\n",
              "      <th>15962</th>\n",
              "      <td>Jagori Tanna</td>\n",
              "      <td>jagori tanna born andrew koshowski in hamilton...</td>\n",
              "    </tr>\n",
              "    <tr>\n",
              "      <th>32628</th>\n",
              "      <td>Vilayna LaSalle</td>\n",
              "      <td>vilayna lasalle is an american model of an afr...</td>\n",
              "    </tr>\n",
              "    <tr>\n",
              "      <th>16715</th>\n",
              "      <td>Robin Holcomb</td>\n",
              "      <td>robin lynn holcomb is an american singer songw...</td>\n",
              "    </tr>\n",
              "    <tr>\n",
              "      <th>33930</th>\n",
              "      <td>Karen Maruyama</td>\n",
              "      <td>karen maruyama born may 29 1958 is an american...</td>\n",
              "    </tr>\n",
              "    <tr>\n",
              "      <th>12629</th>\n",
              "      <td>Rachel Aggs</td>\n",
              "      <td>rachel aggs is a musician based in london prim...</td>\n",
              "    </tr>\n",
              "    <tr>\n",
              "      <th>20032</th>\n",
              "      <td>Roger Kamien</td>\n",
              "      <td>roger kamien born in 1934 is a retired profess...</td>\n",
              "    </tr>\n",
              "    <tr>\n",
              "      <th>4156</th>\n",
              "      <td>Patrick Clifford</td>\n",
              "      <td>patrick clifford born in new york city 1966 is...</td>\n",
              "    </tr>\n",
              "    <tr>\n",
              "      <th>25187</th>\n",
              "      <td>Peter Frankl</td>\n",
              "      <td>this article is about the pianist for the math...</td>\n",
              "    </tr>\n",
              "    <tr>\n",
              "      <th>33651</th>\n",
              "      <td>Jonathan M. Woodward</td>\n",
              "      <td>jonathan mark woodward is an american actor he...</td>\n",
              "    </tr>\n",
              "    <tr>\n",
              "      <th>35976</th>\n",
              "      <td>Rocky Dzidzornu</td>\n",
              "      <td>rocky dzidzornu also known as rocky dijon is a...</td>\n",
              "    </tr>\n",
              "  </tbody>\n",
              "</table>\n",
              "</div>"
            ],
            "text/plain": [
              "                       name                                               text\n",
              "96                 Armen Ra  armen ra is an american artist and performer o...\n",
              "15962          Jagori Tanna  jagori tanna born andrew koshowski in hamilton...\n",
              "32628       Vilayna LaSalle  vilayna lasalle is an american model of an afr...\n",
              "16715         Robin Holcomb  robin lynn holcomb is an american singer songw...\n",
              "33930        Karen Maruyama  karen maruyama born may 29 1958 is an american...\n",
              "12629           Rachel Aggs  rachel aggs is a musician based in london prim...\n",
              "20032          Roger Kamien  roger kamien born in 1934 is a retired profess...\n",
              "4156       Patrick Clifford  patrick clifford born in new york city 1966 is...\n",
              "25187          Peter Frankl  this article is about the pianist for the math...\n",
              "33651  Jonathan M. Woodward  jonathan mark woodward is an american actor he...\n",
              "35976       Rocky Dzidzornu  rocky dzidzornu also known as rocky dijon is a..."
            ]
          },
          "metadata": {
            "tags": []
          },
          "execution_count": 63
        }
      ]
    },
    {
      "cell_type": "code",
      "metadata": {
        "id": "QB2PpNtqgXPY",
        "colab": {
          "base_uri": "https://localhost:8080/",
          "height": 105
        },
        "outputId": "a278e5ad-13f0-486d-8f62-af7453de2c45"
      },
      "source": [
        "df2 = people_df[['text','name']]\n",
        "# For each row, combine all the columns into one column\n",
        "df3 = df2.apply(lambda x: ','.join(x.astype(str)), axis=1)\n",
        "# Store them in a pandas dataframe\n",
        "df_clean = pd.DataFrame({'clean': df3})\n",
        "# Create the list of list format of the custom corpus for gensim modeling \n",
        "sent = [row.split(',') for row in df_clean['clean']]\n",
        "# show the example of list of list format of the custom corpus for gensim modeling \n",
        "sent[:2]"
      ],
      "execution_count": null,
      "outputs": [
        {
          "output_type": "execute_result",
          "data": {
            "text/plain": [
              "[['digby morrell born 10 october 1979 is a former australian rules footballer who played with the kangaroos and carlton in the australian football league aflfrom western australia morrell played his early senior football for west perth his 44game senior career for the falcons spanned 19982000 and he was the clubs leading goalkicker in 2000 at the age of 21 morrell was recruited to the australian football league by the kangaroos football club with its third round selection in the 2001 afl rookie draft as a forward he twice kicked five goals during his time with the kangaroos the first was in a losing cause against sydney in 2002 and the other the following season in a drawn game against brisbaneafter the 2003 season morrell was traded along with david teague to the carlton football club in exchange for corey mckernan he played 32 games for the blues before being delisted at the end of 2005 he continued to play victorian football league vfl football with the northern bullants carltons vflaffiliate in 2006 and acted as playing assistant coach in 2007 in 2008 he shifted to the box hill hawks before retiring from playing at the end of the season from 2009 until 2013 morrell was the senior coach of the strathmore football club in the essendon district football league leading the club to the 2011 premier division premiership since 2014 he has coached the west coburg football club also in the edflhe currently teaches physical education at parade college in melbourne',\n",
              "  'Digby Morrell'],\n",
              " ['alfred j lewy aka sandy lewy graduated from university of chicago in 1973 after studying psychiatry pharmacology and ophthalmology he is a full professor and vicechair of the department of psychiatry at ohsu oregon health science university and holds an md and phd prior to moving to oregon in 1981 lewy was at the national institute of mental health nimh in bethesda maryland working with senior colleague thomas wehr in oregon he has worked closely with robert l sack as of december 2005 he had 94 publications available on pubmed he describes his research as follows my laboratory studies chronobiologic sleep and mood disorders these disorders include winter depression jet lag maladaptation to shift work and certain types of sleep disturbances relying on a very precise assay for plasma melatonin a hormone that has a clearly defined 24hour pattern of secretion biological rhythm disorders can be assessed and their treatment can be monitored current research is focused on developing bright light exposure and melatonin administration as treatment modalities for these disorders treatment must be precisely scheduled morning light exposure and evening melatonin administration cause circadian phaseadvance shifts evening light exposure and morning melatonin administration cause circadian phasedelay shifts totally blind individuals have 25hour circadian rhythms drifting an hour later each day unless they take a melatonin capsule at a certain time every day',\n",
              "  'Alfred J. Lewy']]"
            ]
          },
          "metadata": {
            "tags": []
          },
          "execution_count": 18
        }
      ]
    },
    {
      "cell_type": "markdown",
      "metadata": {
        "id": "FWCuLOvtkW_D"
      },
      "source": [
        "Another way to output the 10 people with overviews closest to Armen Ra's page."
      ]
    },
    {
      "cell_type": "code",
      "metadata": {
        "id": "pvi0kdc0e-G1"
      },
      "source": [
        "import gensim \n",
        "from gensim.models import Word2Vec\n",
        "\n",
        "model = Word2Vec(sent, min_count=1,size= 50,workers=3, window =3, sg = 1)"
      ],
      "execution_count": null,
      "outputs": []
    },
    {
      "cell_type": "code",
      "metadata": {
        "id": "gHhY3p3selVV",
        "colab": {
          "base_uri": "https://localhost:8080/",
          "height": 258
        },
        "outputId": "f83e2a44-d551-4547-8d88-f5cf1f144bfc"
      },
      "source": [
        "model['Armen Ra']"
      ],
      "execution_count": null,
      "outputs": [
        {
          "output_type": "stream",
          "text": [
            "/usr/local/lib/python3.6/dist-packages/ipykernel_launcher.py:1: DeprecationWarning: Call to deprecated `__getitem__` (Method will be removed in 4.0.0, use self.wv.__getitem__() instead).\n",
            "  \"\"\"Entry point for launching an IPython kernel.\n"
          ],
          "name": "stderr"
        },
        {
          "output_type": "execute_result",
          "data": {
            "text/plain": [
              "array([ 0.00818728,  0.00035559, -0.00903071, -0.00838886,  0.0078609 ,\n",
              "       -0.00474584, -0.002292  , -0.00637336,  0.00325204,  0.00941323,\n",
              "       -0.00696781, -0.00610431,  0.00868803,  0.00275211, -0.00117894,\n",
              "       -0.00155437,  0.00522238,  0.00125257,  0.00744486, -0.00989244,\n",
              "       -0.0036832 ,  0.0002664 ,  0.0041829 , -0.00449497,  0.00126217,\n",
              "        0.00454358,  0.0004319 , -0.00297771,  0.00377538, -0.00314259,\n",
              "       -0.00875818,  0.00515982, -0.00477383,  0.00153132, -0.00621622,\n",
              "       -0.00327826,  0.00778831, -0.00956785, -0.00707163, -0.00747374,\n",
              "       -0.00903284, -0.00830177,  0.0034522 , -0.0070265 ,  0.0041228 ,\n",
              "        0.00836104, -0.00890977,  0.00141965,  0.0008621 ,  0.00135281],\n",
              "      dtype=float32)"
            ]
          },
          "metadata": {
            "tags": []
          },
          "execution_count": 20
        }
      ]
    },
    {
      "cell_type": "code",
      "metadata": {
        "id": "XVfr_Bumgizj",
        "colab": {
          "base_uri": "https://localhost:8080/",
          "height": 360
        },
        "outputId": "a5327ed8-b20e-4415-f56a-e380c9e78889"
      },
      "source": [
        "model.most_similar('Armen Ra'[:10])"
      ],
      "execution_count": null,
      "outputs": [
        {
          "output_type": "stream",
          "text": [
            "/usr/local/lib/python3.6/dist-packages/ipykernel_launcher.py:1: DeprecationWarning: Call to deprecated `most_similar` (Method will be removed in 4.0.0, use self.wv.most_similar() instead).\n",
            "  \"\"\"Entry point for launching an IPython kernel.\n",
            "/usr/local/lib/python3.6/dist-packages/gensim/matutils.py:737: FutureWarning: Conversion of the second argument of issubdtype from `int` to `np.signedinteger` is deprecated. In future, it will be treated as `np.int64 == np.dtype(int).type`.\n",
            "  if np.issubdtype(vec.dtype, np.int):\n"
          ],
          "name": "stderr"
        },
        {
          "output_type": "execute_result",
          "data": {
            "text/plain": [
              "[('tamas wells tems tayms is an australian singersongwriter based in rangoon burma wells first came to attention in his home country in 2002 with airplay of a threetrack demo cigarettes a tie and a free magazine recorded with three friends they followed this up with an ep stitch in time the same year the band took off in 2004 when they were spotted by record producer tim whitten and invited to record their debut album a mark on the pane with popboomerang records beginning that year they performed five national toursin early 2006 wells relocated to rangoon burma to participate in a community health hivaids education project the bands second album a plea en vendredi appeared later that year in addition to the australian release by popboomerang agreements were entered into with inpartmaint and pocket records for the album to be released in japan and china respectively in august 2007 the band performed a sellout tour of four japanese cities wells third album two years in april was released in 2008 and was followed by tours of australia china japan and singapore in 2009 and 2010 in 2010 thirty people away the fourth album was released and followed by a tour in china',\n",
              "  0.5722157955169678),\n",
              " ('Cristina Fern%C3%A1ndez de Kirchner', 0.564085066318512),\n",
              " ('Jacob Zuma', 0.5587095618247986),\n",
              " ('Colin Morris (Methodist minister)', 0.531542181968689),\n",
              " ('richard s dick morris born november 28 1946 is an american political author and commentator who previously worked as a pollster political campaign consultant and general political consultanta friend and advisor to bill clinton during his time as governor of arkansas morris became a political adviser to the white house after clinton was elected president in 1992 morris encouraged clinton to pursue third way policies of triangulation that combined traditional republican and democratic proposals rhetoric and issues so as to achieve maximum political gain and popularity he worked as a republican strategist before joining the clinton administration where he helped clinton recover from the 1994 midterm elections by advising the president to adopt more moderate policies the president consulted morris in secret beginning in 1994 clintons communications director george stephanopoulos has said over the course of the first nine months of 1995 no single person had more power over the president morris went on to become campaign manager of bill clintons successful 1996 bid for reelection to the office of president his tenure on that campaign was cut short two months before the election when it was revealed that he had allowed a prostitute to listen in on conversations with the presidentmorris now writes a weekly column for the new york post which is carried nationwide contributes columns and blogs to both the print and online versions of the hill and has appeared regularly on the fox news for political commentary frequently appearing on the oreilly factor and hannity he is also president of votecom more recently morris has emerged as a harsh critic of the clintons and has written several books that criticize them including rewriting history a rebuttal to senator hillary clintons living history morris said that he would leave the united states if hillary clinton were elected president in 2008morris was the strategist for republican christy mihoss campaign in the 2010 massachusetts gubernatorial race and supported mitt romney in 2012 predicting that he would achieve a landslide victory blogger andrew sullivan has named an annual award after morris given for stunningly wrong political social and cultural predictions after the election morris did not appear on fox news for three months and the network ultimately opted not to renew his contract',\n",
              "  0.5291799306869507),\n",
              " ('Maciu Navakasuasua', 0.5234756469726562),\n",
              " ('jack carlton reed september 30 1930 october 12 2009 was a drug smuggler and codefendant of carlos enrique lehder rivas colombian drug baron and cofounder of the medelln cartel reed was a pilot working under lehders cocaine transport empire on normans cay an out island 210 miles 340 km off the florida coast in the exuma chain in the bahamas reed flew drug runs for lehder who handled transport and distribution while colombian drug lord pablo escobar handled production and supplyfrom 1978 through 1982 normans cay was the center of the worlds largest drug smuggling operation and a tropical hideaway for lehder and associates including reed cocaine was flown in from colombia by private aircraft then reloaded into other aircraft that then distributed it to locations in georgia florida and the carolinas it was flown into the united states via the bahamas a path made possible via colombian suppliers and bribes allegedly spread among bahamian government officials for political and judicial protectionon normans cay lehder maintained a 3100foot 1000 m runway protected by radar bodyguards and guard dogs for the fleet of aircraft under his commandlehder and reed who held separate residences on the island eventually fled normans cay after authorities threatened to shut down the illicit billiondollar drug smuggling operation for goodin february 1987 just days after lehder was captured in the colombian jungle reed was apprehended in panama the codefendants were charged with conspiring to smuggle 33 tons of cocaine into the united states from colombia from 1978 to 1980reed was convicted of conspiracy to distribute cocaine and operating a continuing criminal enterprise prosecutors said reed was an important player in the lehder organization flying drug shipments from colombia hiring ground crews and working with distributorslehder lost his fight against extradition by which point his net worth was approximately 25 billion he is incarcerated in the united states under witsec the bureau of prisons version of the federal witness protection programreed was sentenced to two consecutive life terms and fined 2 million he was incarcerated at the federal correctional institute in memphis tennessee and later moved to a federal medical center after spending nearly 23 years behind bars reed was granted a clemency release with his sentence reduced to time served',\n",
              "  0.5218150615692139),\n",
              " ('thomas lesslie snuff garrett born july 5 1939 in dallas texas is a retired american record producer whose most famous work was during the 1960s and 1970s his nickname is a play on levi garretts snuff a brand of snuffat seventeen he was a disc jockey in lubbock texas where he met buddy holly he is often still mentioned on the lubbock oldies station kdav on a program hosted by his friend jerry bo coleman garrett also worked in radio in wichita falls texas where he performed onair stunts on february 3 1959 garrett broadcast his own tribute show to holly after he was killed along with ritchie valens and the big bopper in a plane crash in iowain 1959 garrett became a producer at liberty records in hollywood his first job as producer for the label was on johnny burnettes settin the woods on fire on july 9 1959 among garretts roster of artists were bobby vee johnny burnette gene mcdaniels buddy knox walter brennan gary lewis the playboys del shannon and later after leaving liberty cher and sonny cher he was also responsible for hiring phil spector for a short period as an assistant producer for liberty later garrett had his own record labels snuff garrett records and viva recordsbetween 1961 and 1969 he released a series of instrumental albums featuring solo guitar work by tommy tedesco on liberty records by the 50 guitars of tommy garrett 6 of which appeared on billboard top lps chartin 1966 garrett produced an album by singersongwriter sonny curtis on the viva label the 1st of sonny curtis which contains some of curtis most popular tunes including walk right back an everly brothers hit other tracks that came out of this session are my way of life hung up in your eyes and i fought the law and the law wonin 196667 garrett and jj cale coproduced a trip down the sunset strip attributed to the leathercoated minds a compilation of psychedelic covers together with four instrumentals of cales own compositionmany of garretts hit singles came from songs by the brill building songwriters in new york city one of his assistants was future recording star leon russell garrett was invited early on to produce the monkees but a test session did not go well with the monkees preferring to work with boyce and hart writers of last train to clarksville and the monkeess theme songin addition to his string of hits with cher and sonny cher for kapp records and mca records in the 1970s garrett also produced vicki lawrences the night the lights went out in georgia for bell records a song written by lawrences thenhusband bobby russell and tanya tuckers lizzie and the rainman for mca both of these songs had been intended for cher but for various reasons were not recorded by her other artists produced by garrett in the 70s included brenda lee and singing cowboy roy rogers these recordings and others marked a shift by garrett away from poprock toward the easylistening countrypolitan soundgarrett worked regularly with the johnny mann singers and the ron hicklin singers on many projects and was responsible for the new sound of the ray conniff singers in the early 1970s which employed the hicklin singers producing two albums with conniff garrett also produced several tracks by nancy sinatra in the mid1970s that were issued by private stock records in 1976 garrett set up a sublabel of casablanca records casablanca west the label released just one album and two singles before folding in 1978 garrett produced the countryoriented soundtrack of clint eastwoods every which way but loose which appeared on garretts latterday label viva recordsin 1976 when home video was in its infancy garrett bought cassette rights to the old rko and republic films for what united press international termed a pittance by 1980 the 800title library of his company the nostalgia merchant was earning 23 million a year nobody wanted cassettes four years ago garrett told upi it wasnt the first time people called me crazy it was a hobby with me which became big businessgarrett retired to his ranch in arizona during the 1980s among his other interests are american western art and he shares his collection with the public through prints',\n",
              "  0.5120094418525696),\n",
              " ('Karl Taube', 0.5031149387359619),\n",
              " ('bob haro born june 29 1958 in pasadena california is a former freestyle bmx rider turned artist and business executive he is the founder of haro bikes and was one of the most important early innovators of bmx freestylehe began biking in his high school sophomore year when he ran out of money riding dirt bikes his father bought him a honda 100 and he stripped the bike down to compete in motorcycle races he won over 50 motocross trophies by 1975around 1976 he got into bmx biking by racing his brothers bike out behind a bike shop in san diego after moving to stockton california as a result of his parents divorce bob really got started racing and riding for a sponsor for molinas bike shop he was one of a small group of bmxers in that town to perform many of the common tricksin 1978 haro teamed up with r l osborn to form the very first freestyle bmx team which made its debut at abas winternationals in chandler azin 1981 bob haro and bob morales traveled on tour together performing shows all over the midwest eastern united states and parts of canada to enthusiastic crowds also in 1981 haro was involved in the steven spielberg production of et the extraterrestrial as a stunt riderin 1981 bob haro designed the first frame and fork tailored to freestyle bmx the frameset was manufactured by the bicycle company torker and became commercially available in 1982 and was marketed as the haro freestylerhe stopped riding in 1985 after four knee surgeries and in 1987 he was inducted into the american bicycle association hall of fame in 1993 he founded his own company haro design inc a design and marketing company in cardiff cabob haro also invented the style of flatland bmxin 2012 as part of the london olympic games bob haro choreographed the dove bike sequence in the opening ceremony',\n",
              "  0.4935603439807892)]"
            ]
          },
          "metadata": {
            "tags": []
          },
          "execution_count": 21
        }
      ]
    },
    {
      "cell_type": "markdown",
      "metadata": {
        "id": "bcNGrbP-p_Xq"
      },
      "source": [
        "This method outputs a different set of people than the nearest neighbors method. The nearest neighbors method output appears more closely aligned with the substance of Armen Ra's overview by similarly outputting people in creative industries. Whereas the similarity method outputs people with overviews that share a similar tone and format as Armen Ra's overview that is brief, informational, neutral."
      ]
    },
    {
      "cell_type": "markdown",
      "metadata": {
        "id": "HsCpIHt0iaWr"
      },
      "source": [
        "#### Sentiment Analysis"
      ]
    },
    {
      "cell_type": "markdown",
      "metadata": {
        "id": "U27kU2gCsKjr"
      },
      "source": [
        "Make Armen Ra's overview a string."
      ]
    },
    {
      "cell_type": "code",
      "metadata": {
        "id": "HiqzuJ0FpDWU",
        "colab": {
          "base_uri": "https://localhost:8080/",
          "height": 54
        },
        "outputId": "7d5573c5-6fe9-4e49-d2cd-fdfb9d42cb1c"
      },
      "source": [
        "df2 = pd.DataFrame(my_person)\n",
        "# For each row, combine all the columns into one column\n",
        "df3 = df2.apply(lambda x: ','.join(x.astype(str)), axis=1)\n",
        "# Store them in a pandas dataframe\n",
        "df_clean = pd.DataFrame({'clean': df3})\n",
        "# Create the list of list format of the custom corpus for gensim modeling \n",
        "sent1 = [row.split(',') for row in df_clean['clean']]\n",
        "# show the example of list of list format of the custom corpus for gensim modeling \n",
        "sent1[:2]"
      ],
      "execution_count": null,
      "outputs": [
        {
          "output_type": "execute_result",
          "data": {
            "text/plain": [
              "[['armen ra is an american artist and performer of iranianarmenian descent born in tehran iran he was raised by his mother a concert pianist and his aunt an opera singer and ikebana master he taught himself to play theremin his music fuses armenian folk music with modern instrumentation along with melodic lounge standards and classical arias his concerts are known for their combination of both visual arts and his musicarmen ra has played at the united nations wiener konzerthaus mozartsaal vienna cbgbs knitting factory la mama etc joes pub boulder museum of modern art lincoln center the gershwin hotel bb king museum and dietch projects he has been featured on and appeared in cnn hbo mtv vh1 vogue the new york times the new york post the village voice rolling stone and glamourhe has performed and recorded with various bands and on many projects including a collaboration with british recording artist marc almond on the song my madness i from his 2010 release variet his debut solo cd plays the theremin released on bowl fork records in 2010 showcases many classical armenian laments and folk songs representing both armens heritage and his very first musical influence he has a cameo appearance in the film party monsterhe currently resides in hollywood californiain october 2010 armen appeared as a guest judge on the logo network show the arrangementra appeared on the cover track everyday is halloween playing the theremin for sharon needles album pg13 in 2014 he played the theremin for voltaires album raised by bats']]"
            ]
          },
          "metadata": {
            "tags": []
          },
          "execution_count": 22
        }
      ]
    },
    {
      "cell_type": "markdown",
      "metadata": {
        "id": "M42Vzf4WsV8g"
      },
      "source": [
        "Assign tags to each word in the overview."
      ]
    },
    {
      "cell_type": "code",
      "metadata": {
        "id": "qOYXgpBml6wY",
        "colab": {
          "base_uri": "https://localhost:8080/",
          "height": 1000
        },
        "outputId": "782720e9-8b97-4c88-c253-de4f43e62b4b"
      },
      "source": [
        "!python -m textblob.download_corpora\n",
        "from textblob import TextBlob\n",
        "wiki = TextBlob(str(sent1))\n",
        "wiki.tags"
      ],
      "execution_count": null,
      "outputs": [
        {
          "output_type": "stream",
          "text": [
            "[nltk_data] Downloading package brown to /root/nltk_data...\n",
            "[nltk_data]   Package brown is already up-to-date!\n",
            "[nltk_data] Downloading package punkt to /root/nltk_data...\n",
            "[nltk_data]   Package punkt is already up-to-date!\n",
            "[nltk_data] Downloading package wordnet to /root/nltk_data...\n",
            "[nltk_data]   Package wordnet is already up-to-date!\n",
            "[nltk_data] Downloading package averaged_perceptron_tagger to\n",
            "[nltk_data]     /root/nltk_data...\n",
            "[nltk_data]   Package averaged_perceptron_tagger is already up-to-\n",
            "[nltk_data]       date!\n",
            "[nltk_data] Downloading package conll2000 to /root/nltk_data...\n",
            "[nltk_data]   Package conll2000 is already up-to-date!\n",
            "[nltk_data] Downloading package movie_reviews to /root/nltk_data...\n",
            "[nltk_data]   Package movie_reviews is already up-to-date!\n",
            "Finished.\n"
          ],
          "name": "stdout"
        },
        {
          "output_type": "execute_result",
          "data": {
            "text/plain": [
              "[('[', 'JJ'),\n",
              " ('[', 'NNP'),\n",
              " (\"'armen\", 'POS'),\n",
              " ('ra', 'NN'),\n",
              " ('is', 'VBZ'),\n",
              " ('an', 'DT'),\n",
              " ('american', 'JJ'),\n",
              " ('artist', 'NN'),\n",
              " ('and', 'CC'),\n",
              " ('performer', 'NN'),\n",
              " ('of', 'IN'),\n",
              " ('iranianarmenian', 'JJ'),\n",
              " ('descent', 'NN'),\n",
              " ('born', 'VBN'),\n",
              " ('in', 'IN'),\n",
              " ('tehran', 'NN'),\n",
              " ('iran', 'NN'),\n",
              " ('he', 'PRP'),\n",
              " ('was', 'VBD'),\n",
              " ('raised', 'VBN'),\n",
              " ('by', 'IN'),\n",
              " ('his', 'PRP$'),\n",
              " ('mother', 'NN'),\n",
              " ('a', 'DT'),\n",
              " ('concert', 'NN'),\n",
              " ('pianist', 'NN'),\n",
              " ('and', 'CC'),\n",
              " ('his', 'PRP$'),\n",
              " ('aunt', 'NN'),\n",
              " ('an', 'DT'),\n",
              " ('opera', 'NN'),\n",
              " ('singer', 'NN'),\n",
              " ('and', 'CC'),\n",
              " ('ikebana', 'JJ'),\n",
              " ('master', 'NN'),\n",
              " ('he', 'PRP'),\n",
              " ('taught', 'VBD'),\n",
              " ('himself', 'PRP'),\n",
              " ('to', 'TO'),\n",
              " ('play', 'VB'),\n",
              " ('theremin', 'VB'),\n",
              " ('his', 'PRP$'),\n",
              " ('music', 'NN'),\n",
              " ('fuses', 'VBZ'),\n",
              " ('armenian', 'JJ'),\n",
              " ('folk', 'NN'),\n",
              " ('music', 'NN'),\n",
              " ('with', 'IN'),\n",
              " ('modern', 'JJ'),\n",
              " ('instrumentation', 'NN'),\n",
              " ('along', 'IN'),\n",
              " ('with', 'IN'),\n",
              " ('melodic', 'JJ'),\n",
              " ('lounge', 'NN'),\n",
              " ('standards', 'NNS'),\n",
              " ('and', 'CC'),\n",
              " ('classical', 'JJ'),\n",
              " ('arias', 'NN'),\n",
              " ('his', 'PRP$'),\n",
              " ('concerts', 'NNS'),\n",
              " ('are', 'VBP'),\n",
              " ('known', 'VBN'),\n",
              " ('for', 'IN'),\n",
              " ('their', 'PRP$'),\n",
              " ('combination', 'NN'),\n",
              " ('of', 'IN'),\n",
              " ('both', 'DT'),\n",
              " ('visual', 'JJ'),\n",
              " ('arts', 'NNS'),\n",
              " ('and', 'CC'),\n",
              " ('his', 'PRP$'),\n",
              " ('musicarmen', 'NNS'),\n",
              " ('ra', 'NN'),\n",
              " ('has', 'VBZ'),\n",
              " ('played', 'VBN'),\n",
              " ('at', 'IN'),\n",
              " ('the', 'DT'),\n",
              " ('united', 'JJ'),\n",
              " ('nations', 'NNS'),\n",
              " ('wiener', 'VBP'),\n",
              " ('konzerthaus', 'JJ'),\n",
              " ('mozartsaal', 'NN'),\n",
              " ('vienna', 'NN'),\n",
              " ('cbgbs', 'VBZ'),\n",
              " ('knitting', 'VBG'),\n",
              " ('factory', 'NN'),\n",
              " ('la', 'FW'),\n",
              " ('mama', 'FW'),\n",
              " ('etc', 'FW'),\n",
              " ('joes', 'NNS'),\n",
              " ('pub', 'VB'),\n",
              " ('boulder', 'JJR'),\n",
              " ('museum', 'NN'),\n",
              " ('of', 'IN'),\n",
              " ('modern', 'JJ'),\n",
              " ('art', 'NN'),\n",
              " ('lincoln', 'NN'),\n",
              " ('center', 'NN'),\n",
              " ('the', 'DT'),\n",
              " ('gershwin', 'JJ'),\n",
              " ('hotel', 'NN'),\n",
              " ('bb', 'NN'),\n",
              " ('king', 'VBG'),\n",
              " ('museum', 'NN'),\n",
              " ('and', 'CC'),\n",
              " ('dietch', 'NN'),\n",
              " ('projects', 'NNS'),\n",
              " ('he', 'PRP'),\n",
              " ('has', 'VBZ'),\n",
              " ('been', 'VBN'),\n",
              " ('featured', 'VBN'),\n",
              " ('on', 'IN'),\n",
              " ('and', 'CC'),\n",
              " ('appeared', 'VBD'),\n",
              " ('in', 'IN'),\n",
              " ('cnn', 'NN'),\n",
              " ('hbo', 'NN'),\n",
              " ('mtv', 'NN'),\n",
              " ('vh1', 'NN'),\n",
              " ('vogue', 'VBP'),\n",
              " ('the', 'DT'),\n",
              " ('new', 'JJ'),\n",
              " ('york', 'NN'),\n",
              " ('times', 'NNS'),\n",
              " ('the', 'DT'),\n",
              " ('new', 'JJ'),\n",
              " ('york', 'NN'),\n",
              " ('post', 'NN'),\n",
              " ('the', 'DT'),\n",
              " ('village', 'NN'),\n",
              " ('voice', 'NN'),\n",
              " ('rolling', 'VBG'),\n",
              " ('stone', 'NN'),\n",
              " ('and', 'CC'),\n",
              " ('glamourhe', 'NN'),\n",
              " ('has', 'VBZ'),\n",
              " ('performed', 'VBN'),\n",
              " ('and', 'CC'),\n",
              " ('recorded', 'VBN'),\n",
              " ('with', 'IN'),\n",
              " ('various', 'JJ'),\n",
              " ('bands', 'NNS'),\n",
              " ('and', 'CC'),\n",
              " ('on', 'IN'),\n",
              " ('many', 'JJ'),\n",
              " ('projects', 'NNS'),\n",
              " ('including', 'VBG'),\n",
              " ('a', 'DT'),\n",
              " ('collaboration', 'NN'),\n",
              " ('with', 'IN'),\n",
              " ('british', 'JJ'),\n",
              " ('recording', 'VBG'),\n",
              " ('artist', 'NN'),\n",
              " ('marc', 'FW'),\n",
              " ('almond', 'NN'),\n",
              " ('on', 'IN'),\n",
              " ('the', 'DT'),\n",
              " ('song', 'NN'),\n",
              " ('my', 'PRP$'),\n",
              " ('madness', 'NN'),\n",
              " ('i', 'NN'),\n",
              " ('from', 'IN'),\n",
              " ('his', 'PRP$'),\n",
              " ('2010', 'CD'),\n",
              " ('release', 'NN'),\n",
              " ('variet', 'VBD'),\n",
              " ('his', 'PRP$'),\n",
              " ('debut', 'NN'),\n",
              " ('solo', 'VBZ'),\n",
              " ('cd', 'NN'),\n",
              " ('plays', 'VBZ'),\n",
              " ('the', 'DT'),\n",
              " ('theremin', 'NN'),\n",
              " ('released', 'VBN'),\n",
              " ('on', 'IN'),\n",
              " ('bowl', 'NN'),\n",
              " ('fork', 'NN'),\n",
              " ('records', 'NNS'),\n",
              " ('in', 'IN'),\n",
              " ('2010', 'CD'),\n",
              " ('showcases', 'NNS'),\n",
              " ('many', 'JJ'),\n",
              " ('classical', 'JJ'),\n",
              " ('armenian', 'JJ'),\n",
              " ('laments', 'NNS'),\n",
              " ('and', 'CC'),\n",
              " ('folk', 'JJ'),\n",
              " ('songs', 'NNS'),\n",
              " ('representing', 'VBG'),\n",
              " ('both', 'DT'),\n",
              " ('armens', 'NNS'),\n",
              " ('heritage', 'NN'),\n",
              " ('and', 'CC'),\n",
              " ('his', 'PRP$'),\n",
              " ('very', 'RB'),\n",
              " ('first', 'RB'),\n",
              " ('musical', 'JJ'),\n",
              " ('influence', 'NN'),\n",
              " ('he', 'PRP'),\n",
              " ('has', 'VBZ'),\n",
              " ('a', 'DT'),\n",
              " ('cameo', 'JJ'),\n",
              " ('appearance', 'NN'),\n",
              " ('in', 'IN'),\n",
              " ('the', 'DT'),\n",
              " ('film', 'NN'),\n",
              " ('party', 'NN'),\n",
              " ('monsterhe', 'NN'),\n",
              " ('currently', 'RB'),\n",
              " ('resides', 'VBZ'),\n",
              " ('in', 'IN'),\n",
              " ('hollywood', 'NN'),\n",
              " ('californiain', 'NN'),\n",
              " ('october', 'IN'),\n",
              " ('2010', 'CD'),\n",
              " ('armen', 'NNS'),\n",
              " ('appeared', 'VBD'),\n",
              " ('as', 'IN'),\n",
              " ('a', 'DT'),\n",
              " ('guest', 'NN'),\n",
              " ('judge', 'NN'),\n",
              " ('on', 'IN'),\n",
              " ('the', 'DT'),\n",
              " ('logo', 'NN'),\n",
              " ('network', 'NN'),\n",
              " ('show', 'VBP'),\n",
              " ('the', 'DT'),\n",
              " ('arrangementra', 'NN'),\n",
              " ('appeared', 'VBD'),\n",
              " ('on', 'IN'),\n",
              " ('the', 'DT'),\n",
              " ('cover', 'NN'),\n",
              " ('track', 'NN'),\n",
              " ('everyday', 'NN'),\n",
              " ('is', 'VBZ'),\n",
              " ('halloween', 'JJ'),\n",
              " ('playing', 'VBG'),\n",
              " ('the', 'DT'),\n",
              " ('theremin', 'NN'),\n",
              " ('for', 'IN'),\n",
              " ('sharon', 'NN'),\n",
              " ('needles', 'NNS'),\n",
              " ('album', 'VBP'),\n",
              " ('pg13', 'NN'),\n",
              " ('in', 'IN'),\n",
              " ('2014', 'CD'),\n",
              " ('he', 'PRP'),\n",
              " ('played', 'VBD'),\n",
              " ('the', 'DT'),\n",
              " ('theremin', 'NN'),\n",
              " ('for', 'IN'),\n",
              " ('voltaires', 'NNS'),\n",
              " ('album', 'NNS'),\n",
              " ('raised', 'VBN'),\n",
              " ('by', 'IN'),\n",
              " ('bats', 'NNS'),\n",
              " (\"'\", 'POS'),\n",
              " (']', 'NNS'),\n",
              " (']', 'VBP')]"
            ]
          },
          "metadata": {
            "tags": []
          },
          "execution_count": 23
        }
      ]
    },
    {
      "cell_type": "markdown",
      "metadata": {
        "id": "GFEsQuE6sbk9"
      },
      "source": [
        "Identify the nouns in the overview."
      ]
    },
    {
      "cell_type": "code",
      "metadata": {
        "id": "aWerh1aGqK8k",
        "colab": {
          "base_uri": "https://localhost:8080/",
          "height": 54
        },
        "outputId": "ace11ceb-8bd6-4eea-96b1-3c6dab4cb5e5"
      },
      "source": [
        "wiki.noun_phrases"
      ],
      "execution_count": null,
      "outputs": [
        {
          "output_type": "execute_result",
          "data": {
            "text/plain": [
              "WordList([\"[ [ 'armen ra\", 'american artist', 'iranianarmenian descent', 'tehran iran', 'concert pianist', 'opera singer', 'ikebana master', 'music fuses armenian folk music', 'modern instrumentation', 'melodic lounge standards', 'classical arias', 'visual arts', 'musicarmen ra', 'nations wiener konzerthaus mozartsaal vienna cbgbs', 'mama etc joes pub boulder museum', 'modern art lincoln center', 'gershwin hotel bb king museum', 'dietch projects', 'cnn hbo mtv vh1 vogue', 'new york times', 'new york post', 'village voice', 'various bands', 'artist marc almond', 'madness i', 'release variet', 'debut solo cd plays', 'bowl fork records', 'classical armenian laments', 'folk songs', 'armens heritage', 'musical influence', 'cameo appearance', 'film party monsterhe', 'hollywood californiain october', 'guest judge', 'logo network show', 'sharon needles album pg13', 'voltaires album', '] ]'])"
            ]
          },
          "metadata": {
            "tags": []
          },
          "execution_count": 24
        }
      ]
    },
    {
      "cell_type": "code",
      "metadata": {
        "id": "D83JUmvSqVPb"
      },
      "source": [
        "zen = TextBlob(str(sent1))"
      ],
      "execution_count": null,
      "outputs": []
    },
    {
      "cell_type": "markdown",
      "metadata": {
        "id": "xZTesGVmsguI"
      },
      "source": [
        "Identify the words in the overview."
      ]
    },
    {
      "cell_type": "code",
      "metadata": {
        "id": "Ov4hR32Pq0Ib",
        "colab": {
          "base_uri": "https://localhost:8080/",
          "height": 54
        },
        "outputId": "e26de837-63da-441d-9a1f-12849114fa1f"
      },
      "source": [
        "zen.words"
      ],
      "execution_count": null,
      "outputs": [
        {
          "output_type": "execute_result",
          "data": {
            "text/plain": [
              "WordList([\"'armen\", 'ra', 'is', 'an', 'american', 'artist', 'and', 'performer', 'of', 'iranianarmenian', 'descent', 'born', 'in', 'tehran', 'iran', 'he', 'was', 'raised', 'by', 'his', 'mother', 'a', 'concert', 'pianist', 'and', 'his', 'aunt', 'an', 'opera', 'singer', 'and', 'ikebana', 'master', 'he', 'taught', 'himself', 'to', 'play', 'theremin', 'his', 'music', 'fuses', 'armenian', 'folk', 'music', 'with', 'modern', 'instrumentation', 'along', 'with', 'melodic', 'lounge', 'standards', 'and', 'classical', 'arias', 'his', 'concerts', 'are', 'known', 'for', 'their', 'combination', 'of', 'both', 'visual', 'arts', 'and', 'his', 'musicarmen', 'ra', 'has', 'played', 'at', 'the', 'united', 'nations', 'wiener', 'konzerthaus', 'mozartsaal', 'vienna', 'cbgbs', 'knitting', 'factory', 'la', 'mama', 'etc', 'joes', 'pub', 'boulder', 'museum', 'of', 'modern', 'art', 'lincoln', 'center', 'the', 'gershwin', 'hotel', 'bb', 'king', 'museum', 'and', 'dietch', 'projects', 'he', 'has', 'been', 'featured', 'on', 'and', 'appeared', 'in', 'cnn', 'hbo', 'mtv', 'vh1', 'vogue', 'the', 'new', 'york', 'times', 'the', 'new', 'york', 'post', 'the', 'village', 'voice', 'rolling', 'stone', 'and', 'glamourhe', 'has', 'performed', 'and', 'recorded', 'with', 'various', 'bands', 'and', 'on', 'many', 'projects', 'including', 'a', 'collaboration', 'with', 'british', 'recording', 'artist', 'marc', 'almond', 'on', 'the', 'song', 'my', 'madness', 'i', 'from', 'his', '2010', 'release', 'variet', 'his', 'debut', 'solo', 'cd', 'plays', 'the', 'theremin', 'released', 'on', 'bowl', 'fork', 'records', 'in', '2010', 'showcases', 'many', 'classical', 'armenian', 'laments', 'and', 'folk', 'songs', 'representing', 'both', 'armens', 'heritage', 'and', 'his', 'very', 'first', 'musical', 'influence', 'he', 'has', 'a', 'cameo', 'appearance', 'in', 'the', 'film', 'party', 'monsterhe', 'currently', 'resides', 'in', 'hollywood', 'californiain', 'october', '2010', 'armen', 'appeared', 'as', 'a', 'guest', 'judge', 'on', 'the', 'logo', 'network', 'show', 'the', 'arrangementra', 'appeared', 'on', 'the', 'cover', 'track', 'everyday', 'is', 'halloween', 'playing', 'the', 'theremin', 'for', 'sharon', 'needles', 'album', 'pg13', 'in', '2014', 'he', 'played', 'the', 'theremin', 'for', 'voltaires', 'album', 'raised', 'by', 'bats'])"
            ]
          },
          "metadata": {
            "tags": []
          },
          "execution_count": 26
        }
      ]
    },
    {
      "cell_type": "markdown",
      "metadata": {
        "id": "HeA68dXtsjFX"
      },
      "source": [
        "Identify the sentences in the overview."
      ]
    },
    {
      "cell_type": "code",
      "metadata": {
        "id": "PszaMGjSqzKt",
        "colab": {
          "base_uri": "https://localhost:8080/",
          "height": 54
        },
        "outputId": "eb17ffd8-f61c-4335-d31f-d7039816b872"
      },
      "source": [
        "zen.sentences"
      ],
      "execution_count": null,
      "outputs": [
        {
          "output_type": "execute_result",
          "data": {
            "text/plain": [
              "[Sentence(\"[['armen ra is an american artist and performer of iranianarmenian descent born in tehran iran he was raised by his mother a concert pianist and his aunt an opera singer and ikebana master he taught himself to play theremin his music fuses armenian folk music with modern instrumentation along with melodic lounge standards and classical arias his concerts are known for their combination of both visual arts and his musicarmen ra has played at the united nations wiener konzerthaus mozartsaal vienna cbgbs knitting factory la mama etc joes pub boulder museum of modern art lincoln center the gershwin hotel bb king museum and dietch projects he has been featured on and appeared in cnn hbo mtv vh1 vogue the new york times the new york post the village voice rolling stone and glamourhe has performed and recorded with various bands and on many projects including a collaboration with british recording artist marc almond on the song my madness i from his 2010 release variet his debut solo cd plays the theremin released on bowl fork records in 2010 showcases many classical armenian laments and folk songs representing both armens heritage and his very first musical influence he has a cameo appearance in the film party monsterhe currently resides in hollywood californiain october 2010 armen appeared as a guest judge on the logo network show the arrangementra appeared on the cover track everyday is halloween playing the theremin for sharon needles album pg13 in 2014 he played the theremin for voltaires album raised by bats']]\")]"
            ]
          },
          "metadata": {
            "tags": []
          },
          "execution_count": 27
        }
      ]
    },
    {
      "cell_type": "code",
      "metadata": {
        "id": "uO9KSoRgrQPH"
      },
      "source": [
        "sentence = TextBlob(str(sent1))"
      ],
      "execution_count": null,
      "outputs": []
    },
    {
      "cell_type": "code",
      "metadata": {
        "id": "BisfQuyVrZgR",
        "colab": {
          "base_uri": "https://localhost:8080/",
          "height": 54
        },
        "outputId": "117076e6-cf0e-441d-bea9-3d2380f58342"
      },
      "source": [
        "sentence.words"
      ],
      "execution_count": null,
      "outputs": [
        {
          "output_type": "execute_result",
          "data": {
            "text/plain": [
              "WordList([\"'armen\", 'ra', 'is', 'an', 'american', 'artist', 'and', 'performer', 'of', 'iranianarmenian', 'descent', 'born', 'in', 'tehran', 'iran', 'he', 'was', 'raised', 'by', 'his', 'mother', 'a', 'concert', 'pianist', 'and', 'his', 'aunt', 'an', 'opera', 'singer', 'and', 'ikebana', 'master', 'he', 'taught', 'himself', 'to', 'play', 'theremin', 'his', 'music', 'fuses', 'armenian', 'folk', 'music', 'with', 'modern', 'instrumentation', 'along', 'with', 'melodic', 'lounge', 'standards', 'and', 'classical', 'arias', 'his', 'concerts', 'are', 'known', 'for', 'their', 'combination', 'of', 'both', 'visual', 'arts', 'and', 'his', 'musicarmen', 'ra', 'has', 'played', 'at', 'the', 'united', 'nations', 'wiener', 'konzerthaus', 'mozartsaal', 'vienna', 'cbgbs', 'knitting', 'factory', 'la', 'mama', 'etc', 'joes', 'pub', 'boulder', 'museum', 'of', 'modern', 'art', 'lincoln', 'center', 'the', 'gershwin', 'hotel', 'bb', 'king', 'museum', 'and', 'dietch', 'projects', 'he', 'has', 'been', 'featured', 'on', 'and', 'appeared', 'in', 'cnn', 'hbo', 'mtv', 'vh1', 'vogue', 'the', 'new', 'york', 'times', 'the', 'new', 'york', 'post', 'the', 'village', 'voice', 'rolling', 'stone', 'and', 'glamourhe', 'has', 'performed', 'and', 'recorded', 'with', 'various', 'bands', 'and', 'on', 'many', 'projects', 'including', 'a', 'collaboration', 'with', 'british', 'recording', 'artist', 'marc', 'almond', 'on', 'the', 'song', 'my', 'madness', 'i', 'from', 'his', '2010', 'release', 'variet', 'his', 'debut', 'solo', 'cd', 'plays', 'the', 'theremin', 'released', 'on', 'bowl', 'fork', 'records', 'in', '2010', 'showcases', 'many', 'classical', 'armenian', 'laments', 'and', 'folk', 'songs', 'representing', 'both', 'armens', 'heritage', 'and', 'his', 'very', 'first', 'musical', 'influence', 'he', 'has', 'a', 'cameo', 'appearance', 'in', 'the', 'film', 'party', 'monsterhe', 'currently', 'resides', 'in', 'hollywood', 'californiain', 'october', '2010', 'armen', 'appeared', 'as', 'a', 'guest', 'judge', 'on', 'the', 'logo', 'network', 'show', 'the', 'arrangementra', 'appeared', 'on', 'the', 'cover', 'track', 'everyday', 'is', 'halloween', 'playing', 'the', 'theremin', 'for', 'sharon', 'needles', 'album', 'pg13', 'in', '2014', 'he', 'played', 'the', 'theremin', 'for', 'voltaires', 'album', 'raised', 'by', 'bats'])"
            ]
          },
          "metadata": {
            "tags": []
          },
          "execution_count": 29
        }
      ]
    },
    {
      "cell_type": "code",
      "metadata": {
        "id": "TtRogjQDrcEu",
        "colab": {
          "base_uri": "https://localhost:8080/",
          "height": 35
        },
        "outputId": "26a7114e-85d6-474d-97e7-d1f31cae66a4"
      },
      "source": [
        "sentence.words[-1].pluralize()"
      ],
      "execution_count": null,
      "outputs": [
        {
          "output_type": "execute_result",
          "data": {
            "application/vnd.google.colaboratory.intrinsic+json": {
              "type": "string"
            },
            "text/plain": [
              "'batss'"
            ]
          },
          "metadata": {
            "tags": []
          },
          "execution_count": 30
        }
      ]
    },
    {
      "cell_type": "code",
      "metadata": {
        "id": "ujtucJs5rgTl",
        "colab": {
          "base_uri": "https://localhost:8080/",
          "height": 35
        },
        "outputId": "4583d782-e0f3-4d25-e414-aec25e815bde"
      },
      "source": [
        "sentence.words[-1].singularize()"
      ],
      "execution_count": null,
      "outputs": [
        {
          "output_type": "execute_result",
          "data": {
            "application/vnd.google.colaboratory.intrinsic+json": {
              "type": "string"
            },
            "text/plain": [
              "'bat'"
            ]
          },
          "metadata": {
            "tags": []
          },
          "execution_count": 31
        }
      ]
    },
    {
      "cell_type": "code",
      "metadata": {
        "id": "S-e5nXrbrmLK",
        "colab": {
          "base_uri": "https://localhost:8080/",
          "height": 54
        },
        "outputId": "ed33ee98-525f-42c0-f59d-d4c627f837fd"
      },
      "source": [
        "b = TextBlob(str(sentence))\n",
        "print(b.correct())"
      ],
      "execution_count": null,
      "outputs": [
        {
          "output_type": "stream",
          "text": [
            "[['armed ra is an american artist and performer of iranianarmenian descent born in than ran he was raised by his mother a concert pianist and his aunt an opera singer and ikebana master he taught himself to play therein his music fuses armenian folk music with modern instrumentation along with melody lounge standards and classical areas his concerts are known for their combination of both visual arts and his musicarmen ra has played at the united nations winner konzerthaus mozartsaal vienna clubs knitting factory la mamma etc does pub bolder museum of modern art lincoln center the gershwin hotel by king museum and ditch projects he has been features on and appeared in can ho mt the vogue the new york times the new york post the village voice rolling stone and glamour has performed and recorded with various bands and on many projects including a collaboration with british recording artist mary almond on the song my madness i from his 2010 release variety his debut solo d plays the therein released on bowl fork records in 2010 showcases many classical armenian laments and folk songs representing both arms heritage and his very first musical influence he has a cameo appearance in the film party monster currently besides in hollywood californian october 2010 armed appeared as a guest judge on the log network show the arrangement appeared on the cover track everyday is halloween playing the therein for charon needles album pg in 2014 he played the therein for voltaires album raised by bath']]\n"
          ],
          "name": "stdout"
        }
      ]
    },
    {
      "cell_type": "markdown",
      "metadata": {
        "id": "7fAFP_wOxAzU"
      },
      "source": [
        "Output the sentiment for Armen Ra's overview."
      ]
    },
    {
      "cell_type": "code",
      "metadata": {
        "id": "TonUH2A6rCKQ",
        "colab": {
          "base_uri": "https://localhost:8080/",
          "height": 34
        },
        "outputId": "0c7e6638-eb96-4a91-be38-b62788f698fe"
      },
      "source": [
        "for sentence in zen.sentences:\n",
        "  print(sentence.sentiment[0])"
      ],
      "execution_count": null,
      "outputs": [
        {
          "output_type": "stream",
          "text": [
            "0.09986631016042781\n"
          ],
          "name": "stdout"
        }
      ]
    },
    {
      "cell_type": "markdown",
      "metadata": {
        "id": "D1d6vSUfFLr9"
      },
      "source": [
        "## Part 2 of Project"
      ]
    },
    {
      "cell_type": "markdown",
      "metadata": {
        "id": "8ZMp5YVKrekI"
      },
      "source": [
        "### Data Collection"
      ]
    },
    {
      "cell_type": "markdown",
      "metadata": {
        "id": "73iVXxraF6J6"
      },
      "source": [
        "Install Wikipedia API. Wikipedia will be the main datasource for this step to access the full content of Armen Ra's page."
      ]
    },
    {
      "cell_type": "code",
      "metadata": {
        "id": "eT7-PKudEUB9",
        "colab": {
          "base_uri": "https://localhost:8080/",
          "height": 292
        },
        "outputId": "c7f89f35-5cdf-4b20-b560-50ac05f64724"
      },
      "source": [
        "!pip install wikipedia"
      ],
      "execution_count": null,
      "outputs": [
        {
          "output_type": "stream",
          "text": [
            "Collecting wikipedia\n",
            "  Downloading https://files.pythonhosted.org/packages/67/35/25e68fbc99e672127cc6fbb14b8ec1ba3dfef035bf1e4c90f78f24a80b7d/wikipedia-1.4.0.tar.gz\n",
            "Requirement already satisfied: beautifulsoup4 in /usr/local/lib/python3.6/dist-packages (from wikipedia) (4.6.3)\n",
            "Requirement already satisfied: requests<3.0.0,>=2.0.0 in /usr/local/lib/python3.6/dist-packages (from wikipedia) (2.23.0)\n",
            "Requirement already satisfied: urllib3!=1.25.0,!=1.25.1,<1.26,>=1.21.1 in /usr/local/lib/python3.6/dist-packages (from requests<3.0.0,>=2.0.0->wikipedia) (1.24.3)\n",
            "Requirement already satisfied: chardet<4,>=3.0.2 in /usr/local/lib/python3.6/dist-packages (from requests<3.0.0,>=2.0.0->wikipedia) (3.0.4)\n",
            "Requirement already satisfied: certifi>=2017.4.17 in /usr/local/lib/python3.6/dist-packages (from requests<3.0.0,>=2.0.0->wikipedia) (2020.6.20)\n",
            "Requirement already satisfied: idna<3,>=2.5 in /usr/local/lib/python3.6/dist-packages (from requests<3.0.0,>=2.0.0->wikipedia) (2.10)\n",
            "Building wheels for collected packages: wikipedia\n",
            "  Building wheel for wikipedia (setup.py) ... \u001b[?25l\u001b[?25hdone\n",
            "  Created wheel for wikipedia: filename=wikipedia-1.4.0-cp36-none-any.whl size=11686 sha256=6d5f7fc6b4f0f0e4c31c37d8d160860598453ba077438b8e07d1e5f5e039efe8\n",
            "  Stored in directory: /root/.cache/pip/wheels/87/2a/18/4e471fd96d12114d16fe4a446d00c3b38fb9efcb744bd31f4a\n",
            "Successfully built wikipedia\n",
            "Installing collected packages: wikipedia\n",
            "Successfully installed wikipedia-1.4.0\n"
          ],
          "name": "stdout"
        }
      ]
    },
    {
      "cell_type": "code",
      "metadata": {
        "id": "z2AoZIh4mLaa"
      },
      "source": [
        "import wikipedia"
      ],
      "execution_count": null,
      "outputs": []
    },
    {
      "cell_type": "markdown",
      "metadata": {
        "id": "wxzYxPNMrqgg"
      },
      "source": [
        "### Data Processing"
      ]
    },
    {
      "cell_type": "markdown",
      "metadata": {
        "id": "fkAvFRSsLShN"
      },
      "source": [
        "Produce the entire page of Armen Ra"
      ]
    },
    {
      "cell_type": "code",
      "metadata": {
        "id": "tb0kdgTANz2A",
        "colab": {
          "base_uri": "https://localhost:8080/",
          "height": 54
        },
        "outputId": "79f8491b-9a91-43e1-9d70-ee586039e59e"
      },
      "source": [
        "#search wikipedia for Armen Ra\n",
        "print(wikipedia.search('Armen Ra'))"
      ],
      "execution_count": null,
      "outputs": [
        {
          "output_type": "stream",
          "text": [
            "['Armen Ra', 'Ra (disambiguation)', 'Armen (name)', 'List of American musicians of Armenian descent', 'Party Monster (film)', 'Tammie Brown', 'Miss Fame', 'Blue Madonna', 'Armen Hambardzumyan', '2003 in film']\n"
          ],
          "name": "stdout"
        }
      ]
    },
    {
      "cell_type": "code",
      "metadata": {
        "id": "jW0XJW4xGNtC",
        "colab": {
          "base_uri": "https://localhost:8080/",
          "height": 54
        },
        "outputId": "4e27c646-d6bd-4a3e-ca3f-e9283da05378"
      },
      "source": [
        "#output the summary for Armen Ra\n",
        "print(wikipedia.summary(\"Armen Ra\"))\n"
      ],
      "execution_count": null,
      "outputs": [
        {
          "output_type": "stream",
          "text": [
            "Armen Ra is a Persian-Armenian artist, self-taught thereminist, production designer, director, and performer.\n"
          ],
          "name": "stdout"
        }
      ]
    },
    {
      "cell_type": "code",
      "metadata": {
        "id": "DRIu1dMomiCV",
        "colab": {
          "base_uri": "https://localhost:8080/",
          "height": 34
        },
        "outputId": "65fe8c88-401b-4efe-b5a5-ab3c76c7463f"
      },
      "source": [
        "#output the page for Armen Ra\n",
        "print(wikipedia.page(\"Armen Ra\"))"
      ],
      "execution_count": null,
      "outputs": [
        {
          "output_type": "stream",
          "text": [
            "<WikipediaPage 'Armen Ra'>\n"
          ],
          "name": "stdout"
        }
      ]
    },
    {
      "cell_type": "code",
      "metadata": {
        "id": "1lVqW7QtQOW8",
        "colab": {
          "base_uri": "https://localhost:8080/",
          "height": 802
        },
        "outputId": "f344b48c-32bd-46bd-cef7-359e8078f55a"
      },
      "source": [
        "#output the page content for Armen Ra\n",
        "print(wikipedia.page('Armen Ra').content)"
      ],
      "execution_count": null,
      "outputs": [
        {
          "output_type": "stream",
          "text": [
            "Armen Ra is a Persian-Armenian artist, self-taught thereminist, production designer, director, and performer.\n",
            "\n",
            "\n",
            "== Musical career ==\n",
            "\n",
            "\n",
            "=== Career (2010-2013) ===\n",
            "Ra began studying the theremin in 2001, debuting with the orchestral group Antony & the Johnsons in New York City.\n",
            "Ra has played at the United Nations, Wiener Konzerthaus Mozartsaal Vienna, CBGBs, Knitting Factory, La MaMa E.T.C., Joe's Pub, Boulder Museum of Modern Art, Lincoln Center, The Gershwin Hotel, B.B. King Museum, and Dietch Projects.\n",
            "He has performed and recorded with various bands and on many projects (including a collaboration with British recording artist Marc Almond \n",
            "(of Soft Cell), on the song \"My Madness & I\" from his 2010 release Varieté). His debut solo CD Plays the Theremin (released on Bowl & Fork Records in 2010) showcases many classical Armenian laments and folk songs. Ra performed on the Sharon Needles album PG-13 on band Ministry's cover track \"Everyday Is Halloween\".\n",
            "\n",
            "\n",
            "=== Career (2014-present) ===\n",
            "In recent years, Ra has appeared in the following works:\n",
            "\n",
            "Armen plays on the Current 93 album entitled HoneySuckle Æons. He appears in multiple songs on this 2011 release.\n",
            "Armen plays on the debut album of Sharon Needles. The songs “Everyday Is Halloween” and “This Club Is a Haunted House” were released in 2013.\n",
            "In 2014, he played the theremin for Voltaire's album Raised by Bats.\n",
            "In 2015, he released Theremin Classique, a collection of European arias.\n",
            "Armen's recording of “Dle Yaman” was used for the video of designer Michael Schmidt’s 3-D gown in 2015.\n",
            "He was featured on Selena Gomez’s Revival on the track “Me and My Girls” in 2016\n",
            "He was featured on Gwen Stefani’s album on the track “Naughty” in 2016.\n",
            "He was featured on track 11 \"Supernatural\" of BØRNS' Blue Madonna\n",
            "\n",
            "\n",
            "== Appearances in Media ==\n",
            "He has a cameo appearance in the film Party Monster. Other appearances in media include:\n",
            "\n",
            "Cameo as a desk clerk in Tomorrow Always Comes in 2006.\n",
            "Music for the short film Connect in 2010.\n",
            "Guest judge on the Logo Network show The Arrangement.\n",
            "Opener for Nick Cave & The Bad Seeds's Grinderman on their 2010 tour.\n",
            "Production designer for the 2012 horror movie Excision.\n",
            "Release of the documentary When My Sorrow Died: The Legend of Armen Ra & the Theremin.\n",
            "Music for the movie Hara Kiri in 2016.\n",
            "Promotional videos for electropop artist BØRNS, entitled \"The Search for the Lost Sounds\" and \"The Faded Heart Sessions\".\n",
            "\n",
            "\n",
            "== References ==\n",
            "\n",
            "\n",
            "== External links ==\n",
            "Official Website\n",
            "Armen Ra at a benefit concert on April 4 at the Angel Orensanz Center in New York\n"
          ],
          "name": "stdout"
        }
      ]
    },
    {
      "cell_type": "code",
      "metadata": {
        "id": "1hc_ql38QZpi",
        "colab": {
          "base_uri": "https://localhost:8080/",
          "height": 34
        },
        "outputId": "16f8e8fd-0a9d-47d6-8bd5-547d193a5ef2"
      },
      "source": [
        "#output the url for Armen Ra's Wikipedia page\n",
        "print(wikipedia.page('Armen Ra').url)"
      ],
      "execution_count": null,
      "outputs": [
        {
          "output_type": "stream",
          "text": [
            "https://en.wikipedia.org/wiki/Armen_Ra\n"
          ],
          "name": "stdout"
        }
      ]
    },
    {
      "cell_type": "code",
      "metadata": {
        "id": "4y9RCagBRIn1"
      },
      "source": [
        "ra_df = pd.read_html('https://en.wikipedia.org/wiki/Armen_Ra')"
      ],
      "execution_count": null,
      "outputs": []
    },
    {
      "cell_type": "code",
      "metadata": {
        "id": "kG6p6acdg9tg",
        "colab": {
          "base_uri": "https://localhost:8080/",
          "height": 34
        },
        "outputId": "0741f192-d2fe-4091-cbc7-b6a694d76f95"
      },
      "source": [
        "type(ra_df)"
      ],
      "execution_count": null,
      "outputs": [
        {
          "output_type": "execute_result",
          "data": {
            "text/plain": [
              "list"
            ]
          },
          "metadata": {
            "tags": []
          },
          "execution_count": 42
        }
      ]
    },
    {
      "cell_type": "code",
      "metadata": {
        "id": "45nPBtnAhTOv"
      },
      "source": [
        "page = wikipedia.page('Armen Ra')"
      ],
      "execution_count": null,
      "outputs": []
    },
    {
      "cell_type": "code",
      "metadata": {
        "id": "NgoOkC_shY7L",
        "colab": {
          "base_uri": "https://localhost:8080/",
          "height": 52
        },
        "outputId": "fa351ac6-b0e6-4d53-cbb4-56fa99ad6360"
      },
      "source": [
        "page.summary"
      ],
      "execution_count": null,
      "outputs": [
        {
          "output_type": "execute_result",
          "data": {
            "application/vnd.google.colaboratory.intrinsic+json": {
              "type": "string"
            },
            "text/plain": [
              "'Armen Ra is a Persian-Armenian artist, self-taught thereminist, production designer, director, and performer.'"
            ]
          },
          "metadata": {
            "tags": []
          },
          "execution_count": 44
        }
      ]
    },
    {
      "cell_type": "code",
      "metadata": {
        "id": "2yILkRTPhblX",
        "colab": {
          "base_uri": "https://localhost:8080/",
          "height": 256
        },
        "outputId": "c211b384-58c1-4a14-e172-cde09efbfa5d"
      },
      "source": [
        "page.content"
      ],
      "execution_count": null,
      "outputs": [
        {
          "output_type": "execute_result",
          "data": {
            "application/vnd.google.colaboratory.intrinsic+json": {
              "type": "string"
            },
            "text/plain": [
              "'Armen Ra is a Persian-Armenian artist, self-taught thereminist, production designer, director, and performer.\\n\\n\\n== Musical career ==\\n\\n\\n=== Career (2010-2013) ===\\nRa began studying the theremin in 2001, debuting with the orchestral group Antony & the Johnsons in New York City.\\nRa has played at the United Nations, Wiener Konzerthaus Mozartsaal Vienna, CBGBs, Knitting Factory, La MaMa E.T.C., Joe\\'s Pub, Boulder Museum of Modern Art, Lincoln Center, The Gershwin Hotel, B.B. King Museum, and Dietch Projects.\\nHe has performed and recorded with various bands and on many projects (including a collaboration with British recording artist Marc Almond \\n(of Soft Cell), on the song \"My Madness & I\" from his 2010 release Varieté). His debut solo CD Plays the Theremin (released on Bowl & Fork Records in 2010) showcases many classical Armenian laments and folk songs. Ra performed on the Sharon Needles album PG-13 on band Ministry\\'s cover track \"Everyday Is Halloween\".\\n\\n\\n=== Career (2014-present) ===\\nIn recent years, Ra has appeared in the following works:\\n\\nArmen plays on the Current 93 album entitled HoneySuckle Æons. He appears in multiple songs on this 2011 release.\\nArmen plays on the debut album of Sharon Needles. The songs “Everyday Is Halloween” and “This Club Is a Haunted House” were released in 2013.\\nIn 2014, he played the theremin for Voltaire\\'s album Raised by Bats.\\nIn 2015, he released Theremin Classique, a collection of European arias.\\nArmen\\'s recording of “Dle Yaman” was used for the video of designer Michael Schmidt’s 3-D gown in 2015.\\nHe was featured on Selena Gomez’s Revival on the track “Me and My Girls” in 2016\\nHe was featured on Gwen Stefani’s album on the track “Naughty” in 2016.\\nHe was featured on track 11 \"Supernatural\" of BØRNS\\' Blue Madonna\\n\\n\\n== Appearances in Media ==\\nHe has a cameo appearance in the film Party Monster. Other appearances in media include:\\n\\nCameo as a desk clerk in Tomorrow Always Comes in 2006.\\nMusic for the short film Connect in 2010.\\nGuest judge on the Logo Network show The Arrangement.\\nOpener for Nick Cave & The Bad Seeds\\'s Grinderman on their 2010 tour.\\nProduction designer for the 2012 horror movie Excision.\\nRelease of the documentary When My Sorrow Died: The Legend of Armen Ra & the Theremin.\\nMusic for the movie Hara Kiri in 2016.\\nPromotional videos for electropop artist BØRNS, entitled \"The Search for the Lost Sounds\" and \"The Faded Heart Sessions\".\\n\\n\\n== References ==\\n\\n\\n== External links ==\\nOfficial Website\\nArmen Ra at a benefit concert on April 4 at the Angel Orensanz Center in New York'"
            ]
          },
          "metadata": {
            "tags": []
          },
          "execution_count": 45
        }
      ]
    },
    {
      "cell_type": "code",
      "metadata": {
        "id": "XfRuFKEjhfE2",
        "colab": {
          "base_uri": "https://localhost:8080/",
          "height": 34
        },
        "outputId": "9140c39c-9c15-4d81-d476-8af281b89696"
      },
      "source": [
        "type(page.content)"
      ],
      "execution_count": null,
      "outputs": [
        {
          "output_type": "execute_result",
          "data": {
            "text/plain": [
              "str"
            ]
          },
          "metadata": {
            "tags": []
          },
          "execution_count": 46
        }
      ]
    },
    {
      "cell_type": "code",
      "metadata": {
        "id": "TczXCc9mh92Y",
        "colab": {
          "base_uri": "https://localhost:8080/",
          "height": 1000
        },
        "outputId": "fab9d98e-f8d5-4848-9f1e-1a23e3e22897"
      },
      "source": [
        "wiki1 = TextBlob(page.content)\n",
        "wiki1.tags"
      ],
      "execution_count": null,
      "outputs": [
        {
          "output_type": "execute_result",
          "data": {
            "text/plain": [
              "[('Armen', 'NNP'),\n",
              " ('Ra', 'NNP'),\n",
              " ('is', 'VBZ'),\n",
              " ('a', 'DT'),\n",
              " ('Persian-Armenian', 'JJ'),\n",
              " ('artist', 'NN'),\n",
              " ('self-taught', 'JJ'),\n",
              " ('thereminist', 'NN'),\n",
              " ('production', 'NN'),\n",
              " ('designer', 'NN'),\n",
              " ('director', 'NN'),\n",
              " ('and', 'CC'),\n",
              " ('performer', 'NN'),\n",
              " ('==', 'JJ'),\n",
              " ('Musical', 'NNP'),\n",
              " ('career', 'NN'),\n",
              " ('==', 'NNP'),\n",
              " ('===', 'NNP'),\n",
              " ('Career', 'NNP'),\n",
              " ('2010-2013', 'JJ'),\n",
              " ('===', 'FW'),\n",
              " ('Ra', 'NNP'),\n",
              " ('began', 'VBD'),\n",
              " ('studying', 'VBG'),\n",
              " ('the', 'DT'),\n",
              " ('theremin', 'NN'),\n",
              " ('in', 'IN'),\n",
              " ('2001', 'CD'),\n",
              " ('debuting', 'VBG'),\n",
              " ('with', 'IN'),\n",
              " ('the', 'DT'),\n",
              " ('orchestral', 'JJ'),\n",
              " ('group', 'NN'),\n",
              " ('Antony', 'NNP'),\n",
              " ('&', 'CC'),\n",
              " ('the', 'DT'),\n",
              " ('Johnsons', 'NNPS'),\n",
              " ('in', 'IN'),\n",
              " ('New', 'NNP'),\n",
              " ('York', 'NNP'),\n",
              " ('City', 'NNP'),\n",
              " ('Ra', 'NNP'),\n",
              " ('has', 'VBZ'),\n",
              " ('played', 'VBN'),\n",
              " ('at', 'IN'),\n",
              " ('the', 'DT'),\n",
              " ('United', 'NNP'),\n",
              " ('Nations', 'NNPS'),\n",
              " ('Wiener', 'NNP'),\n",
              " ('Konzerthaus', 'NNP'),\n",
              " ('Mozartsaal', 'NNP'),\n",
              " ('Vienna', 'NNP'),\n",
              " ('CBGBs', 'NNP'),\n",
              " ('Knitting', 'NNP'),\n",
              " ('Factory', 'NNP'),\n",
              " ('La', 'NNP'),\n",
              " ('MaMa', 'NNP'),\n",
              " ('E.T.C.', 'NNP'),\n",
              " ('Joe', 'NNP'),\n",
              " (\"'s\", 'POS'),\n",
              " ('Pub', 'NNP'),\n",
              " ('Boulder', 'NNP'),\n",
              " ('Museum', 'NNP'),\n",
              " ('of', 'IN'),\n",
              " ('Modern', 'NNP'),\n",
              " ('Art', 'NNP'),\n",
              " ('Lincoln', 'NNP'),\n",
              " ('Center', 'NNP'),\n",
              " ('The', 'DT'),\n",
              " ('Gershwin', 'NNP'),\n",
              " ('Hotel', 'NNP'),\n",
              " ('B.B', 'NNP'),\n",
              " ('King', 'NNP'),\n",
              " ('Museum', 'NNP'),\n",
              " ('and', 'CC'),\n",
              " ('Dietch', 'NNP'),\n",
              " ('Projects', 'NNPS'),\n",
              " ('He', 'PRP'),\n",
              " ('has', 'VBZ'),\n",
              " ('performed', 'VBN'),\n",
              " ('and', 'CC'),\n",
              " ('recorded', 'VBN'),\n",
              " ('with', 'IN'),\n",
              " ('various', 'JJ'),\n",
              " ('bands', 'NNS'),\n",
              " ('and', 'CC'),\n",
              " ('on', 'IN'),\n",
              " ('many', 'JJ'),\n",
              " ('projects', 'NNS'),\n",
              " ('including', 'VBG'),\n",
              " ('a', 'DT'),\n",
              " ('collaboration', 'NN'),\n",
              " ('with', 'IN'),\n",
              " ('British', 'JJ'),\n",
              " ('recording', 'VBG'),\n",
              " ('artist', 'NN'),\n",
              " ('Marc', 'NNP'),\n",
              " ('Almond', 'NNP'),\n",
              " ('of', 'IN'),\n",
              " ('Soft', 'NNP'),\n",
              " ('Cell', 'NNP'),\n",
              " ('on', 'IN'),\n",
              " ('the', 'DT'),\n",
              " ('song', 'NN'),\n",
              " ('My', 'NNP'),\n",
              " ('Madness', 'NNP'),\n",
              " ('&', 'CC'),\n",
              " ('I', 'PRP'),\n",
              " ('from', 'IN'),\n",
              " ('his', 'PRP$'),\n",
              " ('2010', 'CD'),\n",
              " ('release', 'NN'),\n",
              " ('Varieté', 'NNP'),\n",
              " ('His', 'PRP$'),\n",
              " ('debut', 'NN'),\n",
              " ('solo', 'VBZ'),\n",
              " ('CD', 'NNP'),\n",
              " ('Plays', 'NNP'),\n",
              " ('the', 'DT'),\n",
              " ('Theremin', 'NNP'),\n",
              " ('released', 'VBN'),\n",
              " ('on', 'IN'),\n",
              " ('Bowl', 'NNP'),\n",
              " ('&', 'CC'),\n",
              " ('Fork', 'NNP'),\n",
              " ('Records', 'NNPS'),\n",
              " ('in', 'IN'),\n",
              " ('2010', 'CD'),\n",
              " ('showcases', 'VBZ'),\n",
              " ('many', 'JJ'),\n",
              " ('classical', 'JJ'),\n",
              " ('Armenian', 'JJ'),\n",
              " ('laments', 'NNS'),\n",
              " ('and', 'CC'),\n",
              " ('folk', 'NN'),\n",
              " ('songs', 'NNS'),\n",
              " ('Ra', 'NNP'),\n",
              " ('performed', 'VBD'),\n",
              " ('on', 'IN'),\n",
              " ('the', 'DT'),\n",
              " ('Sharon', 'NNP'),\n",
              " ('Needles', 'NNP'),\n",
              " ('album', 'VBZ'),\n",
              " ('PG-13', 'NNP'),\n",
              " ('on', 'IN'),\n",
              " ('band', 'NN'),\n",
              " ('Ministry', 'NNP'),\n",
              " (\"'s\", 'POS'),\n",
              " ('cover', 'NN'),\n",
              " ('track', 'NN'),\n",
              " ('Everyday', 'NNP'),\n",
              " ('Is', 'VBZ'),\n",
              " ('Halloween', 'NNP'),\n",
              " ('===', 'NNS'),\n",
              " ('Career', 'NNP'),\n",
              " ('2014-present', 'JJ'),\n",
              " ('===', 'NN'),\n",
              " ('In', 'IN'),\n",
              " ('recent', 'JJ'),\n",
              " ('years', 'NNS'),\n",
              " ('Ra', 'NNP'),\n",
              " ('has', 'VBZ'),\n",
              " ('appeared', 'VBN'),\n",
              " ('in', 'IN'),\n",
              " ('the', 'DT'),\n",
              " ('following', 'JJ'),\n",
              " ('works', 'NNS'),\n",
              " ('Armen', 'NNP'),\n",
              " ('plays', 'VBZ'),\n",
              " ('on', 'IN'),\n",
              " ('the', 'DT'),\n",
              " ('Current', 'NNP'),\n",
              " ('93', 'CD'),\n",
              " ('album', 'NN'),\n",
              " ('entitled', 'VBN'),\n",
              " ('HoneySuckle', 'NNP'),\n",
              " ('Æons', 'NNS'),\n",
              " ('He', 'PRP'),\n",
              " ('appears', 'VBZ'),\n",
              " ('in', 'IN'),\n",
              " ('multiple', 'JJ'),\n",
              " ('songs', 'NNS'),\n",
              " ('on', 'IN'),\n",
              " ('this', 'DT'),\n",
              " ('2011', 'CD'),\n",
              " ('release', 'NN'),\n",
              " ('Armen', 'NNP'),\n",
              " ('plays', 'VBZ'),\n",
              " ('on', 'IN'),\n",
              " ('the', 'DT'),\n",
              " ('debut', 'NN'),\n",
              " ('album', 'NN'),\n",
              " ('of', 'IN'),\n",
              " ('Sharon', 'NNP'),\n",
              " ('Needles', 'NNP'),\n",
              " ('The', 'DT'),\n",
              " ('songs', 'NNS'),\n",
              " ('“', 'NNP'),\n",
              " ('Everyday', 'NNP'),\n",
              " ('Is', 'VBZ'),\n",
              " ('Halloween', 'NNP'),\n",
              " ('”', 'NNP'),\n",
              " ('and', 'CC'),\n",
              " ('“', 'VB'),\n",
              " ('This', 'DT'),\n",
              " ('Club', 'NNP'),\n",
              " ('Is', 'VBZ'),\n",
              " ('a', 'DT'),\n",
              " ('Haunted', 'NNP'),\n",
              " ('House', 'NNP'),\n",
              " ('”', 'NN'),\n",
              " ('were', 'VBD'),\n",
              " ('released', 'VBN'),\n",
              " ('in', 'IN'),\n",
              " ('2013', 'CD'),\n",
              " ('In', 'IN'),\n",
              " ('2014', 'CD'),\n",
              " ('he', 'PRP'),\n",
              " ('played', 'VBD'),\n",
              " ('the', 'DT'),\n",
              " ('theremin', 'NN'),\n",
              " ('for', 'IN'),\n",
              " ('Voltaire', 'NNP'),\n",
              " (\"'s\", 'POS'),\n",
              " ('album', 'NN'),\n",
              " ('Raised', 'VBN'),\n",
              " ('by', 'IN'),\n",
              " ('Bats', 'NNP'),\n",
              " ('In', 'IN'),\n",
              " ('2015', 'CD'),\n",
              " ('he', 'PRP'),\n",
              " ('released', 'VBD'),\n",
              " ('Theremin', 'NNP'),\n",
              " ('Classique', 'NNP'),\n",
              " ('a', 'DT'),\n",
              " ('collection', 'NN'),\n",
              " ('of', 'IN'),\n",
              " ('European', 'JJ'),\n",
              " ('arias', 'NN'),\n",
              " ('Armen', 'NNP'),\n",
              " (\"'s\", 'POS'),\n",
              " ('recording', 'NN'),\n",
              " ('of', 'IN'),\n",
              " ('“', 'NNP'),\n",
              " ('Dle', 'NNP'),\n",
              " ('Yaman', 'NNP'),\n",
              " ('”', 'NNP'),\n",
              " ('was', 'VBD'),\n",
              " ('used', 'VBN'),\n",
              " ('for', 'IN'),\n",
              " ('the', 'DT'),\n",
              " ('video', 'NN'),\n",
              " ('of', 'IN'),\n",
              " ('designer', 'NN'),\n",
              " ('Michael', 'NNP'),\n",
              " ('Schmidt', 'NNP'),\n",
              " ('’', 'NNP'),\n",
              " ('s', 'VBD'),\n",
              " ('3-D', 'JJ'),\n",
              " ('gown', 'NN'),\n",
              " ('in', 'IN'),\n",
              " ('2015', 'CD'),\n",
              " ('He', 'PRP'),\n",
              " ('was', 'VBD'),\n",
              " ('featured', 'VBN'),\n",
              " ('on', 'IN'),\n",
              " ('Selena', 'NNP'),\n",
              " ('Gomez', 'NNP'),\n",
              " ('’', 'NNP'),\n",
              " ('s', 'VBD'),\n",
              " ('Revival', 'NNP'),\n",
              " ('on', 'IN'),\n",
              " ('the', 'DT'),\n",
              " ('track', 'NN'),\n",
              " ('“', 'IN'),\n",
              " ('Me', 'NNP'),\n",
              " ('and', 'CC'),\n",
              " ('My', 'NNP'),\n",
              " ('Girls', 'NNP'),\n",
              " ('”', 'NNP'),\n",
              " ('in', 'IN'),\n",
              " ('2016', 'CD'),\n",
              " ('He', 'PRP'),\n",
              " ('was', 'VBD'),\n",
              " ('featured', 'VBN'),\n",
              " ('on', 'IN'),\n",
              " ('Gwen', 'NNP'),\n",
              " ('Stefani', 'NNP'),\n",
              " ('’', 'NNP'),\n",
              " ('s', 'VBD'),\n",
              " ('album', 'NN'),\n",
              " ('on', 'IN'),\n",
              " ('the', 'DT'),\n",
              " ('track', 'NN'),\n",
              " ('“', 'NNP'),\n",
              " ('Naughty', 'NNP'),\n",
              " ('”', 'NNP'),\n",
              " ('in', 'IN'),\n",
              " ('2016', 'CD'),\n",
              " ('He', 'PRP'),\n",
              " ('was', 'VBD'),\n",
              " ('featured', 'VBN'),\n",
              " ('on', 'IN'),\n",
              " ('track', 'NN'),\n",
              " ('11', 'CD'),\n",
              " ('Supernatural', 'JJ'),\n",
              " ('of', 'IN'),\n",
              " ('BØRNS', 'NNP'),\n",
              " (\"'\", 'POS'),\n",
              " ('Blue', 'NNP'),\n",
              " ('Madonna', 'NNP'),\n",
              " ('==', 'NNP'),\n",
              " ('Appearances', 'NNP'),\n",
              " ('in', 'IN'),\n",
              " ('Media', 'NNP'),\n",
              " ('==', 'NN'),\n",
              " ('He', 'PRP'),\n",
              " ('has', 'VBZ'),\n",
              " ('a', 'DT'),\n",
              " ('cameo', 'JJ'),\n",
              " ('appearance', 'NN'),\n",
              " ('in', 'IN'),\n",
              " ('the', 'DT'),\n",
              " ('film', 'NN'),\n",
              " ('Party', 'NNP'),\n",
              " ('Monster', 'NNP'),\n",
              " ('Other', 'JJ'),\n",
              " ('appearances', 'NNS'),\n",
              " ('in', 'IN'),\n",
              " ('media', 'NNS'),\n",
              " ('include', 'VBP'),\n",
              " ('Cameo', 'NNP'),\n",
              " ('as', 'IN'),\n",
              " ('a', 'DT'),\n",
              " ('desk', 'NN'),\n",
              " ('clerk', 'NN'),\n",
              " ('in', 'IN'),\n",
              " ('Tomorrow', 'NNP'),\n",
              " ('Always', 'NNP'),\n",
              " ('Comes', 'NNP'),\n",
              " ('in', 'IN'),\n",
              " ('2006', 'CD'),\n",
              " ('Music', 'NNP'),\n",
              " ('for', 'IN'),\n",
              " ('the', 'DT'),\n",
              " ('short', 'JJ'),\n",
              " ('film', 'NN'),\n",
              " ('Connect', 'NNP'),\n",
              " ('in', 'IN'),\n",
              " ('2010', 'CD'),\n",
              " ('Guest', 'NNP'),\n",
              " ('judge', 'NN'),\n",
              " ('on', 'IN'),\n",
              " ('the', 'DT'),\n",
              " ('Logo', 'NNP'),\n",
              " ('Network', 'NNP'),\n",
              " ('show', 'VBP'),\n",
              " ('The', 'DT'),\n",
              " ('Arrangement', 'NNP'),\n",
              " ('Opener', 'NNP'),\n",
              " ('for', 'IN'),\n",
              " ('Nick', 'NNP'),\n",
              " ('Cave', 'NNP'),\n",
              " ('&', 'CC'),\n",
              " ('The', 'DT'),\n",
              " ('Bad', 'NNP'),\n",
              " ('Seeds', 'NNP'),\n",
              " (\"'s\", 'POS'),\n",
              " ('Grinderman', 'NNP'),\n",
              " ('on', 'IN'),\n",
              " ('their', 'PRP$'),\n",
              " ('2010', 'CD'),\n",
              " ('tour', 'NN'),\n",
              " ('Production', 'NN'),\n",
              " ('designer', 'NN'),\n",
              " ('for', 'IN'),\n",
              " ('the', 'DT'),\n",
              " ('2012', 'CD'),\n",
              " ('horror', 'NN'),\n",
              " ('movie', 'NN'),\n",
              " ('Excision', 'NNP'),\n",
              " ('Release', 'NN'),\n",
              " ('of', 'IN'),\n",
              " ('the', 'DT'),\n",
              " ('documentary', 'NN'),\n",
              " ('When', 'WRB'),\n",
              " ('My', 'NNP'),\n",
              " ('Sorrow', 'NNP'),\n",
              " ('Died', 'VBD'),\n",
              " ('The', 'DT'),\n",
              " ('Legend', 'NNP'),\n",
              " ('of', 'IN'),\n",
              " ('Armen', 'NNP'),\n",
              " ('Ra', 'NNP'),\n",
              " ('&', 'CC'),\n",
              " ('the', 'DT'),\n",
              " ('Theremin', 'NNP'),\n",
              " ('Music', 'NNP'),\n",
              " ('for', 'IN'),\n",
              " ('the', 'DT'),\n",
              " ('movie', 'NN'),\n",
              " ('Hara', 'NNP'),\n",
              " ('Kiri', 'NNP'),\n",
              " ('in', 'IN'),\n",
              " ('2016', 'CD'),\n",
              " ('Promotional', 'NNP'),\n",
              " ('videos', 'NN'),\n",
              " ('for', 'IN'),\n",
              " ('electropop', 'JJ'),\n",
              " ('artist', 'NN'),\n",
              " ('BØRNS', 'NNP'),\n",
              " ('entitled', 'VBD'),\n",
              " ('The', 'DT'),\n",
              " ('Search', 'NNP'),\n",
              " ('for', 'IN'),\n",
              " ('the', 'DT'),\n",
              " ('Lost', 'NNP'),\n",
              " ('Sounds', 'NNPS'),\n",
              " ('and', 'CC'),\n",
              " ('The', 'DT'),\n",
              " ('Faded', 'NNP'),\n",
              " ('Heart', 'NNP'),\n",
              " ('Sessions', 'NNP'),\n",
              " ('==', 'JJ'),\n",
              " ('References', 'NNP'),\n",
              " ('==', 'NNP'),\n",
              " ('==', 'NNP'),\n",
              " ('External', 'NNP'),\n",
              " ('links', 'NNS'),\n",
              " ('==', 'VBP'),\n",
              " ('Official', 'NNP'),\n",
              " ('Website', 'NNP'),\n",
              " ('Armen', 'NNP'),\n",
              " ('Ra', 'NNP'),\n",
              " ('at', 'IN'),\n",
              " ('a', 'DT'),\n",
              " ('benefit', 'NN'),\n",
              " ('concert', 'NN'),\n",
              " ('on', 'IN'),\n",
              " ('April', 'NNP'),\n",
              " ('4', 'CD'),\n",
              " ('at', 'IN'),\n",
              " ('the', 'DT'),\n",
              " ('Angel', 'NNP'),\n",
              " ('Orensanz', 'NNP'),\n",
              " ('Center', 'NNP'),\n",
              " ('in', 'IN'),\n",
              " ('New', 'NNP'),\n",
              " ('York', 'NNP')]"
            ]
          },
          "metadata": {
            "tags": []
          },
          "execution_count": 47
        }
      ]
    },
    {
      "cell_type": "code",
      "metadata": {
        "id": "dgoM7iP-ipy5",
        "colab": {
          "base_uri": "https://localhost:8080/",
          "height": 54
        },
        "outputId": "b7c7a817-72a0-4866-f66f-56eeb683bd75"
      },
      "source": [
        "wiki1.noun_phrases"
      ],
      "execution_count": null,
      "outputs": [
        {
          "output_type": "execute_result",
          "data": {
            "text/plain": [
              "WordList(['armen ra', 'persian-armenian', 'self-taught thereminist', 'production designer', 'musical', 'career == ===', 'career', 'ra', 'orchestral group', 'antony', 'johnsons', 'york', 'ra', 'wiener konzerthaus mozartsaal vienna', 'cbgbs', 'knitting', 'mama e.t.c.', 'joe', 'pub', 'boulder', 'art', 'lincoln', 'gershwin', 'b.b', 'king museum', 'dietch projects', 'various bands', 'marc almond', 'soft cell', 'madness', 'varieté', 'debut solo cd', 'plays', 'theremin', 'fork records', 'classical armenian laments', 'folk songs', 'ra', 'sharon needles', 'pg-13', 'ministry', 'everyday', 'halloween', 'career', 'recent years', 'ra', 'armen', 'current', 'honeysuckle', 'multiple songs', 'armen', 'debut album', 'sharon needles', 'songs “', 'everyday', 'halloween', 'haunted', 'house ”', 'voltaire', \"'s album\", 'raised', 'bats', 'theremin classique', 'european arias', 'armen', 'dle yaman', 'michael schmidt', '’ s 3-d gown', 'selena gomez', '’ s', 'revival', 'track “', 'girls', 'gwen stefani', '’ s album', 'track “', 'naughty', 'supernatural', 'børns', 'madonna', 'appearances', 'media', 'cameo appearance', 'film party', 'monster', 'cameo', 'desk clerk', 'tomorrow', 'comes', 'short film', 'connect', 'guest judge', 'logo network', 'arrangement', 'opener', 'nick cave', 'seeds', 'grinderman', 'production', 'horror movie', 'excision', 'release', 'sorrow died', 'legend', 'armen ra', 'theremin', 'hara kiri', 'promotional', 'electropop artist', 'børns', 'search', 'lost sounds', 'faded heart sessions', 'references', '== ==', 'external links ==', 'website armen ra', 'benefit concert', 'april', 'orensanz', 'york'])"
            ]
          },
          "metadata": {
            "tags": []
          },
          "execution_count": 48
        }
      ]
    },
    {
      "cell_type": "markdown",
      "metadata": {
        "id": "6hYHWrVPrzMD"
      },
      "source": [
        "##### Sentiment Analysis"
      ]
    },
    {
      "cell_type": "markdown",
      "metadata": {
        "id": "ySyMFJfHLXf9"
      },
      "source": [
        "Produce the sentiment for Armen Ra's page."
      ]
    },
    {
      "cell_type": "code",
      "metadata": {
        "id": "ElOPszUqM21-"
      },
      "source": [
        "testimonial = TextBlob(page.content)"
      ],
      "execution_count": null,
      "outputs": []
    },
    {
      "cell_type": "code",
      "metadata": {
        "id": "LsfIqwrUlaVn",
        "colab": {
          "base_uri": "https://localhost:8080/",
          "height": 34
        },
        "outputId": "1067913e-9756-4902-94c0-617cc2aa7fd0"
      },
      "source": [
        "testimonial.sentiment"
      ],
      "execution_count": null,
      "outputs": [
        {
          "output_type": "execute_result",
          "data": {
            "text/plain": [
              "Sentiment(polarity=0.006088664421997764, subjectivity=0.30434904601571267)"
            ]
          },
          "metadata": {
            "tags": []
          },
          "execution_count": 50
        }
      ]
    },
    {
      "cell_type": "markdown",
      "metadata": {
        "id": "VpWWHt5394xx"
      },
      "source": [
        "Sentiment analysis shows a primarily neutral and objective tone throughout the page. "
      ]
    },
    {
      "cell_type": "code",
      "metadata": {
        "id": "gOIXem-AlfpX"
      },
      "source": [
        "zen = TextBlob(page.content)"
      ],
      "execution_count": null,
      "outputs": []
    },
    {
      "cell_type": "markdown",
      "metadata": {
        "id": "Q9N0bZET-Grr"
      },
      "source": [
        "Process Armen Ra's page into words and sentences to determine how the sentiment changes throughout the page."
      ]
    },
    {
      "cell_type": "code",
      "metadata": {
        "id": "BT-BcjnbkCFL",
        "colab": {
          "base_uri": "https://localhost:8080/",
          "height": 54
        },
        "outputId": "a3fac5df-b156-4f86-aaaa-891b16c5a5c9"
      },
      "source": [
        "zen.words"
      ],
      "execution_count": null,
      "outputs": [
        {
          "output_type": "execute_result",
          "data": {
            "text/plain": [
              "WordList(['Armen', 'Ra', 'is', 'a', 'Persian-Armenian', 'artist', 'self-taught', 'thereminist', 'production', 'designer', 'director', 'and', 'performer', 'Musical', 'career', 'Career', '2010-2013', 'Ra', 'began', 'studying', 'the', 'theremin', 'in', '2001', 'debuting', 'with', 'the', 'orchestral', 'group', 'Antony', 'the', 'Johnsons', 'in', 'New', 'York', 'City', 'Ra', 'has', 'played', 'at', 'the', 'United', 'Nations', 'Wiener', 'Konzerthaus', 'Mozartsaal', 'Vienna', 'CBGBs', 'Knitting', 'Factory', 'La', 'MaMa', 'E.T.C', 'Joe', \"'s\", 'Pub', 'Boulder', 'Museum', 'of', 'Modern', 'Art', 'Lincoln', 'Center', 'The', 'Gershwin', 'Hotel', 'B.B', 'King', 'Museum', 'and', 'Dietch', 'Projects', 'He', 'has', 'performed', 'and', 'recorded', 'with', 'various', 'bands', 'and', 'on', 'many', 'projects', 'including', 'a', 'collaboration', 'with', 'British', 'recording', 'artist', 'Marc', 'Almond', 'of', 'Soft', 'Cell', 'on', 'the', 'song', 'My', 'Madness', 'I', 'from', 'his', '2010', 'release', 'Varieté', 'His', 'debut', 'solo', 'CD', 'Plays', 'the', 'Theremin', 'released', 'on', 'Bowl', 'Fork', 'Records', 'in', '2010', 'showcases', 'many', 'classical', 'Armenian', 'laments', 'and', 'folk', 'songs', 'Ra', 'performed', 'on', 'the', 'Sharon', 'Needles', 'album', 'PG-13', 'on', 'band', 'Ministry', \"'s\", 'cover', 'track', 'Everyday', 'Is', 'Halloween', 'Career', '2014-present', 'In', 'recent', 'years', 'Ra', 'has', 'appeared', 'in', 'the', 'following', 'works', 'Armen', 'plays', 'on', 'the', 'Current', '93', 'album', 'entitled', 'HoneySuckle', 'Æons', 'He', 'appears', 'in', 'multiple', 'songs', 'on', 'this', '2011', 'release', 'Armen', 'plays', 'on', 'the', 'debut', 'album', 'of', 'Sharon', 'Needles', 'The', 'songs', '“', 'Everyday', 'Is', 'Halloween', '”', 'and', '“', 'This', 'Club', 'Is', 'a', 'Haunted', 'House', '”', 'were', 'released', 'in', '2013', 'In', '2014', 'he', 'played', 'the', 'theremin', 'for', 'Voltaire', \"'s\", 'album', 'Raised', 'by', 'Bats', 'In', '2015', 'he', 'released', 'Theremin', 'Classique', 'a', 'collection', 'of', 'European', 'arias', 'Armen', \"'s\", 'recording', 'of', '“', 'Dle', 'Yaman', '”', 'was', 'used', 'for', 'the', 'video', 'of', 'designer', 'Michael', 'Schmidt', '’', 's', '3-D', 'gown', 'in', '2015', 'He', 'was', 'featured', 'on', 'Selena', 'Gomez', '’', 's', 'Revival', 'on', 'the', 'track', '“', 'Me', 'and', 'My', 'Girls', '”', 'in', '2016', 'He', 'was', 'featured', 'on', 'Gwen', 'Stefani', '’', 's', 'album', 'on', 'the', 'track', '“', 'Naughty', '”', 'in', '2016', 'He', 'was', 'featured', 'on', 'track', '11', 'Supernatural', 'of', 'BØRNS', 'Blue', 'Madonna', 'Appearances', 'in', 'Media', 'He', 'has', 'a', 'cameo', 'appearance', 'in', 'the', 'film', 'Party', 'Monster', 'Other', 'appearances', 'in', 'media', 'include', 'Cameo', 'as', 'a', 'desk', 'clerk', 'in', 'Tomorrow', 'Always', 'Comes', 'in', '2006', 'Music', 'for', 'the', 'short', 'film', 'Connect', 'in', '2010', 'Guest', 'judge', 'on', 'the', 'Logo', 'Network', 'show', 'The', 'Arrangement', 'Opener', 'for', 'Nick', 'Cave', 'The', 'Bad', 'Seeds', \"'s\", 'Grinderman', 'on', 'their', '2010', 'tour', 'Production', 'designer', 'for', 'the', '2012', 'horror', 'movie', 'Excision', 'Release', 'of', 'the', 'documentary', 'When', 'My', 'Sorrow', 'Died', 'The', 'Legend', 'of', 'Armen', 'Ra', 'the', 'Theremin', 'Music', 'for', 'the', 'movie', 'Hara', 'Kiri', 'in', '2016', 'Promotional', 'videos', 'for', 'electropop', 'artist', 'BØRNS', 'entitled', 'The', 'Search', 'for', 'the', 'Lost', 'Sounds', 'and', 'The', 'Faded', 'Heart', 'Sessions', 'References', 'External', 'links', 'Official', 'Website', 'Armen', 'Ra', 'at', 'a', 'benefit', 'concert', 'on', 'April', '4', 'at', 'the', 'Angel', 'Orensanz', 'Center', 'in', 'New', 'York'])"
            ]
          },
          "metadata": {
            "tags": []
          },
          "execution_count": 52
        }
      ]
    },
    {
      "cell_type": "code",
      "metadata": {
        "id": "jYOF8SLCkD9Q",
        "colab": {
          "base_uri": "https://localhost:8080/",
          "height": 802
        },
        "outputId": "799831ed-e722-47ef-e58b-19ba269c88db"
      },
      "source": [
        "zen.sentences"
      ],
      "execution_count": null,
      "outputs": [
        {
          "output_type": "execute_result",
          "data": {
            "text/plain": [
              "[Sentence(\"Armen Ra is a Persian-Armenian artist, self-taught thereminist, production designer, director, and performer.\"),\n",
              " Sentence(\"== Musical career ==\n",
              " \n",
              " \n",
              " === Career (2010-2013) ===\n",
              " Ra began studying the theremin in 2001, debuting with the orchestral group Antony & the Johnsons in New York City.\"),\n",
              " Sentence(\"Ra has played at the United Nations, Wiener Konzerthaus Mozartsaal Vienna, CBGBs, Knitting Factory, La MaMa E.T.C., Joe's Pub, Boulder Museum of Modern Art, Lincoln Center, The Gershwin Hotel, B.B.\"),\n",
              " Sentence(\"King Museum, and Dietch Projects.\"),\n",
              " Sentence(\"He has performed and recorded with various bands and on many projects (including a collaboration with British recording artist Marc Almond \n",
              " (of Soft Cell), on the song \"My Madness & I\" from his 2010 release Varieté).\"),\n",
              " Sentence(\"His debut solo CD Plays the Theremin (released on Bowl & Fork Records in 2010) showcases many classical Armenian laments and folk songs.\"),\n",
              " Sentence(\"Ra performed on the Sharon Needles album PG-13 on band Ministry's cover track \"Everyday Is Halloween\".\"),\n",
              " Sentence(\"=== Career (2014-present) ===\n",
              " In recent years, Ra has appeared in the following works:\n",
              " \n",
              " Armen plays on the Current 93 album entitled HoneySuckle Æons.\"),\n",
              " Sentence(\"He appears in multiple songs on this 2011 release.\"),\n",
              " Sentence(\"Armen plays on the debut album of Sharon Needles.\"),\n",
              " Sentence(\"The songs “Everyday Is Halloween” and “This Club Is a Haunted House” were released in 2013.\"),\n",
              " Sentence(\"In 2014, he played the theremin for Voltaire's album Raised by Bats.\"),\n",
              " Sentence(\"In 2015, he released Theremin Classique, a collection of European arias.\"),\n",
              " Sentence(\"Armen's recording of “Dle Yaman” was used for the video of designer Michael Schmidt’s 3-D gown in 2015.\"),\n",
              " Sentence(\"He was featured on Selena Gomez’s Revival on the track “Me and My Girls” in 2016\n",
              " He was featured on Gwen Stefani’s album on the track “Naughty” in 2016.\"),\n",
              " Sentence(\"He was featured on track 11 \"Supernatural\" of BØRNS' Blue Madonna\n",
              " \n",
              " \n",
              " == Appearances in Media ==\n",
              " He has a cameo appearance in the film Party Monster.\"),\n",
              " Sentence(\"Other appearances in media include:\n",
              " \n",
              " Cameo as a desk clerk in Tomorrow Always Comes in 2006.\"),\n",
              " Sentence(\"Music for the short film Connect in 2010.\"),\n",
              " Sentence(\"Guest judge on the Logo Network show The Arrangement.\"),\n",
              " Sentence(\"Opener for Nick Cave & The Bad Seeds's Grinderman on their 2010 tour.\"),\n",
              " Sentence(\"Production designer for the 2012 horror movie Excision.\"),\n",
              " Sentence(\"Release of the documentary When My Sorrow Died: The Legend of Armen Ra & the Theremin.\"),\n",
              " Sentence(\"Music for the movie Hara Kiri in 2016.\"),\n",
              " Sentence(\"Promotional videos for electropop artist BØRNS, entitled \"The Search for the Lost Sounds\" and \"The Faded Heart Sessions\".\"),\n",
              " Sentence(\"== References ==\n",
              " \n",
              " \n",
              " == External links ==\n",
              " Official Website\n",
              " Armen Ra at a benefit concert on April 4 at the Angel Orensanz Center in New York\")]"
            ]
          },
          "metadata": {
            "tags": []
          },
          "execution_count": 53
        }
      ]
    },
    {
      "cell_type": "markdown",
      "metadata": {
        "id": "f3y71_8EM3I5"
      },
      "source": [
        "Determine any changes in sentiment throughout the page."
      ]
    },
    {
      "cell_type": "code",
      "metadata": {
        "id": "bY553clzlwGY",
        "colab": {
          "base_uri": "https://localhost:8080/",
          "height": 442
        },
        "outputId": "b4971cc3-f49d-4ec8-c6dd-3c7119ae65cf"
      },
      "source": [
        "for sentence in zen.sentences:\n",
        "  print(sentence.sentiment[0])"
      ],
      "execution_count": null,
      "outputs": [
        {
          "output_type": "stream",
          "text": [
            "0.0\n",
            "0.06818181818181818\n",
            "0.05\n",
            "0.0\n",
            "0.15\n",
            "0.25\n",
            "-0.2\n",
            "0.0\n",
            "0.0\n",
            "0.0\n",
            "-0.2\n",
            "0.0\n",
            "0.0\n",
            "0.0\n",
            "-0.15000000000000002\n",
            "0.08333333333333333\n",
            "-0.125\n",
            "0.0\n",
            "0.0\n",
            "-0.6999999999999998\n",
            "0.0\n",
            "0.0\n",
            "0.0\n",
            "0.0\n",
            "0.012121212121212116\n"
          ],
          "name": "stdout"
        }
      ]
    },
    {
      "cell_type": "markdown",
      "metadata": {
        "id": "3aAui3H3M9Ts"
      },
      "source": [
        "Estimate 6 or 7 authors contributed to the Wikipedia article based on changes in the sentiment analysis."
      ]
    },
    {
      "cell_type": "markdown",
      "metadata": {
        "id": "gQWJAdwdNKit"
      },
      "source": [
        "Output a summary of the Armen Ra page"
      ]
    },
    {
      "cell_type": "code",
      "metadata": {
        "id": "MzT5z7mFNNlt",
        "colab": {
          "base_uri": "https://localhost:8080/",
          "height": 52
        },
        "outputId": "f6ba8e32-a8a7-495a-c54e-3f4f3078bfad"
      },
      "source": [
        "page.summary"
      ],
      "execution_count": null,
      "outputs": [
        {
          "output_type": "execute_result",
          "data": {
            "application/vnd.google.colaboratory.intrinsic+json": {
              "type": "string"
            },
            "text/plain": [
              "'Armen Ra is a Persian-Armenian artist, self-taught thereminist, production designer, director, and performer.'"
            ]
          },
          "metadata": {
            "tags": []
          },
          "execution_count": 55
        }
      ]
    },
    {
      "cell_type": "code",
      "metadata": {
        "id": "IMgfmvwamXh2",
        "colab": {
          "base_uri": "https://localhost:8080/",
          "height": 54
        },
        "outputId": "59e0b225-0241-4f03-88a3-9922aa30723f"
      },
      "source": [
        "sentence = TextBlob(page.content)\n",
        "sentence.words"
      ],
      "execution_count": null,
      "outputs": [
        {
          "output_type": "execute_result",
          "data": {
            "text/plain": [
              "WordList(['Armen', 'Ra', 'is', 'a', 'Persian-Armenian', 'artist', 'self-taught', 'thereminist', 'production', 'designer', 'director', 'and', 'performer', 'Musical', 'career', 'Career', '2010-2013', 'Ra', 'began', 'studying', 'the', 'theremin', 'in', '2001', 'debuting', 'with', 'the', 'orchestral', 'group', 'Antony', 'the', 'Johnsons', 'in', 'New', 'York', 'City', 'Ra', 'has', 'played', 'at', 'the', 'United', 'Nations', 'Wiener', 'Konzerthaus', 'Mozartsaal', 'Vienna', 'CBGBs', 'Knitting', 'Factory', 'La', 'MaMa', 'E.T.C', 'Joe', \"'s\", 'Pub', 'Boulder', 'Museum', 'of', 'Modern', 'Art', 'Lincoln', 'Center', 'The', 'Gershwin', 'Hotel', 'B.B', 'King', 'Museum', 'and', 'Dietch', 'Projects', 'He', 'has', 'performed', 'and', 'recorded', 'with', 'various', 'bands', 'and', 'on', 'many', 'projects', 'including', 'a', 'collaboration', 'with', 'British', 'recording', 'artist', 'Marc', 'Almond', 'of', 'Soft', 'Cell', 'on', 'the', 'song', 'My', 'Madness', 'I', 'from', 'his', '2010', 'release', 'Varieté', 'His', 'debut', 'solo', 'CD', 'Plays', 'the', 'Theremin', 'released', 'on', 'Bowl', 'Fork', 'Records', 'in', '2010', 'showcases', 'many', 'classical', 'Armenian', 'laments', 'and', 'folk', 'songs', 'Ra', 'performed', 'on', 'the', 'Sharon', 'Needles', 'album', 'PG-13', 'on', 'band', 'Ministry', \"'s\", 'cover', 'track', 'Everyday', 'Is', 'Halloween', 'Career', '2014-present', 'In', 'recent', 'years', 'Ra', 'has', 'appeared', 'in', 'the', 'following', 'works', 'Armen', 'plays', 'on', 'the', 'Current', '93', 'album', 'entitled', 'HoneySuckle', 'Æons', 'He', 'appears', 'in', 'multiple', 'songs', 'on', 'this', '2011', 'release', 'Armen', 'plays', 'on', 'the', 'debut', 'album', 'of', 'Sharon', 'Needles', 'The', 'songs', '“', 'Everyday', 'Is', 'Halloween', '”', 'and', '“', 'This', 'Club', 'Is', 'a', 'Haunted', 'House', '”', 'were', 'released', 'in', '2013', 'In', '2014', 'he', 'played', 'the', 'theremin', 'for', 'Voltaire', \"'s\", 'album', 'Raised', 'by', 'Bats', 'In', '2015', 'he', 'released', 'Theremin', 'Classique', 'a', 'collection', 'of', 'European', 'arias', 'Armen', \"'s\", 'recording', 'of', '“', 'Dle', 'Yaman', '”', 'was', 'used', 'for', 'the', 'video', 'of', 'designer', 'Michael', 'Schmidt', '’', 's', '3-D', 'gown', 'in', '2015', 'He', 'was', 'featured', 'on', 'Selena', 'Gomez', '’', 's', 'Revival', 'on', 'the', 'track', '“', 'Me', 'and', 'My', 'Girls', '”', 'in', '2016', 'He', 'was', 'featured', 'on', 'Gwen', 'Stefani', '’', 's', 'album', 'on', 'the', 'track', '“', 'Naughty', '”', 'in', '2016', 'He', 'was', 'featured', 'on', 'track', '11', 'Supernatural', 'of', 'BØRNS', 'Blue', 'Madonna', 'Appearances', 'in', 'Media', 'He', 'has', 'a', 'cameo', 'appearance', 'in', 'the', 'film', 'Party', 'Monster', 'Other', 'appearances', 'in', 'media', 'include', 'Cameo', 'as', 'a', 'desk', 'clerk', 'in', 'Tomorrow', 'Always', 'Comes', 'in', '2006', 'Music', 'for', 'the', 'short', 'film', 'Connect', 'in', '2010', 'Guest', 'judge', 'on', 'the', 'Logo', 'Network', 'show', 'The', 'Arrangement', 'Opener', 'for', 'Nick', 'Cave', 'The', 'Bad', 'Seeds', \"'s\", 'Grinderman', 'on', 'their', '2010', 'tour', 'Production', 'designer', 'for', 'the', '2012', 'horror', 'movie', 'Excision', 'Release', 'of', 'the', 'documentary', 'When', 'My', 'Sorrow', 'Died', 'The', 'Legend', 'of', 'Armen', 'Ra', 'the', 'Theremin', 'Music', 'for', 'the', 'movie', 'Hara', 'Kiri', 'in', '2016', 'Promotional', 'videos', 'for', 'electropop', 'artist', 'BØRNS', 'entitled', 'The', 'Search', 'for', 'the', 'Lost', 'Sounds', 'and', 'The', 'Faded', 'Heart', 'Sessions', 'References', 'External', 'links', 'Official', 'Website', 'Armen', 'Ra', 'at', 'a', 'benefit', 'concert', 'on', 'April', '4', 'at', 'the', 'Angel', 'Orensanz', 'Center', 'in', 'New', 'York'])"
            ]
          },
          "metadata": {
            "tags": []
          },
          "execution_count": 56
        }
      ]
    },
    {
      "cell_type": "code",
      "metadata": {
        "id": "ckgacdPKmfZu",
        "colab": {
          "base_uri": "https://localhost:8080/",
          "height": 35
        },
        "outputId": "915de7f9-1d87-410d-bc85-c96106cca2a9"
      },
      "source": [
        "sentence.words[2].singularize()"
      ],
      "execution_count": null,
      "outputs": [
        {
          "output_type": "execute_result",
          "data": {
            "application/vnd.google.colaboratory.intrinsic+json": {
              "type": "string"
            },
            "text/plain": [
              "'is'"
            ]
          },
          "metadata": {
            "tags": []
          },
          "execution_count": 57
        }
      ]
    },
    {
      "cell_type": "code",
      "metadata": {
        "id": "35E8CePjmgHB",
        "colab": {
          "base_uri": "https://localhost:8080/",
          "height": 35
        },
        "outputId": "cd2aa933-7210-453a-97d8-20ed4d52dd0a"
      },
      "source": [
        "sentence.words[2].pluralize()"
      ],
      "execution_count": null,
      "outputs": [
        {
          "output_type": "execute_result",
          "data": {
            "application/vnd.google.colaboratory.intrinsic+json": {
              "type": "string"
            },
            "text/plain": [
              "'iss'"
            ]
          },
          "metadata": {
            "tags": []
          },
          "execution_count": 58
        }
      ]
    },
    {
      "cell_type": "code",
      "metadata": {
        "id": "cI2K8U-Vm7ZT",
        "colab": {
          "base_uri": "https://localhost:8080/",
          "height": 802
        },
        "outputId": "7c437028-23cb-498e-dc1f-213d15409900"
      },
      "source": [
        "b = TextBlob(page.content)\n",
        "print(b.correct())"
      ],
      "execution_count": null,
      "outputs": [
        {
          "output_type": "stream",
          "text": [
            "Men A is a Persian-Armenian artist, self-taught thereminist, production designer, director, and performer.\n",
            "\n",
            "\n",
            "== Musical career ==\n",
            "\n",
            "\n",
            "=== Career (2010-2013) ===\n",
            "A began studying the therein in 2001, refuting with the orchestra group Anthony & the Johnson in New Work City.\n",
            "A has played at the United Nations, Dinner Konzerthaus Mozartsaal Vienna, CBGBs, Knitting Factory, A papa E.T.C., Toe's Sub, Shoulder Museum of Modern Art, Lincoln Enter, The Gershwin Hotel, B.B. King Museum, and Fetch Projects.\n",
            "He has performed and recorded with various bands and on many projects (including a collaboration with British recording artist Arc Almond \n",
            "(of Soft Well), on the song \"By Sadness & I\" from his 2010 release Variety). His debut solo of Plays the Therein (released on Bowl & Work Records in 2010) showcases many classical Armenian laments and folk songs. A performed on the Charon Needles album of-13 on band Ministry's cover track \"Everyday Is Halloween\".\n",
            "\n",
            "\n",
            "=== Career (2014-present) ===\n",
            "In recent years, A has appeared in the following works:\n",
            "\n",
            "Men plays on the Current 93 album entitled HoneySuckle Sons. He appears in multiple songs on this 2011 release.\n",
            "Men plays on the debut album of Charon Needles. The songs “Everyday Is Halloween” and “His Club Is a Taunted House” were released in 2013.\n",
            "In 2014, he played the therein for Voltaire's album Raised by Oats.\n",
            "In 2015, he released Therein Classique, a collection of European areas.\n",
            "Men's recording of “Le Maman” was used for the video of designer Michael Schmidt’s 3-D gown in 2015.\n",
            "He was features on Helena Gomez’s Revival on the track “He and By Girls” in 2016\n",
            "He was features on Wen Tetani’s album on the track “Naughty” in 2016.\n",
            "He was features on track 11 \"Supernatural\" of BØRNS' Blue Madonna\n",
            "\n",
            "\n",
            "== Appearances in Media ==\n",
            "He has a cameo appearance in the film Party Monster. Other appearances in media include:\n",
            "\n",
            "Cameo as a desk clerk in Tomorrow Always Comes in 2006.\n",
            "Music for the short film Connect in 2010.\n",
            "Guest judge on the Go Network show The Arrangement.\n",
            "Opened for Sick Have & The Had Needs's Grinderman on their 2010 tour.\n",
            "Production designer for the 2012 horror movie Excision.\n",
            "Release of the documentary When By Sorrow Died: The Legend of Men A & the Therein.\n",
            "Music for the movie Vara Fire in 2016.\n",
            "Promotional video for electropop artist BØRNS, entitled \"The Search for the Most Wounds\" and \"The Faded Heart Sessions\".\n",
            "\n",
            "\n",
            "== References ==\n",
            "\n",
            "\n",
            "== External links ==\n",
            "Official Website\n",
            "Men A at a benefit concert on April 4 at the Angel Orensanz Enter in New Work\n"
          ],
          "name": "stdout"
        }
      ]
    },
    {
      "cell_type": "markdown",
      "metadata": {
        "id": "QM6UlQ4m-Y_g"
      },
      "source": [
        "Consider algorithmic bias and errors in the natural language processing tools as Armen Ra's name is being shortened to 'Men A' or 'A'."
      ]
    },
    {
      "cell_type": "code",
      "metadata": {
        "id": "3T2x-7gynJ0d",
        "colab": {
          "base_uri": "https://localhost:8080/",
          "height": 1000
        },
        "outputId": "749d893e-0bba-44c3-9fb3-b920e3e086f6"
      },
      "source": [
        "blob = TextBlob(page.content)\n",
        "blob.ngrams(n=3)"
      ],
      "execution_count": null,
      "outputs": [
        {
          "output_type": "execute_result",
          "data": {
            "text/plain": [
              "[WordList(['Armen', 'Ra', 'is']),\n",
              " WordList(['Ra', 'is', 'a']),\n",
              " WordList(['is', 'a', 'Persian-Armenian']),\n",
              " WordList(['a', 'Persian-Armenian', 'artist']),\n",
              " WordList(['Persian-Armenian', 'artist', 'self-taught']),\n",
              " WordList(['artist', 'self-taught', 'thereminist']),\n",
              " WordList(['self-taught', 'thereminist', 'production']),\n",
              " WordList(['thereminist', 'production', 'designer']),\n",
              " WordList(['production', 'designer', 'director']),\n",
              " WordList(['designer', 'director', 'and']),\n",
              " WordList(['director', 'and', 'performer']),\n",
              " WordList(['and', 'performer', 'Musical']),\n",
              " WordList(['performer', 'Musical', 'career']),\n",
              " WordList(['Musical', 'career', 'Career']),\n",
              " WordList(['career', 'Career', '2010-2013']),\n",
              " WordList(['Career', '2010-2013', 'Ra']),\n",
              " WordList(['2010-2013', 'Ra', 'began']),\n",
              " WordList(['Ra', 'began', 'studying']),\n",
              " WordList(['began', 'studying', 'the']),\n",
              " WordList(['studying', 'the', 'theremin']),\n",
              " WordList(['the', 'theremin', 'in']),\n",
              " WordList(['theremin', 'in', '2001']),\n",
              " WordList(['in', '2001', 'debuting']),\n",
              " WordList(['2001', 'debuting', 'with']),\n",
              " WordList(['debuting', 'with', 'the']),\n",
              " WordList(['with', 'the', 'orchestral']),\n",
              " WordList(['the', 'orchestral', 'group']),\n",
              " WordList(['orchestral', 'group', 'Antony']),\n",
              " WordList(['group', 'Antony', 'the']),\n",
              " WordList(['Antony', 'the', 'Johnsons']),\n",
              " WordList(['the', 'Johnsons', 'in']),\n",
              " WordList(['Johnsons', 'in', 'New']),\n",
              " WordList(['in', 'New', 'York']),\n",
              " WordList(['New', 'York', 'City']),\n",
              " WordList(['York', 'City', 'Ra']),\n",
              " WordList(['City', 'Ra', 'has']),\n",
              " WordList(['Ra', 'has', 'played']),\n",
              " WordList(['has', 'played', 'at']),\n",
              " WordList(['played', 'at', 'the']),\n",
              " WordList(['at', 'the', 'United']),\n",
              " WordList(['the', 'United', 'Nations']),\n",
              " WordList(['United', 'Nations', 'Wiener']),\n",
              " WordList(['Nations', 'Wiener', 'Konzerthaus']),\n",
              " WordList(['Wiener', 'Konzerthaus', 'Mozartsaal']),\n",
              " WordList(['Konzerthaus', 'Mozartsaal', 'Vienna']),\n",
              " WordList(['Mozartsaal', 'Vienna', 'CBGBs']),\n",
              " WordList(['Vienna', 'CBGBs', 'Knitting']),\n",
              " WordList(['CBGBs', 'Knitting', 'Factory']),\n",
              " WordList(['Knitting', 'Factory', 'La']),\n",
              " WordList(['Factory', 'La', 'MaMa']),\n",
              " WordList(['La', 'MaMa', 'E.T.C']),\n",
              " WordList(['MaMa', 'E.T.C', 'Joe']),\n",
              " WordList(['E.T.C', 'Joe', \"'s\"]),\n",
              " WordList(['Joe', \"'s\", 'Pub']),\n",
              " WordList([\"'s\", 'Pub', 'Boulder']),\n",
              " WordList(['Pub', 'Boulder', 'Museum']),\n",
              " WordList(['Boulder', 'Museum', 'of']),\n",
              " WordList(['Museum', 'of', 'Modern']),\n",
              " WordList(['of', 'Modern', 'Art']),\n",
              " WordList(['Modern', 'Art', 'Lincoln']),\n",
              " WordList(['Art', 'Lincoln', 'Center']),\n",
              " WordList(['Lincoln', 'Center', 'The']),\n",
              " WordList(['Center', 'The', 'Gershwin']),\n",
              " WordList(['The', 'Gershwin', 'Hotel']),\n",
              " WordList(['Gershwin', 'Hotel', 'B.B']),\n",
              " WordList(['Hotel', 'B.B', 'King']),\n",
              " WordList(['B.B', 'King', 'Museum']),\n",
              " WordList(['King', 'Museum', 'and']),\n",
              " WordList(['Museum', 'and', 'Dietch']),\n",
              " WordList(['and', 'Dietch', 'Projects']),\n",
              " WordList(['Dietch', 'Projects', 'He']),\n",
              " WordList(['Projects', 'He', 'has']),\n",
              " WordList(['He', 'has', 'performed']),\n",
              " WordList(['has', 'performed', 'and']),\n",
              " WordList(['performed', 'and', 'recorded']),\n",
              " WordList(['and', 'recorded', 'with']),\n",
              " WordList(['recorded', 'with', 'various']),\n",
              " WordList(['with', 'various', 'bands']),\n",
              " WordList(['various', 'bands', 'and']),\n",
              " WordList(['bands', 'and', 'on']),\n",
              " WordList(['and', 'on', 'many']),\n",
              " WordList(['on', 'many', 'projects']),\n",
              " WordList(['many', 'projects', 'including']),\n",
              " WordList(['projects', 'including', 'a']),\n",
              " WordList(['including', 'a', 'collaboration']),\n",
              " WordList(['a', 'collaboration', 'with']),\n",
              " WordList(['collaboration', 'with', 'British']),\n",
              " WordList(['with', 'British', 'recording']),\n",
              " WordList(['British', 'recording', 'artist']),\n",
              " WordList(['recording', 'artist', 'Marc']),\n",
              " WordList(['artist', 'Marc', 'Almond']),\n",
              " WordList(['Marc', 'Almond', 'of']),\n",
              " WordList(['Almond', 'of', 'Soft']),\n",
              " WordList(['of', 'Soft', 'Cell']),\n",
              " WordList(['Soft', 'Cell', 'on']),\n",
              " WordList(['Cell', 'on', 'the']),\n",
              " WordList(['on', 'the', 'song']),\n",
              " WordList(['the', 'song', 'My']),\n",
              " WordList(['song', 'My', 'Madness']),\n",
              " WordList(['My', 'Madness', 'I']),\n",
              " WordList(['Madness', 'I', 'from']),\n",
              " WordList(['I', 'from', 'his']),\n",
              " WordList(['from', 'his', '2010']),\n",
              " WordList(['his', '2010', 'release']),\n",
              " WordList(['2010', 'release', 'Varieté']),\n",
              " WordList(['release', 'Varieté', 'His']),\n",
              " WordList(['Varieté', 'His', 'debut']),\n",
              " WordList(['His', 'debut', 'solo']),\n",
              " WordList(['debut', 'solo', 'CD']),\n",
              " WordList(['solo', 'CD', 'Plays']),\n",
              " WordList(['CD', 'Plays', 'the']),\n",
              " WordList(['Plays', 'the', 'Theremin']),\n",
              " WordList(['the', 'Theremin', 'released']),\n",
              " WordList(['Theremin', 'released', 'on']),\n",
              " WordList(['released', 'on', 'Bowl']),\n",
              " WordList(['on', 'Bowl', 'Fork']),\n",
              " WordList(['Bowl', 'Fork', 'Records']),\n",
              " WordList(['Fork', 'Records', 'in']),\n",
              " WordList(['Records', 'in', '2010']),\n",
              " WordList(['in', '2010', 'showcases']),\n",
              " WordList(['2010', 'showcases', 'many']),\n",
              " WordList(['showcases', 'many', 'classical']),\n",
              " WordList(['many', 'classical', 'Armenian']),\n",
              " WordList(['classical', 'Armenian', 'laments']),\n",
              " WordList(['Armenian', 'laments', 'and']),\n",
              " WordList(['laments', 'and', 'folk']),\n",
              " WordList(['and', 'folk', 'songs']),\n",
              " WordList(['folk', 'songs', 'Ra']),\n",
              " WordList(['songs', 'Ra', 'performed']),\n",
              " WordList(['Ra', 'performed', 'on']),\n",
              " WordList(['performed', 'on', 'the']),\n",
              " WordList(['on', 'the', 'Sharon']),\n",
              " WordList(['the', 'Sharon', 'Needles']),\n",
              " WordList(['Sharon', 'Needles', 'album']),\n",
              " WordList(['Needles', 'album', 'PG-13']),\n",
              " WordList(['album', 'PG-13', 'on']),\n",
              " WordList(['PG-13', 'on', 'band']),\n",
              " WordList(['on', 'band', 'Ministry']),\n",
              " WordList(['band', 'Ministry', \"'s\"]),\n",
              " WordList(['Ministry', \"'s\", 'cover']),\n",
              " WordList([\"'s\", 'cover', 'track']),\n",
              " WordList(['cover', 'track', 'Everyday']),\n",
              " WordList(['track', 'Everyday', 'Is']),\n",
              " WordList(['Everyday', 'Is', 'Halloween']),\n",
              " WordList(['Is', 'Halloween', 'Career']),\n",
              " WordList(['Halloween', 'Career', '2014-present']),\n",
              " WordList(['Career', '2014-present', 'In']),\n",
              " WordList(['2014-present', 'In', 'recent']),\n",
              " WordList(['In', 'recent', 'years']),\n",
              " WordList(['recent', 'years', 'Ra']),\n",
              " WordList(['years', 'Ra', 'has']),\n",
              " WordList(['Ra', 'has', 'appeared']),\n",
              " WordList(['has', 'appeared', 'in']),\n",
              " WordList(['appeared', 'in', 'the']),\n",
              " WordList(['in', 'the', 'following']),\n",
              " WordList(['the', 'following', 'works']),\n",
              " WordList(['following', 'works', 'Armen']),\n",
              " WordList(['works', 'Armen', 'plays']),\n",
              " WordList(['Armen', 'plays', 'on']),\n",
              " WordList(['plays', 'on', 'the']),\n",
              " WordList(['on', 'the', 'Current']),\n",
              " WordList(['the', 'Current', '93']),\n",
              " WordList(['Current', '93', 'album']),\n",
              " WordList(['93', 'album', 'entitled']),\n",
              " WordList(['album', 'entitled', 'HoneySuckle']),\n",
              " WordList(['entitled', 'HoneySuckle', 'Æons']),\n",
              " WordList(['HoneySuckle', 'Æons', 'He']),\n",
              " WordList(['Æons', 'He', 'appears']),\n",
              " WordList(['He', 'appears', 'in']),\n",
              " WordList(['appears', 'in', 'multiple']),\n",
              " WordList(['in', 'multiple', 'songs']),\n",
              " WordList(['multiple', 'songs', 'on']),\n",
              " WordList(['songs', 'on', 'this']),\n",
              " WordList(['on', 'this', '2011']),\n",
              " WordList(['this', '2011', 'release']),\n",
              " WordList(['2011', 'release', 'Armen']),\n",
              " WordList(['release', 'Armen', 'plays']),\n",
              " WordList(['Armen', 'plays', 'on']),\n",
              " WordList(['plays', 'on', 'the']),\n",
              " WordList(['on', 'the', 'debut']),\n",
              " WordList(['the', 'debut', 'album']),\n",
              " WordList(['debut', 'album', 'of']),\n",
              " WordList(['album', 'of', 'Sharon']),\n",
              " WordList(['of', 'Sharon', 'Needles']),\n",
              " WordList(['Sharon', 'Needles', 'The']),\n",
              " WordList(['Needles', 'The', 'songs']),\n",
              " WordList(['The', 'songs', '“']),\n",
              " WordList(['songs', '“', 'Everyday']),\n",
              " WordList(['“', 'Everyday', 'Is']),\n",
              " WordList(['Everyday', 'Is', 'Halloween']),\n",
              " WordList(['Is', 'Halloween', '”']),\n",
              " WordList(['Halloween', '”', 'and']),\n",
              " WordList(['”', 'and', '“']),\n",
              " WordList(['and', '“', 'This']),\n",
              " WordList(['“', 'This', 'Club']),\n",
              " WordList(['This', 'Club', 'Is']),\n",
              " WordList(['Club', 'Is', 'a']),\n",
              " WordList(['Is', 'a', 'Haunted']),\n",
              " WordList(['a', 'Haunted', 'House']),\n",
              " WordList(['Haunted', 'House', '”']),\n",
              " WordList(['House', '”', 'were']),\n",
              " WordList(['”', 'were', 'released']),\n",
              " WordList(['were', 'released', 'in']),\n",
              " WordList(['released', 'in', '2013']),\n",
              " WordList(['in', '2013', 'In']),\n",
              " WordList(['2013', 'In', '2014']),\n",
              " WordList(['In', '2014', 'he']),\n",
              " WordList(['2014', 'he', 'played']),\n",
              " WordList(['he', 'played', 'the']),\n",
              " WordList(['played', 'the', 'theremin']),\n",
              " WordList(['the', 'theremin', 'for']),\n",
              " WordList(['theremin', 'for', 'Voltaire']),\n",
              " WordList(['for', 'Voltaire', \"'s\"]),\n",
              " WordList(['Voltaire', \"'s\", 'album']),\n",
              " WordList([\"'s\", 'album', 'Raised']),\n",
              " WordList(['album', 'Raised', 'by']),\n",
              " WordList(['Raised', 'by', 'Bats']),\n",
              " WordList(['by', 'Bats', 'In']),\n",
              " WordList(['Bats', 'In', '2015']),\n",
              " WordList(['In', '2015', 'he']),\n",
              " WordList(['2015', 'he', 'released']),\n",
              " WordList(['he', 'released', 'Theremin']),\n",
              " WordList(['released', 'Theremin', 'Classique']),\n",
              " WordList(['Theremin', 'Classique', 'a']),\n",
              " WordList(['Classique', 'a', 'collection']),\n",
              " WordList(['a', 'collection', 'of']),\n",
              " WordList(['collection', 'of', 'European']),\n",
              " WordList(['of', 'European', 'arias']),\n",
              " WordList(['European', 'arias', 'Armen']),\n",
              " WordList(['arias', 'Armen', \"'s\"]),\n",
              " WordList(['Armen', \"'s\", 'recording']),\n",
              " WordList([\"'s\", 'recording', 'of']),\n",
              " WordList(['recording', 'of', '“']),\n",
              " WordList(['of', '“', 'Dle']),\n",
              " WordList(['“', 'Dle', 'Yaman']),\n",
              " WordList(['Dle', 'Yaman', '”']),\n",
              " WordList(['Yaman', '”', 'was']),\n",
              " WordList(['”', 'was', 'used']),\n",
              " WordList(['was', 'used', 'for']),\n",
              " WordList(['used', 'for', 'the']),\n",
              " WordList(['for', 'the', 'video']),\n",
              " WordList(['the', 'video', 'of']),\n",
              " WordList(['video', 'of', 'designer']),\n",
              " WordList(['of', 'designer', 'Michael']),\n",
              " WordList(['designer', 'Michael', 'Schmidt']),\n",
              " WordList(['Michael', 'Schmidt', '’']),\n",
              " WordList(['Schmidt', '’', 's']),\n",
              " WordList(['’', 's', '3-D']),\n",
              " WordList(['s', '3-D', 'gown']),\n",
              " WordList(['3-D', 'gown', 'in']),\n",
              " WordList(['gown', 'in', '2015']),\n",
              " WordList(['in', '2015', 'He']),\n",
              " WordList(['2015', 'He', 'was']),\n",
              " WordList(['He', 'was', 'featured']),\n",
              " WordList(['was', 'featured', 'on']),\n",
              " WordList(['featured', 'on', 'Selena']),\n",
              " WordList(['on', 'Selena', 'Gomez']),\n",
              " WordList(['Selena', 'Gomez', '’']),\n",
              " WordList(['Gomez', '’', 's']),\n",
              " WordList(['’', 's', 'Revival']),\n",
              " WordList(['s', 'Revival', 'on']),\n",
              " WordList(['Revival', 'on', 'the']),\n",
              " WordList(['on', 'the', 'track']),\n",
              " WordList(['the', 'track', '“']),\n",
              " WordList(['track', '“', 'Me']),\n",
              " WordList(['“', 'Me', 'and']),\n",
              " WordList(['Me', 'and', 'My']),\n",
              " WordList(['and', 'My', 'Girls']),\n",
              " WordList(['My', 'Girls', '”']),\n",
              " WordList(['Girls', '”', 'in']),\n",
              " WordList(['”', 'in', '2016']),\n",
              " WordList(['in', '2016', 'He']),\n",
              " WordList(['2016', 'He', 'was']),\n",
              " WordList(['He', 'was', 'featured']),\n",
              " WordList(['was', 'featured', 'on']),\n",
              " WordList(['featured', 'on', 'Gwen']),\n",
              " WordList(['on', 'Gwen', 'Stefani']),\n",
              " WordList(['Gwen', 'Stefani', '’']),\n",
              " WordList(['Stefani', '’', 's']),\n",
              " WordList(['’', 's', 'album']),\n",
              " WordList(['s', 'album', 'on']),\n",
              " WordList(['album', 'on', 'the']),\n",
              " WordList(['on', 'the', 'track']),\n",
              " WordList(['the', 'track', '“']),\n",
              " WordList(['track', '“', 'Naughty']),\n",
              " WordList(['“', 'Naughty', '”']),\n",
              " WordList(['Naughty', '”', 'in']),\n",
              " WordList(['”', 'in', '2016']),\n",
              " WordList(['in', '2016', 'He']),\n",
              " WordList(['2016', 'He', 'was']),\n",
              " WordList(['He', 'was', 'featured']),\n",
              " WordList(['was', 'featured', 'on']),\n",
              " WordList(['featured', 'on', 'track']),\n",
              " WordList(['on', 'track', '11']),\n",
              " WordList(['track', '11', 'Supernatural']),\n",
              " WordList(['11', 'Supernatural', 'of']),\n",
              " WordList(['Supernatural', 'of', 'BØRNS']),\n",
              " WordList(['of', 'BØRNS', 'Blue']),\n",
              " WordList(['BØRNS', 'Blue', 'Madonna']),\n",
              " WordList(['Blue', 'Madonna', 'Appearances']),\n",
              " WordList(['Madonna', 'Appearances', 'in']),\n",
              " WordList(['Appearances', 'in', 'Media']),\n",
              " WordList(['in', 'Media', 'He']),\n",
              " WordList(['Media', 'He', 'has']),\n",
              " WordList(['He', 'has', 'a']),\n",
              " WordList(['has', 'a', 'cameo']),\n",
              " WordList(['a', 'cameo', 'appearance']),\n",
              " WordList(['cameo', 'appearance', 'in']),\n",
              " WordList(['appearance', 'in', 'the']),\n",
              " WordList(['in', 'the', 'film']),\n",
              " WordList(['the', 'film', 'Party']),\n",
              " WordList(['film', 'Party', 'Monster']),\n",
              " WordList(['Party', 'Monster', 'Other']),\n",
              " WordList(['Monster', 'Other', 'appearances']),\n",
              " WordList(['Other', 'appearances', 'in']),\n",
              " WordList(['appearances', 'in', 'media']),\n",
              " WordList(['in', 'media', 'include']),\n",
              " WordList(['media', 'include', 'Cameo']),\n",
              " WordList(['include', 'Cameo', 'as']),\n",
              " WordList(['Cameo', 'as', 'a']),\n",
              " WordList(['as', 'a', 'desk']),\n",
              " WordList(['a', 'desk', 'clerk']),\n",
              " WordList(['desk', 'clerk', 'in']),\n",
              " WordList(['clerk', 'in', 'Tomorrow']),\n",
              " WordList(['in', 'Tomorrow', 'Always']),\n",
              " WordList(['Tomorrow', 'Always', 'Comes']),\n",
              " WordList(['Always', 'Comes', 'in']),\n",
              " WordList(['Comes', 'in', '2006']),\n",
              " WordList(['in', '2006', 'Music']),\n",
              " WordList(['2006', 'Music', 'for']),\n",
              " WordList(['Music', 'for', 'the']),\n",
              " WordList(['for', 'the', 'short']),\n",
              " WordList(['the', 'short', 'film']),\n",
              " WordList(['short', 'film', 'Connect']),\n",
              " WordList(['film', 'Connect', 'in']),\n",
              " WordList(['Connect', 'in', '2010']),\n",
              " WordList(['in', '2010', 'Guest']),\n",
              " WordList(['2010', 'Guest', 'judge']),\n",
              " WordList(['Guest', 'judge', 'on']),\n",
              " WordList(['judge', 'on', 'the']),\n",
              " WordList(['on', 'the', 'Logo']),\n",
              " WordList(['the', 'Logo', 'Network']),\n",
              " WordList(['Logo', 'Network', 'show']),\n",
              " WordList(['Network', 'show', 'The']),\n",
              " WordList(['show', 'The', 'Arrangement']),\n",
              " WordList(['The', 'Arrangement', 'Opener']),\n",
              " WordList(['Arrangement', 'Opener', 'for']),\n",
              " WordList(['Opener', 'for', 'Nick']),\n",
              " WordList(['for', 'Nick', 'Cave']),\n",
              " WordList(['Nick', 'Cave', 'The']),\n",
              " WordList(['Cave', 'The', 'Bad']),\n",
              " WordList(['The', 'Bad', 'Seeds']),\n",
              " WordList(['Bad', 'Seeds', \"'s\"]),\n",
              " WordList(['Seeds', \"'s\", 'Grinderman']),\n",
              " WordList([\"'s\", 'Grinderman', 'on']),\n",
              " WordList(['Grinderman', 'on', 'their']),\n",
              " WordList(['on', 'their', '2010']),\n",
              " WordList(['their', '2010', 'tour']),\n",
              " WordList(['2010', 'tour', 'Production']),\n",
              " WordList(['tour', 'Production', 'designer']),\n",
              " WordList(['Production', 'designer', 'for']),\n",
              " WordList(['designer', 'for', 'the']),\n",
              " WordList(['for', 'the', '2012']),\n",
              " WordList(['the', '2012', 'horror']),\n",
              " WordList(['2012', 'horror', 'movie']),\n",
              " WordList(['horror', 'movie', 'Excision']),\n",
              " WordList(['movie', 'Excision', 'Release']),\n",
              " WordList(['Excision', 'Release', 'of']),\n",
              " WordList(['Release', 'of', 'the']),\n",
              " WordList(['of', 'the', 'documentary']),\n",
              " WordList(['the', 'documentary', 'When']),\n",
              " WordList(['documentary', 'When', 'My']),\n",
              " WordList(['When', 'My', 'Sorrow']),\n",
              " WordList(['My', 'Sorrow', 'Died']),\n",
              " WordList(['Sorrow', 'Died', 'The']),\n",
              " WordList(['Died', 'The', 'Legend']),\n",
              " WordList(['The', 'Legend', 'of']),\n",
              " WordList(['Legend', 'of', 'Armen']),\n",
              " WordList(['of', 'Armen', 'Ra']),\n",
              " WordList(['Armen', 'Ra', 'the']),\n",
              " WordList(['Ra', 'the', 'Theremin']),\n",
              " WordList(['the', 'Theremin', 'Music']),\n",
              " WordList(['Theremin', 'Music', 'for']),\n",
              " WordList(['Music', 'for', 'the']),\n",
              " WordList(['for', 'the', 'movie']),\n",
              " WordList(['the', 'movie', 'Hara']),\n",
              " WordList(['movie', 'Hara', 'Kiri']),\n",
              " WordList(['Hara', 'Kiri', 'in']),\n",
              " WordList(['Kiri', 'in', '2016']),\n",
              " WordList(['in', '2016', 'Promotional']),\n",
              " WordList(['2016', 'Promotional', 'videos']),\n",
              " WordList(['Promotional', 'videos', 'for']),\n",
              " WordList(['videos', 'for', 'electropop']),\n",
              " WordList(['for', 'electropop', 'artist']),\n",
              " WordList(['electropop', 'artist', 'BØRNS']),\n",
              " WordList(['artist', 'BØRNS', 'entitled']),\n",
              " WordList(['BØRNS', 'entitled', 'The']),\n",
              " WordList(['entitled', 'The', 'Search']),\n",
              " WordList(['The', 'Search', 'for']),\n",
              " WordList(['Search', 'for', 'the']),\n",
              " WordList(['for', 'the', 'Lost']),\n",
              " WordList(['the', 'Lost', 'Sounds']),\n",
              " WordList(['Lost', 'Sounds', 'and']),\n",
              " WordList(['Sounds', 'and', 'The']),\n",
              " WordList(['and', 'The', 'Faded']),\n",
              " WordList(['The', 'Faded', 'Heart']),\n",
              " WordList(['Faded', 'Heart', 'Sessions']),\n",
              " WordList(['Heart', 'Sessions', 'References']),\n",
              " WordList(['Sessions', 'References', 'External']),\n",
              " WordList(['References', 'External', 'links']),\n",
              " WordList(['External', 'links', 'Official']),\n",
              " WordList(['links', 'Official', 'Website']),\n",
              " WordList(['Official', 'Website', 'Armen']),\n",
              " WordList(['Website', 'Armen', 'Ra']),\n",
              " WordList(['Armen', 'Ra', 'at']),\n",
              " WordList(['Ra', 'at', 'a']),\n",
              " WordList(['at', 'a', 'benefit']),\n",
              " WordList(['a', 'benefit', 'concert']),\n",
              " WordList(['benefit', 'concert', 'on']),\n",
              " WordList(['concert', 'on', 'April']),\n",
              " WordList(['on', 'April', '4']),\n",
              " WordList(['April', '4', 'at']),\n",
              " WordList(['4', 'at', 'the']),\n",
              " WordList(['at', 'the', 'Angel']),\n",
              " WordList(['the', 'Angel', 'Orensanz']),\n",
              " WordList(['Angel', 'Orensanz', 'Center']),\n",
              " WordList(['Orensanz', 'Center', 'in']),\n",
              " WordList(['Center', 'in', 'New']),\n",
              " WordList(['in', 'New', 'York'])]"
            ]
          },
          "metadata": {
            "tags": []
          },
          "execution_count": 60
        }
      ]
    },
    {
      "cell_type": "code",
      "metadata": {
        "id": "3QIzQFqtn1_j",
        "colab": {
          "base_uri": "https://localhost:8080/",
          "height": 34
        },
        "outputId": "37dfd06d-4b1d-482d-a54b-55da4f098e83"
      },
      "source": [
        "#The sentiment of Armen Ra's page is in a informational, neutral tone\n",
        "testimonial = TextBlob(page.content)\n",
        "testimonial.sentiment"
      ],
      "execution_count": null,
      "outputs": [
        {
          "output_type": "execute_result",
          "data": {
            "text/plain": [
              "Sentiment(polarity=0.006088664421997764, subjectivity=0.30434904601571267)"
            ]
          },
          "metadata": {
            "tags": []
          },
          "execution_count": 61
        }
      ]
    },
    {
      "cell_type": "markdown",
      "metadata": {
        "id": "tSoJ_Wm0nI73"
      },
      "source": [
        "### Communication of Results"
      ]
    },
    {
      "cell_type": "markdown",
      "metadata": {
        "id": "8ILhIORAD6K1"
      },
      "source": [
        "Ultimately, the sentiment analysis for Armen Ra's page shows the tone is primarily informational, objective, and neutral. When using Nearest Neighbors or Model Most Similar to identify Wikipedia pages similar to Armen Ra's, there were different results presented based on the method was used. Nearest Neighbors presented pages of individuals that had similarly neutral tones, while Most Similar showed individuals in similar industries as Armen Ra. The natural language processing tools at times output errors in Armen Ra's name and typos throughout the content. Consider further analysis into algorithmic bias present within the natural language processing tools and alternative data analysis and visualization methods available."
      ]
    },
    {
      "cell_type": "markdown",
      "metadata": {
        "id": "E6YPCAqz2Kry"
      },
      "source": [
        "## Live Coding"
      ]
    },
    {
      "cell_type": "markdown",
      "metadata": {
        "id": "e_fZ6G0h2Tas"
      },
      "source": [
        "In addition to presenting our slides to each other, at the end of the presentation each analyst will demonstrate their code using a famous person randomly selected from the database."
      ]
    },
    {
      "cell_type": "code",
      "metadata": {
        "id": "87KyTcSglnbP"
      },
      "source": [
        "Roddy = people_df[people_df['name'].str.contains('Roddy Piper')]"
      ],
      "execution_count": null,
      "outputs": []
    },
    {
      "cell_type": "code",
      "metadata": {
        "id": "YbmAyyk8lyn-",
        "colab": {
          "base_uri": "https://localhost:8080/",
          "height": 97
        },
        "outputId": "7dab9f34-c2aa-4d25-b514-1b180c4c9c53"
      },
      "source": [
        "Roddy"
      ],
      "execution_count": null,
      "outputs": [
        {
          "output_type": "execute_result",
          "data": {
            "text/html": [
              "<div>\n",
              "<style scoped>\n",
              "    .dataframe tbody tr th:only-of-type {\n",
              "        vertical-align: middle;\n",
              "    }\n",
              "\n",
              "    .dataframe tbody tr th {\n",
              "        vertical-align: top;\n",
              "    }\n",
              "\n",
              "    .dataframe thead th {\n",
              "        text-align: right;\n",
              "    }\n",
              "</style>\n",
              "<table border=\"1\" class=\"dataframe\">\n",
              "  <thead>\n",
              "    <tr style=\"text-align: right;\">\n",
              "      <th></th>\n",
              "      <th>URI</th>\n",
              "      <th>name</th>\n",
              "      <th>text</th>\n",
              "    </tr>\n",
              "  </thead>\n",
              "  <tbody>\n",
              "    <tr>\n",
              "      <th>32819</th>\n",
              "      <td>&lt;http://dbpedia.org/resource/Roddy_Piper&gt;</td>\n",
              "      <td>Roddy Piper</td>\n",
              "      <td>roderick roddy george toombs born april 17 195...</td>\n",
              "    </tr>\n",
              "  </tbody>\n",
              "</table>\n",
              "</div>"
            ],
            "text/plain": [
              "                                             URI  ...                                               text\n",
              "32819  <http://dbpedia.org/resource/Roddy_Piper>  ...  roderick roddy george toombs born april 17 195...\n",
              "\n",
              "[1 rows x 3 columns]"
            ]
          },
          "metadata": {
            "tags": []
          },
          "execution_count": 72
        }
      ]
    },
    {
      "cell_type": "code",
      "metadata": {
        "id": "epQdbgeA3WrS",
        "colab": {
          "base_uri": "https://localhost:8080/",
          "height": 187
        },
        "outputId": "7968e120-86f7-4675-a4b9-79fae3eecea6"
      },
      "source": [
        "wikipedia.search('Roddy Piper')\n",
        "\n"
      ],
      "execution_count": null,
      "outputs": [
        {
          "output_type": "execute_result",
          "data": {
            "text/plain": [
              "['Roddy Piper',\n",
              " 'Hell Comes to Frogtown',\n",
              " 'Ric Flair',\n",
              " 'Hulk Hogan',\n",
              " 'They Live',\n",
              " 'Bret Hart',\n",
              " 'WrestleMania 2',\n",
              " \"Hulk Hogan's Rock 'n' Wrestling\",\n",
              " 'Pro Wrestlers vs Zombies',\n",
              " 'Starrcade (1996)']"
            ]
          },
          "metadata": {
            "tags": []
          },
          "execution_count": 73
        }
      ]
    },
    {
      "cell_type": "code",
      "metadata": {
        "id": "py7Mh7bzgiG6",
        "colab": {
          "base_uri": "https://localhost:8080/",
          "height": 256
        },
        "outputId": "ea5e0897-28b1-413b-e9d7-a09a93928dd3"
      },
      "source": [
        "wikipedia.summary('Roddy Piper')\n"
      ],
      "execution_count": null,
      "outputs": [
        {
          "output_type": "execute_result",
          "data": {
            "application/vnd.google.colaboratory.intrinsic+json": {
              "type": "string"
            },
            "text/plain": [
              "'Roderick George Toombs (April 17, 1954 – July 31, 2015) was a Canadian professional wrestler, amateur wrestler, amateur boxer, and actor, better known by his ring name \"Rowdy\" Roddy Piper.\\nIn professional wrestling, Piper was best known to international audiences for his work with the World Wrestling Federation (WWF, now WWE) and World Championship Wrestling (WCW) between 1984 and 2000. Although he was Canadian, because of his Scottish heritage he was billed as coming from Glasgow and was known for his signature kilt and bagpipe entrance music. Piper earned the nicknames \"Rowdy\" and \"Hot Rod\" by displaying his trademark \"Scottish\" rage, spontaneity, and quick wit. According to The Daily Telegraph, he is \"considered by many to be the greatest \\'heel\\' (or villain) wrestler ever\".One of wrestling\\'s most recognizable stars, Piper headlined multiple PPV events, including the WWF and WCW\\'s respective premier annual events, WrestleMania and Starrcade. He accumulated 34 championships and hosted the popular WWF/E interview segment \"Piper\\'s Pit\", which facilitated numerous feuds. In 2005, Piper was inducted into the WWE Hall of Fame by Ric Flair, who dubbed him \"the most gifted entertainer in the history of professional wrestling\".Outside of wrestling, Piper acted in dozens of films and TV shows, most notably taking the lead role of John Nada in the 1988 cult classic They Live and a recurring role as a deranged professional wrestler called Da\\' Maniac on the FX comedy series It\\'s Always Sunny in Philadelphia. He is also widely known for his role in Hell Comes to Frogtown as the character Sam Hell.\\n\\n'"
            ]
          },
          "metadata": {
            "tags": []
          },
          "execution_count": 74
        }
      ]
    },
    {
      "cell_type": "code",
      "metadata": {
        "id": "IgzW25SEgjaU",
        "colab": {
          "base_uri": "https://localhost:8080/",
          "height": 34
        },
        "outputId": "13bb7bb8-27da-4106-b853-8f1c69d66e17"
      },
      "source": [
        "wikipedia.page('Roddy Piper')\n"
      ],
      "execution_count": null,
      "outputs": [
        {
          "output_type": "execute_result",
          "data": {
            "text/plain": [
              "<WikipediaPage 'Roddy Piper'>"
            ]
          },
          "metadata": {
            "tags": []
          },
          "execution_count": 75
        }
      ]
    },
    {
      "cell_type": "code",
      "metadata": {
        "id": "a_rGKFRIgoN6",
        "colab": {
          "base_uri": "https://localhost:8080/",
          "height": 35
        },
        "outputId": "c1990c24-1989-4233-9779-8eeb4503a9c5"
      },
      "source": [
        "wikipedia.page('Roddy Piper').url"
      ],
      "execution_count": null,
      "outputs": [
        {
          "output_type": "execute_result",
          "data": {
            "application/vnd.google.colaboratory.intrinsic+json": {
              "type": "string"
            },
            "text/plain": [
              "'https://en.wikipedia.org/wiki/Roddy_Piper'"
            ]
          },
          "metadata": {
            "tags": []
          },
          "execution_count": 77
        }
      ]
    },
    {
      "cell_type": "code",
      "metadata": {
        "id": "yhp1uNnonfpU"
      },
      "source": [
        "famous_page = wikipedia.page('Roddy Piper')"
      ],
      "execution_count": null,
      "outputs": []
    },
    {
      "cell_type": "code",
      "metadata": {
        "id": "BQkb-w3a5ESm",
        "colab": {
          "base_uri": "https://localhost:8080/",
          "height": 188
        },
        "outputId": "5353daa9-db10-403e-a0f5-a80c3f13dbf0"
      },
      "source": [
        "famous_page.summary"
      ],
      "execution_count": null,
      "outputs": [
        {
          "output_type": "execute_result",
          "data": {
            "application/vnd.google.colaboratory.intrinsic+json": {
              "type": "string"
            },
            "text/plain": [
              "'Roderick George Toombs (April 17, 1954 – July 31, 2015) was a Canadian professional wrestler, amateur wrestler, amateur boxer, and actor, better known by his ring name \"Rowdy\" Roddy Piper.\\nIn professional wrestling, Piper was best known to international audiences for his work with the World Wrestling Federation (WWF, now WWE) and World Championship Wrestling (WCW) between 1984 and 2000. Although he was Canadian, because of his Scottish heritage he was billed as coming from Glasgow and was known for his signature kilt and bagpipe entrance music. Piper earned the nicknames \"Rowdy\" and \"Hot Rod\" by displaying his trademark \"Scottish\" rage, spontaneity, and quick wit. According to The Daily Telegraph, he is \"considered by many to be the greatest \\'heel\\' (or villain) wrestler ever\".One of wrestling\\'s most recognizable stars, Piper headlined multiple PPV events, including the WWF and WCW\\'s respective premier annual events, WrestleMania and Starrcade. He accumulated 34 championships and hosted the popular WWF/E interview segment \"Piper\\'s Pit\", which facilitated numerous feuds. In 2005, Piper was inducted into the WWE Hall of Fame by Ric Flair, who dubbed him \"the most gifted entertainer in the history of professional wrestling\".Outside of wrestling, Piper acted in dozens of films and TV shows, most notably taking the lead role of John Nada in the 1988 cult classic They Live and a recurring role as a deranged professional wrestler called Da\\' Maniac on the FX comedy series It\\'s Always Sunny in Philadelphia. He is also widely known for his role in Hell Comes to Frogtown as the character Sam Hell.\\n\\n'"
            ]
          },
          "metadata": {
            "tags": []
          },
          "execution_count": 88
        }
      ]
    },
    {
      "cell_type": "code",
      "metadata": {
        "id": "orCYRMlO2WUm"
      },
      "source": [
        "testimonial = TextBlob(famous_page.content)"
      ],
      "execution_count": null,
      "outputs": []
    },
    {
      "cell_type": "code",
      "metadata": {
        "id": "j901egph3VI3",
        "colab": {
          "base_uri": "https://localhost:8080/",
          "height": 34
        },
        "outputId": "662e4e8d-3ccc-4f19-8dec-69667e2e33dd"
      },
      "source": [
        "testimonial.sentiment"
      ],
      "execution_count": null,
      "outputs": [
        {
          "output_type": "execute_result",
          "data": {
            "text/plain": [
              "Sentiment(polarity=0.08889616748991759, subjectivity=0.4185351839518508)"
            ]
          },
          "metadata": {
            "tags": []
          },
          "execution_count": 90
        }
      ]
    },
    {
      "cell_type": "markdown",
      "metadata": {
        "id": "ICZdBs2kf4Hp"
      },
      "source": [
        "Nearest Neighbors"
      ]
    },
    {
      "cell_type": "code",
      "metadata": {
        "id": "tO4txQdgfvu8",
        "colab": {
          "base_uri": "https://localhost:8080/",
          "height": 54
        },
        "outputId": "919f5399-8cff-4f3f-a5d3-e2ee8815d20c"
      },
      "source": [
        "people_df1 = [people_df.iloc[32819]['text']]\n",
        "people_df1"
      ],
      "execution_count": null,
      "outputs": [
        {
          "output_type": "execute_result",
          "data": {
            "text/plain": [
              "['roderick roddy george toombs born april 17 1954 better known by his ring name rowdy roddy piper is a retired canadian professional wrestler film actor and podcast host per a wwe legends contract he makes occasional tv and promotional appearances for the company in professional wrestling he is best known for his work with the world wrestling federation wwf now wwe although he is canadian due to his scottish heritage he was billed as coming from glasgow in scotland and was known for his signature kilt and bagpipe entrance music he earned the nickname rowdy by displaying his trademark scottish rage spontaneity and quick wit despite being a crowd favorite for his rockstarlike persona he often played the villain he was also nicknamed hot rodpiper headlined several major payperview events he participated in the main events of wrestlemania i and wrestlemania x as a special guest referee in the latter never a world champion he nevertheless accumulated 34 championships in various promotions during his career piper was inducted into the wwe hall of fame in 2005 and named no 1 of the top 50 villains in wrestling history by the wwe piper currently hosts a podcast titled pipers pit on podcastone']"
            ]
          },
          "metadata": {
            "tags": []
          },
          "execution_count": 92
        }
      ]
    },
    {
      "cell_type": "code",
      "metadata": {
        "id": "PukKNqgPf5xa",
        "colab": {
          "base_uri": "https://localhost:8080/",
          "height": 68
        },
        "outputId": "7bc92bc8-f5bf-4fdd-d211-92d99c0082c8"
      },
      "source": [
        "nn = NearestNeighbors(metric='euclidean')\n",
        "nn.fit(word_weight)"
      ],
      "execution_count": null,
      "outputs": [
        {
          "output_type": "execute_result",
          "data": {
            "text/plain": [
              "NearestNeighbors(algorithm='auto', leaf_size=30, metric='euclidean',\n",
              "                 metric_params=None, n_jobs=None, n_neighbors=5, p=2,\n",
              "                 radius=1.0)"
            ]
          },
          "metadata": {
            "tags": []
          },
          "execution_count": 93
        }
      ]
    },
    {
      "cell_type": "code",
      "metadata": {
        "id": "VGmDHZPIgL4d",
        "colab": {
          "base_uri": "https://localhost:8080/",
          "height": 34
        },
        "outputId": "d23aa219-171a-49cf-9ad7-553a8b57d41d"
      },
      "source": [
        "roddy_index = people_df[people_df['name'] == 'Roddy Piper'].index[0]\n",
        "roddy_index"
      ],
      "execution_count": null,
      "outputs": [
        {
          "output_type": "execute_result",
          "data": {
            "text/plain": [
              "32819"
            ]
          },
          "metadata": {
            "tags": []
          },
          "execution_count": 94
        }
      ]
    },
    {
      "cell_type": "code",
      "metadata": {
        "id": "XOHur8Unoe4K"
      },
      "source": [
        "distances, indices = nn.kneighbors(word_weight[roddy_index], n_neighbors=11)"
      ],
      "execution_count": null,
      "outputs": []
    },
    {
      "cell_type": "code",
      "metadata": {
        "id": "oNYUu3ByotUm",
        "colab": {
          "base_uri": "https://localhost:8080/",
          "height": 68
        },
        "outputId": "e8ad5b5a-1f93-423d-96b7-76100a6994a3"
      },
      "source": [
        "distances"
      ],
      "execution_count": null,
      "outputs": [
        {
          "output_type": "execute_result",
          "data": {
            "text/plain": [
              "array([[ 0.        , 15.32970972, 15.39480432, 15.39480432, 15.45962483,\n",
              "        15.90597372, 16.09347694, 16.21727474, 16.21727474, 16.21727474,\n",
              "        16.2788206 ]])"
            ]
          },
          "metadata": {
            "tags": []
          },
          "execution_count": 96
        }
      ]
    },
    {
      "cell_type": "code",
      "metadata": {
        "id": "FeeJjiYfoudf",
        "colab": {
          "base_uri": "https://localhost:8080/",
          "height": 51
        },
        "outputId": "3a198269-4171-4ca9-dd93-b94040be5b2a"
      },
      "source": [
        "indices"
      ],
      "execution_count": null,
      "outputs": [
        {
          "output_type": "execute_result",
          "data": {
            "text/plain": [
              "array([[32819, 15845,  2037, 18432, 19757, 21038, 35633, 35976,  3689,\n",
              "        28802, 32308]])"
            ]
          },
          "metadata": {
            "tags": []
          },
          "execution_count": 97
        }
      ]
    },
    {
      "cell_type": "code",
      "metadata": {
        "id": "BdFhIxKWovc1",
        "colab": {
          "base_uri": "https://localhost:8080/",
          "height": 390
        },
        "outputId": "396353bd-439d-454e-b2c1-e01d1ae692d7"
      },
      "source": [
        "people_df.iloc[indices[0],:]"
      ],
      "execution_count": null,
      "outputs": [
        {
          "output_type": "execute_result",
          "data": {
            "text/html": [
              "<div>\n",
              "<style scoped>\n",
              "    .dataframe tbody tr th:only-of-type {\n",
              "        vertical-align: middle;\n",
              "    }\n",
              "\n",
              "    .dataframe tbody tr th {\n",
              "        vertical-align: top;\n",
              "    }\n",
              "\n",
              "    .dataframe thead th {\n",
              "        text-align: right;\n",
              "    }\n",
              "</style>\n",
              "<table border=\"1\" class=\"dataframe\">\n",
              "  <thead>\n",
              "    <tr style=\"text-align: right;\">\n",
              "      <th></th>\n",
              "      <th>URI</th>\n",
              "      <th>name</th>\n",
              "      <th>text</th>\n",
              "    </tr>\n",
              "  </thead>\n",
              "  <tbody>\n",
              "    <tr>\n",
              "      <th>32819</th>\n",
              "      <td>&lt;http://dbpedia.org/resource/Roddy_Piper&gt;</td>\n",
              "      <td>Roddy Piper</td>\n",
              "      <td>roderick roddy george toombs born april 17 195...</td>\n",
              "    </tr>\n",
              "    <tr>\n",
              "      <th>15845</th>\n",
              "      <td>&lt;http://dbpedia.org/resource/Lita_(wrestler)&gt;</td>\n",
              "      <td>Lita (wrestler)</td>\n",
              "      <td>amy christine dumas born april 14 1975 better ...</td>\n",
              "    </tr>\n",
              "    <tr>\n",
              "      <th>2037</th>\n",
              "      <td>&lt;http://dbpedia.org/resource/William_Regal&gt;</td>\n",
              "      <td>William Regal</td>\n",
              "      <td>darren kenneth matthews born 10 may 1968 is a ...</td>\n",
              "    </tr>\n",
              "    <tr>\n",
              "      <th>18432</th>\n",
              "      <td>&lt;http://dbpedia.org/resource/Jake_Roberts&gt;</td>\n",
              "      <td>Jake Roberts</td>\n",
              "      <td>aurelian smith jr born may 30 1955 is a semire...</td>\n",
              "    </tr>\n",
              "    <tr>\n",
              "      <th>19757</th>\n",
              "      <td>&lt;http://dbpedia.org/resource/Sable_(wrestler)&gt;</td>\n",
              "      <td>Sable (wrestler)</td>\n",
              "      <td>rena marlette lesnar born rena greek born augu...</td>\n",
              "    </tr>\n",
              "    <tr>\n",
              "      <th>21038</th>\n",
              "      <td>&lt;http://dbpedia.org/resource/Trish_Stratus&gt;</td>\n",
              "      <td>Trish Stratus</td>\n",
              "      <td>patricia anne stratigias strtdis born december...</td>\n",
              "    </tr>\n",
              "    <tr>\n",
              "      <th>35633</th>\n",
              "      <td>&lt;http://dbpedia.org/resource/Marie_Brassard&gt;</td>\n",
              "      <td>Marie Brassard</td>\n",
              "      <td>marie brassard is a quebec actress author and ...</td>\n",
              "    </tr>\n",
              "    <tr>\n",
              "      <th>35976</th>\n",
              "      <td>&lt;http://dbpedia.org/resource/Rocky_Dzidzornu&gt;</td>\n",
              "      <td>Rocky Dzidzornu</td>\n",
              "      <td>rocky dzidzornu also known as rocky dijon is a...</td>\n",
              "    </tr>\n",
              "    <tr>\n",
              "      <th>3689</th>\n",
              "      <td>&lt;http://dbpedia.org/resource/Ralph_McTell&gt;</td>\n",
              "      <td>Ralph McTell</td>\n",
              "      <td>ralph mctell born ralph may 3 december 1944 is...</td>\n",
              "    </tr>\n",
              "    <tr>\n",
              "      <th>28802</th>\n",
              "      <td>&lt;http://dbpedia.org/resource/The_Undertaker&gt;</td>\n",
              "      <td>The Undertaker</td>\n",
              "      <td>mark william calaway born march 24 1965 better...</td>\n",
              "    </tr>\n",
              "    <tr>\n",
              "      <th>32308</th>\n",
              "      <td>&lt;http://dbpedia.org/resource/Julio_Palau_Lozano&gt;</td>\n",
              "      <td>Julio Palau Lozano</td>\n",
              "      <td>julio palau lozano alginet 1925 was a reputed ...</td>\n",
              "    </tr>\n",
              "  </tbody>\n",
              "</table>\n",
              "</div>"
            ],
            "text/plain": [
              "                                                    URI  ...                                               text\n",
              "32819         <http://dbpedia.org/resource/Roddy_Piper>  ...  roderick roddy george toombs born april 17 195...\n",
              "15845     <http://dbpedia.org/resource/Lita_(wrestler)>  ...  amy christine dumas born april 14 1975 better ...\n",
              "2037        <http://dbpedia.org/resource/William_Regal>  ...  darren kenneth matthews born 10 may 1968 is a ...\n",
              "18432        <http://dbpedia.org/resource/Jake_Roberts>  ...  aurelian smith jr born may 30 1955 is a semire...\n",
              "19757    <http://dbpedia.org/resource/Sable_(wrestler)>  ...  rena marlette lesnar born rena greek born augu...\n",
              "21038       <http://dbpedia.org/resource/Trish_Stratus>  ...  patricia anne stratigias strtdis born december...\n",
              "35633      <http://dbpedia.org/resource/Marie_Brassard>  ...  marie brassard is a quebec actress author and ...\n",
              "35976     <http://dbpedia.org/resource/Rocky_Dzidzornu>  ...  rocky dzidzornu also known as rocky dijon is a...\n",
              "3689         <http://dbpedia.org/resource/Ralph_McTell>  ...  ralph mctell born ralph may 3 december 1944 is...\n",
              "28802      <http://dbpedia.org/resource/The_Undertaker>  ...  mark william calaway born march 24 1965 better...\n",
              "32308  <http://dbpedia.org/resource/Julio_Palau_Lozano>  ...  julio palau lozano alginet 1925 was a reputed ...\n",
              "\n",
              "[11 rows x 3 columns]"
            ]
          },
          "metadata": {
            "tags": []
          },
          "execution_count": 101
        }
      ]
    },
    {
      "cell_type": "code",
      "metadata": {
        "id": "uUsKDb4cpm39",
        "colab": {
          "base_uri": "https://localhost:8080/",
          "height": 188
        },
        "outputId": "f59b367e-0c2a-4159-c7d4-592867deffa0"
      },
      "source": [
        "people_df.iloc[2037]['text']"
      ],
      "execution_count": null,
      "outputs": [
        {
          "output_type": "execute_result",
          "data": {
            "application/vnd.google.colaboratory.intrinsic+json": {
              "type": "string"
            },
            "text/plain": [
              "'darren kenneth matthews born 10 may 1968 is a semiretired english professional wrestler trainer talent scout author and color commentator he is currently signed to wwe under the ring name william regal he is also known for his time in wcw under the ring name steven regal having started his career on a rare surviving carnival booth in britain he moved on to wrestle for nationallevel promotions on the british wrestling circuit and on british television he then progressed to touring around the world in countries such as germany and south africa before being called up to wcw in 1993in 2000 after leaving wcw matthews joined the world wrestling federation later world wrestling entertainment wwe where he became commissioner more recently he has been general manager of raw the 2008 king of the ring and the official match coordinator for nxt redemption in 2011 he is currently the general manager of nxt he has achieved considerable championship success in professional wrestling although he has never been a world champion throughout his career he has won several titles including four in wcw and 15 in wwe he has overcome multiple drug problems as well as a major heart defect during his career and has written an autobiography'"
            ]
          },
          "metadata": {
            "tags": []
          },
          "execution_count": 102
        }
      ]
    },
    {
      "cell_type": "code",
      "metadata": {
        "id": "z-1f-Lf3ptCf",
        "colab": {
          "base_uri": "https://localhost:8080/",
          "height": 188
        },
        "outputId": "95a8d976-fda6-43b2-ea43-8cb7c49b97d6"
      },
      "source": [
        "people_df.iloc[18432]['text']"
      ],
      "execution_count": null,
      "outputs": [
        {
          "output_type": "execute_result",
          "data": {
            "application/vnd.google.colaboratory.intrinsic+json": {
              "type": "string"
            },
            "text/plain": [
              "'aurelian smith jr born may 30 1955 is a semiretired american professional wrestler and the son of former wrestler aurelian grizzly smith he is best known by his ring name of jake the snake roberts and often brought snakes into the ring most famously a python named damienroberts is best known for his two stints in the world wrestling federationthe first between 1986 and 1992 and the second between 1996 and 1997 he wrestled in the national wrestling alliance in 1983 world championship wrestling in 1992 and the mexicobased asistencia asesora y administracin between 1993 and 1994 and again in 1997 he appeared in extreme championship wrestling during the summer of 1997 and made appearances for total nonstop action wrestling from 2006 through 2008throughout his career he was known for his intense and cerebral promos his dark charisma his extensive use of psychology in his matches and has been credited as inventor of the ddt maneuver which has been named the coolest maneuver of all time by the wwe roberts was also one of the subjects of the 1999 documentary film beyond the mat in 2012 roberts moved in with fellow wrestler diamond dallas page to seek help in getting his life back on track following years of alcohol and drug abuse he was inducted into the wwe hall of fame by page on april 5 2014'"
            ]
          },
          "metadata": {
            "tags": []
          },
          "execution_count": 103
        }
      ]
    },
    {
      "cell_type": "code",
      "metadata": {
        "id": "262xZ13zp5Fk",
        "colab": {
          "base_uri": "https://localhost:8080/",
          "height": 188
        },
        "outputId": "46259e08-3adf-46f2-ff87-d1647bdee8a9"
      },
      "source": [
        "people_df.iloc[21038]['text']"
      ],
      "execution_count": null,
      "outputs": [
        {
          "output_type": "execute_result",
          "data": {
            "application/vnd.google.colaboratory.intrinsic+json": {
              "type": "string"
            },
            "text/plain": [
              "'patricia anne stratigias strtdis born december 18 1975 is a canadian retired professional wrestler former fitness model and fitness guru actress and television personality better known by her stage name and former ring name trish stratus she is best known for her tenure with wweafter beginning her career as a fitness model stratus began working for the world wrestling federation wwf which was later renamed world wrestling entertainment wwe early in her career she was involved in sexually themed storylines such as managing the team t a and an affair with vince mcmahon as stratus spent more time in the ring her perceived wrestling skills strengthened and her popularity increased because of this she was made a onetime wwe hardcore champion threetime wwe babe of the year and was proclaimed diva of the decade after nearly seven years in the business stratus retired from professional wrestling at wwe unforgiven on september 17 2006 after winning her seventh wwe womens championship the most in wwe history in 2011 stratus was a trainer for wwe tough enough and she was inducted into the wwe hall of fame in 2013aside from professional wrestling stratus appeared on a number of magazine covers and has been involved in charity work she has also hosted several award and television shows and owns a yoga studio'"
            ]
          },
          "metadata": {
            "tags": []
          },
          "execution_count": 104
        }
      ]
    },
    {
      "cell_type": "code",
      "metadata": {
        "id": "cqUuZc8Uqju4",
        "colab": {
          "base_uri": "https://localhost:8080/",
          "height": 188
        },
        "outputId": "351196dd-9027-4f4c-f9eb-67efd9d34067"
      },
      "source": [
        "people_df.iloc[35633]['text']"
      ],
      "execution_count": null,
      "outputs": [
        {
          "output_type": "execute_result",
          "data": {
            "application/vnd.google.colaboratory.intrinsic+json": {
              "type": "string"
            },
            "text/plain": [
              "'marie brassard is a quebec actress author and theatre director living in montreal for many years her professional endeavors were closely linked with robert lepage under his direction she participated along with other artists in the creation of several plays and films among them the dragons trilogy polygraph the seven streams of the river ota and geometry of miraclesin 2001 she created her first solo production jimmy within the framework of the festival de thtre des amriques now festival transamriques in the meantime she has produced six other works the darkness peepshow the glass eye with louis negin the invisible me talking to myself in the future and trieste in which she has continued to experiment with technology and explore the many ways with which sound can be manipulated in theater by interlacing voices and music and traversing the planes of reality she leads audiences to a world where the boundaries between public and private dissolve and the relationship between human beings and technology becomes intimate her unique work performed both in english and french has made her a singular voice in contemporary theater receiving widespread acclaim in many cities across america europe and australiashe is the artistic director of the production company infrarouge'"
            ]
          },
          "metadata": {
            "tags": []
          },
          "execution_count": 105
        }
      ]
    }
  ]
}